{
 "cells": [
  {
   "cell_type": "code",
   "execution_count": 2,
   "id": "93b3d929-dbfc-41d7-bdca-4982526e02e1",
   "metadata": {
    "tags": []
   },
   "outputs": [],
   "source": [
    "from pathlib import Path\n",
    "import pandas as pd\n"
   ]
  },
  {
   "cell_type": "code",
   "execution_count": 3,
   "id": "48ae6354-595e-48c8-be25-a19dc86f530c",
   "metadata": {
    "tags": []
   },
   "outputs": [],
   "source": [
    "data_path = Path('mock/data')"
   ]
  },
  {
   "cell_type": "code",
   "execution_count": 8,
   "id": "e4abe693-5d45-402e-a592-f7db1e8668a1",
   "metadata": {
    "tags": []
   },
   "outputs": [
    {
     "data": {
      "text/plain": [
       "[         bmi\n",
       " 0   26.63187\n",
       " 1   23.24236\n",
       " 2   27.11609\n",
       " 3   27.43554\n",
       " 4   28.69720\n",
       " ..       ...\n",
       " 95  27.34205\n",
       " 96  27.34205\n",
       " 97  31.63544\n",
       " 98  20.65988\n",
       " 99  20.46840\n",
       " \n",
       " [100 rows x 1 columns],\n",
       "      age\n",
       " 0   70.0\n",
       " 1   70.0\n",
       " 2   55.0\n",
       " 3   88.0\n",
       " 4   75.0\n",
       " ..   ...\n",
       " 95  73.0\n",
       " 96  73.0\n",
       " 97  53.0\n",
       " 98  57.0\n",
       " 99  60.0\n",
       " \n",
       " [100 rows x 1 columns],\n",
       "     event_happened  event_time\n",
       " 0             True       297.0\n",
       " 1             True         1.0\n",
       " 2             True      1496.0\n",
       " 3             True       920.0\n",
       " 4             True      1671.0\n",
       " ..             ...         ...\n",
       " 95           False      2145.0\n",
       " 96           False      2125.0\n",
       " 97           False      1920.0\n",
       " 98           False      2025.0\n",
       " 99           False      1887.0\n",
       " \n",
       " [100 rows x 2 columns]]"
      ]
     },
     "execution_count": 8,
     "metadata": {},
     "output_type": "execute_result"
    }
   ],
   "source": [
    "dfs=[]\n",
    "\n",
    "for f in data_path.iterdir():\n",
    "    if str(f).endswith('parquet'):\n",
    "        dfs.append( pd.read_parquet(f))\n",
    "        \n",
    "dfs"
   ]
  },
  {
   "cell_type": "code",
   "execution_count": 11,
   "id": "097c9224-097b-489a-a123-e124ae79cb67",
   "metadata": {
    "tags": []
   },
   "outputs": [
    {
     "data": {
      "text/html": [
       "<div>\n",
       "<style scoped>\n",
       "    .dataframe tbody tr th:only-of-type {\n",
       "        vertical-align: middle;\n",
       "    }\n",
       "\n",
       "    .dataframe tbody tr th {\n",
       "        vertical-align: top;\n",
       "    }\n",
       "\n",
       "    .dataframe thead th {\n",
       "        text-align: right;\n",
       "    }\n",
       "</style>\n",
       "<table border=\"1\" class=\"dataframe\">\n",
       "  <thead>\n",
       "    <tr style=\"text-align: right;\">\n",
       "      <th></th>\n",
       "      <th>bmi</th>\n",
       "      <th>age</th>\n",
       "      <th>event_happened</th>\n",
       "      <th>event_time</th>\n",
       "    </tr>\n",
       "  </thead>\n",
       "  <tbody>\n",
       "    <tr>\n",
       "      <th>0</th>\n",
       "      <td>26.63187</td>\n",
       "      <td>70.0</td>\n",
       "      <td>True</td>\n",
       "      <td>297.0</td>\n",
       "    </tr>\n",
       "    <tr>\n",
       "      <th>1</th>\n",
       "      <td>23.24236</td>\n",
       "      <td>70.0</td>\n",
       "      <td>True</td>\n",
       "      <td>1.0</td>\n",
       "    </tr>\n",
       "    <tr>\n",
       "      <th>2</th>\n",
       "      <td>27.11609</td>\n",
       "      <td>55.0</td>\n",
       "      <td>True</td>\n",
       "      <td>1496.0</td>\n",
       "    </tr>\n",
       "    <tr>\n",
       "      <th>3</th>\n",
       "      <td>27.43554</td>\n",
       "      <td>88.0</td>\n",
       "      <td>True</td>\n",
       "      <td>920.0</td>\n",
       "    </tr>\n",
       "    <tr>\n",
       "      <th>4</th>\n",
       "      <td>28.69720</td>\n",
       "      <td>75.0</td>\n",
       "      <td>True</td>\n",
       "      <td>1671.0</td>\n",
       "    </tr>\n",
       "    <tr>\n",
       "      <th>...</th>\n",
       "      <td>...</td>\n",
       "      <td>...</td>\n",
       "      <td>...</td>\n",
       "      <td>...</td>\n",
       "    </tr>\n",
       "    <tr>\n",
       "      <th>95</th>\n",
       "      <td>27.34205</td>\n",
       "      <td>73.0</td>\n",
       "      <td>False</td>\n",
       "      <td>2145.0</td>\n",
       "    </tr>\n",
       "    <tr>\n",
       "      <th>96</th>\n",
       "      <td>27.34205</td>\n",
       "      <td>73.0</td>\n",
       "      <td>False</td>\n",
       "      <td>2125.0</td>\n",
       "    </tr>\n",
       "    <tr>\n",
       "      <th>97</th>\n",
       "      <td>31.63544</td>\n",
       "      <td>53.0</td>\n",
       "      <td>False</td>\n",
       "      <td>1920.0</td>\n",
       "    </tr>\n",
       "    <tr>\n",
       "      <th>98</th>\n",
       "      <td>20.65988</td>\n",
       "      <td>57.0</td>\n",
       "      <td>False</td>\n",
       "      <td>2025.0</td>\n",
       "    </tr>\n",
       "    <tr>\n",
       "      <th>99</th>\n",
       "      <td>20.46840</td>\n",
       "      <td>60.0</td>\n",
       "      <td>False</td>\n",
       "      <td>1887.0</td>\n",
       "    </tr>\n",
       "  </tbody>\n",
       "</table>\n",
       "<p>100 rows × 4 columns</p>\n",
       "</div>"
      ],
      "text/plain": [
       "         bmi   age  event_happened  event_time\n",
       "0   26.63187  70.0            True       297.0\n",
       "1   23.24236  70.0            True         1.0\n",
       "2   27.11609  55.0            True      1496.0\n",
       "3   27.43554  88.0            True       920.0\n",
       "4   28.69720  75.0            True      1671.0\n",
       "..       ...   ...             ...         ...\n",
       "95  27.34205  73.0           False      2145.0\n",
       "96  27.34205  73.0           False      2125.0\n",
       "97  31.63544  53.0           False      1920.0\n",
       "98  20.65988  57.0           False      2025.0\n",
       "99  20.46840  60.0           False      1887.0\n",
       "\n",
       "[100 rows x 4 columns]"
      ]
     },
     "execution_count": 11,
     "metadata": {},
     "output_type": "execute_result"
    }
   ],
   "source": [
    "df = pd.concat(dfs, axis=1)\n",
    "df"
   ]
  },
  {
   "cell_type": "code",
   "execution_count": 13,
   "id": "13ca1b10-84a5-4d70-b57b-b29de367d371",
   "metadata": {
    "tags": []
   },
   "outputs": [],
   "source": [
    "def select_rows(data_length, num_rows=20):\n",
    "    \"\"\"\n",
    "    Select a subset of data so that it includes both censored and non-censored data. Assuming the\n",
    "    censored data follows after the non-censored data.\n",
    "    Args:\n",
    "        data:\n",
    "\n",
    "    Returns:\n",
    "    \"\"\"\n",
    "    if num_rows > data_length:\n",
    "        raise Exception(f'Selecting too many rows. There are only {data_length} available.')\n",
    "\n",
    "    num_start = num_rows // 2\n",
    "    num_end = num_rows - num_start\n",
    "\n",
    "    censored_selection = range(num_start)\n",
    "    uncensored_selection = range(data_length - num_end, data_length)\n",
    "\n",
    "    return list(censored_selection) + list(uncensored_selection)"
   ]
  },
  {
   "cell_type": "code",
   "execution_count": 14,
   "id": "bfff3734-defc-4d3f-b0a7-93734754d776",
   "metadata": {
    "tags": []
   },
   "outputs": [
    {
     "data": {
      "text/html": [
       "<div>\n",
       "<style scoped>\n",
       "    .dataframe tbody tr th:only-of-type {\n",
       "        vertical-align: middle;\n",
       "    }\n",
       "\n",
       "    .dataframe tbody tr th {\n",
       "        vertical-align: top;\n",
       "    }\n",
       "\n",
       "    .dataframe thead th {\n",
       "        text-align: right;\n",
       "    }\n",
       "</style>\n",
       "<table border=\"1\" class=\"dataframe\">\n",
       "  <thead>\n",
       "    <tr style=\"text-align: right;\">\n",
       "      <th></th>\n",
       "      <th>bmi</th>\n",
       "      <th>age</th>\n",
       "      <th>event_happened</th>\n",
       "      <th>event_time</th>\n",
       "    </tr>\n",
       "  </thead>\n",
       "  <tbody>\n",
       "    <tr>\n",
       "      <th>0</th>\n",
       "      <td>26.63187</td>\n",
       "      <td>70.0</td>\n",
       "      <td>True</td>\n",
       "      <td>297.0</td>\n",
       "    </tr>\n",
       "    <tr>\n",
       "      <th>1</th>\n",
       "      <td>23.24236</td>\n",
       "      <td>70.0</td>\n",
       "      <td>True</td>\n",
       "      <td>1.0</td>\n",
       "    </tr>\n",
       "    <tr>\n",
       "      <th>2</th>\n",
       "      <td>27.11609</td>\n",
       "      <td>55.0</td>\n",
       "      <td>True</td>\n",
       "      <td>1496.0</td>\n",
       "    </tr>\n",
       "    <tr>\n",
       "      <th>3</th>\n",
       "      <td>27.43554</td>\n",
       "      <td>88.0</td>\n",
       "      <td>True</td>\n",
       "      <td>920.0</td>\n",
       "    </tr>\n",
       "    <tr>\n",
       "      <th>4</th>\n",
       "      <td>28.69720</td>\n",
       "      <td>75.0</td>\n",
       "      <td>True</td>\n",
       "      <td>1671.0</td>\n",
       "    </tr>\n",
       "    <tr>\n",
       "      <th>5</th>\n",
       "      <td>18.56161</td>\n",
       "      <td>54.0</td>\n",
       "      <td>True</td>\n",
       "      <td>865.0</td>\n",
       "    </tr>\n",
       "    <tr>\n",
       "      <th>6</th>\n",
       "      <td>23.67519</td>\n",
       "      <td>70.0</td>\n",
       "      <td>True</td>\n",
       "      <td>905.0</td>\n",
       "    </tr>\n",
       "    <tr>\n",
       "      <th>7</th>\n",
       "      <td>24.37450</td>\n",
       "      <td>51.0</td>\n",
       "      <td>True</td>\n",
       "      <td>2353.0</td>\n",
       "    </tr>\n",
       "    <tr>\n",
       "      <th>8</th>\n",
       "      <td>22.65552</td>\n",
       "      <td>73.0</td>\n",
       "      <td>True</td>\n",
       "      <td>61.0</td>\n",
       "    </tr>\n",
       "    <tr>\n",
       "      <th>9</th>\n",
       "      <td>35.27571</td>\n",
       "      <td>49.0</td>\n",
       "      <td>True</td>\n",
       "      <td>2358.0</td>\n",
       "    </tr>\n",
       "    <tr>\n",
       "      <th>90</th>\n",
       "      <td>25.50204</td>\n",
       "      <td>80.0</td>\n",
       "      <td>False</td>\n",
       "      <td>1939.0</td>\n",
       "    </tr>\n",
       "    <tr>\n",
       "      <th>91</th>\n",
       "      <td>26.60883</td>\n",
       "      <td>53.0</td>\n",
       "      <td>False</td>\n",
       "      <td>1940.0</td>\n",
       "    </tr>\n",
       "    <tr>\n",
       "      <th>92</th>\n",
       "      <td>24.37440</td>\n",
       "      <td>71.0</td>\n",
       "      <td>False</td>\n",
       "      <td>1941.0</td>\n",
       "    </tr>\n",
       "    <tr>\n",
       "      <th>93</th>\n",
       "      <td>22.67395</td>\n",
       "      <td>73.0</td>\n",
       "      <td>False</td>\n",
       "      <td>1933.0</td>\n",
       "    </tr>\n",
       "    <tr>\n",
       "      <th>94</th>\n",
       "      <td>27.26234</td>\n",
       "      <td>41.0</td>\n",
       "      <td>False</td>\n",
       "      <td>2084.0</td>\n",
       "    </tr>\n",
       "    <tr>\n",
       "      <th>95</th>\n",
       "      <td>27.34205</td>\n",
       "      <td>73.0</td>\n",
       "      <td>False</td>\n",
       "      <td>2145.0</td>\n",
       "    </tr>\n",
       "    <tr>\n",
       "      <th>96</th>\n",
       "      <td>27.34205</td>\n",
       "      <td>73.0</td>\n",
       "      <td>False</td>\n",
       "      <td>2125.0</td>\n",
       "    </tr>\n",
       "    <tr>\n",
       "      <th>97</th>\n",
       "      <td>31.63544</td>\n",
       "      <td>53.0</td>\n",
       "      <td>False</td>\n",
       "      <td>1920.0</td>\n",
       "    </tr>\n",
       "    <tr>\n",
       "      <th>98</th>\n",
       "      <td>20.65988</td>\n",
       "      <td>57.0</td>\n",
       "      <td>False</td>\n",
       "      <td>2025.0</td>\n",
       "    </tr>\n",
       "    <tr>\n",
       "      <th>99</th>\n",
       "      <td>20.46840</td>\n",
       "      <td>60.0</td>\n",
       "      <td>False</td>\n",
       "      <td>1887.0</td>\n",
       "    </tr>\n",
       "  </tbody>\n",
       "</table>\n",
       "</div>"
      ],
      "text/plain": [
       "         bmi   age  event_happened  event_time\n",
       "0   26.63187  70.0            True       297.0\n",
       "1   23.24236  70.0            True         1.0\n",
       "2   27.11609  55.0            True      1496.0\n",
       "3   27.43554  88.0            True       920.0\n",
       "4   28.69720  75.0            True      1671.0\n",
       "5   18.56161  54.0            True       865.0\n",
       "6   23.67519  70.0            True       905.0\n",
       "7   24.37450  51.0            True      2353.0\n",
       "8   22.65552  73.0            True        61.0\n",
       "9   35.27571  49.0            True      2358.0\n",
       "90  25.50204  80.0           False      1939.0\n",
       "91  26.60883  53.0           False      1940.0\n",
       "92  24.37440  71.0           False      1941.0\n",
       "93  22.67395  73.0           False      1933.0\n",
       "94  27.26234  41.0           False      2084.0\n",
       "95  27.34205  73.0           False      2145.0\n",
       "96  27.34205  73.0           False      2125.0\n",
       "97  31.63544  53.0           False      1920.0\n",
       "98  20.65988  57.0           False      2025.0\n",
       "99  20.46840  60.0           False      1887.0"
      ]
     },
     "execution_count": 14,
     "metadata": {},
     "output_type": "execute_result"
    }
   ],
   "source": [
    "selection = select_rows(df.shape[0])\n",
    "\n",
    "subset = df.iloc[selection]\n",
    "subset"
   ]
  },
  {
   "cell_type": "code",
   "execution_count": 15,
   "id": "fa5dfad1-be14-4e3d-b163-3aafa0fdb832",
   "metadata": {
    "tags": []
   },
   "outputs": [],
   "source": [
    "from sksurv.datasets import get_x_y"
   ]
  },
  {
   "cell_type": "code",
   "execution_count": 16,
   "id": "fbd5a8da-ac7c-4a05-86bc-4bac6f2c9b34",
   "metadata": {
    "tags": []
   },
   "outputs": [
    {
     "data": {
      "text/plain": [
       "(         bmi   age\n",
       " 0   26.63187  70.0\n",
       " 1   23.24236  70.0\n",
       " 2   27.11609  55.0\n",
       " 3   27.43554  88.0\n",
       " 4   28.69720  75.0\n",
       " 5   18.56161  54.0\n",
       " 6   23.67519  70.0\n",
       " 7   24.37450  51.0\n",
       " 8   22.65552  73.0\n",
       " 9   35.27571  49.0\n",
       " 90  25.50204  80.0\n",
       " 91  26.60883  53.0\n",
       " 92  24.37440  71.0\n",
       " 93  22.67395  73.0\n",
       " 94  27.26234  41.0\n",
       " 95  27.34205  73.0\n",
       " 96  27.34205  73.0\n",
       " 97  31.63544  53.0\n",
       " 98  20.65988  57.0\n",
       " 99  20.46840  60.0,\n",
       " array([( True, 2.970e+02), ( True, 1.000e+00), ( True, 1.496e+03),\n",
       "        ( True, 9.200e+02), ( True, 1.671e+03), ( True, 8.650e+02),\n",
       "        ( True, 9.050e+02), ( True, 2.353e+03), ( True, 6.100e+01),\n",
       "        ( True, 2.358e+03), (False, 1.939e+03), (False, 1.940e+03),\n",
       "        (False, 1.941e+03), (False, 1.933e+03), (False, 2.084e+03),\n",
       "        (False, 2.145e+03), (False, 2.125e+03), (False, 1.920e+03),\n",
       "        (False, 2.025e+03), (False, 1.887e+03)],\n",
       "       dtype=[('event_happened', '?'), ('event_time', '<f8')]))"
      ]
     },
     "execution_count": 16,
     "metadata": {},
     "output_type": "execute_result"
    }
   ],
   "source": [
    "features, outcome = get_x_y(subset, ('event_happened', 'event_time'), pos_label=True)\n",
    "\n",
    "features, outcome"
   ]
  },
  {
   "cell_type": "code",
   "execution_count": 17,
   "id": "fa107183-8c93-4b20-8088-37e750871455",
   "metadata": {
    "tags": []
   },
   "outputs": [],
   "source": [
    "from sksurv.linear_model import CoxPHSurvivalAnalysis"
   ]
  },
  {
   "cell_type": "code",
   "execution_count": 18,
   "id": "8f9e6191-8b75-40d8-b03c-9c54b394baa3",
   "metadata": {
    "tags": []
   },
   "outputs": [
    {
     "data": {
      "text/plain": [
       "CoxPHSurvivalAnalysis()"
      ]
     },
     "execution_count": 18,
     "metadata": {},
     "output_type": "execute_result"
    }
   ],
   "source": [
    "model = CoxPHSurvivalAnalysis()\n",
    "\n",
    "model.fit(features, outcome)"
   ]
  },
  {
   "cell_type": "code",
   "execution_count": 19,
   "id": "26de156e-6638-496c-aea2-26f53efa76f7",
   "metadata": {
    "tags": []
   },
   "outputs": [
    {
     "data": {
      "text/plain": [
       "array([-0.15316136,  0.05067197])"
      ]
     },
     "execution_count": 19,
     "metadata": {},
     "output_type": "execute_result"
    }
   ],
   "source": [
    "model.coef_"
   ]
  },
  {
   "cell_type": "code",
   "execution_count": 20,
   "id": "4c3a8a32-f46c-4420-ab6b-7931c3677b4d",
   "metadata": {
    "tags": []
   },
   "outputs": [
    {
     "ename": "NameError",
     "evalue": "name 'test_df' is not defined",
     "output_type": "error",
     "traceback": [
      "\u001b[0;31m---------------------------------------------------------------------------\u001b[0m",
      "\u001b[0;31mNameError\u001b[0m                                 Traceback (most recent call last)",
      "Cell \u001b[0;32mIn[20], line 1\u001b[0m\n\u001b[0;32m----> 1\u001b[0m \u001b[43mtest_df\u001b[49m\u001b[38;5;241m.\u001b[39mevent_happened\u001b[38;5;241m.\u001b[39mdtype\n",
      "\u001b[0;31mNameError\u001b[0m: name 'test_df' is not defined"
     ]
    }
   ],
   "source": [
    "test_df.event_happened.dtype"
   ]
  },
  {
   "cell_type": "code",
   "execution_count": null,
   "id": "7e5f6029-8177-4424-8d9a-e2cbe805fc21",
   "metadata": {},
   "outputs": [],
   "source": []
  }
 ],
 "metadata": {
  "kernelspec": {
   "display_name": "Python 3 (ipykernel)",
   "language": "python",
   "name": "python3"
  },
  "language_info": {
   "codemirror_mode": {
    "name": "ipython",
    "version": 3
   },
   "file_extension": ".py",
   "mimetype": "text/x-python",
   "name": "python",
   "nbconvert_exporter": "python",
   "pygments_lexer": "ipython3",
   "version": "3.10.9"
  }
 },
 "nbformat": 4,
 "nbformat_minor": 5
}
