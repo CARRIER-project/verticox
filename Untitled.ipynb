{
 "cells": [
  {
   "cell_type": "code",
   "execution_count": 1,
   "id": "93b3d929-dbfc-41d7-bdca-4982526e02e1",
   "metadata": {
    "tags": []
   },
   "outputs": [],
   "source": [
    "from pathlib import Path\n",
    "import pandas as pd\n",
    "import numpy as np\n"
   ]
  },
  {
   "cell_type": "code",
   "execution_count": 2,
   "id": "48ae6354-595e-48c8-be25-a19dc86f530c",
   "metadata": {
    "tags": []
   },
   "outputs": [],
   "source": [
    "data_path = Path('mock/data')"
   ]
  },
  {
   "cell_type": "code",
   "execution_count": 3,
   "id": "e4abe693-5d45-402e-a592-f7db1e8668a1",
   "metadata": {
    "tags": []
   },
   "outputs": [
    {
     "data": {
      "text/plain": [
       "[         bmi\n",
       " 0   26.63187\n",
       " 1   23.24236\n",
       " 2   27.11609\n",
       " 3   27.43554\n",
       " 4   28.69720\n",
       " ..       ...\n",
       " 95  27.34205\n",
       " 96  27.34205\n",
       " 97  31.63544\n",
       " 98  20.65988\n",
       " 99  20.46840\n",
       " \n",
       " [100 rows x 1 columns],\n",
       "      age\n",
       " 0   70.0\n",
       " 1   70.0\n",
       " 2   55.0\n",
       " 3   88.0\n",
       " 4   75.0\n",
       " ..   ...\n",
       " 95  73.0\n",
       " 96  73.0\n",
       " 97  53.0\n",
       " 98  57.0\n",
       " 99  60.0\n",
       " \n",
       " [100 rows x 1 columns],\n",
       "     event_happened  event_time\n",
       " 0             True       297.0\n",
       " 1             True         1.0\n",
       " 2             True      1496.0\n",
       " 3             True       920.0\n",
       " 4             True      1671.0\n",
       " ..             ...         ...\n",
       " 95           False      2145.0\n",
       " 96           False      2125.0\n",
       " 97           False      1920.0\n",
       " 98           False      2025.0\n",
       " 99           False      1887.0\n",
       " \n",
       " [100 rows x 2 columns]]"
      ]
     },
     "execution_count": 3,
     "metadata": {},
     "output_type": "execute_result"
    }
   ],
   "source": [
    "dfs=[]\n",
    "\n",
    "for f in data_path.iterdir():\n",
    "    if str(f).endswith('parquet'):\n",
    "        dfs.append( pd.read_parquet(f))\n",
    "        \n",
    "dfs"
   ]
  },
  {
   "cell_type": "code",
   "execution_count": 4,
   "id": "097c9224-097b-489a-a123-e124ae79cb67",
   "metadata": {
    "tags": []
   },
   "outputs": [
    {
     "data": {
      "text/html": [
       "<div>\n",
       "<style scoped>\n",
       "    .dataframe tbody tr th:only-of-type {\n",
       "        vertical-align: middle;\n",
       "    }\n",
       "\n",
       "    .dataframe tbody tr th {\n",
       "        vertical-align: top;\n",
       "    }\n",
       "\n",
       "    .dataframe thead th {\n",
       "        text-align: right;\n",
       "    }\n",
       "</style>\n",
       "<table border=\"1\" class=\"dataframe\">\n",
       "  <thead>\n",
       "    <tr style=\"text-align: right;\">\n",
       "      <th></th>\n",
       "      <th>bmi</th>\n",
       "      <th>age</th>\n",
       "      <th>event_happened</th>\n",
       "      <th>event_time</th>\n",
       "    </tr>\n",
       "  </thead>\n",
       "  <tbody>\n",
       "    <tr>\n",
       "      <th>0</th>\n",
       "      <td>26.63187</td>\n",
       "      <td>70.0</td>\n",
       "      <td>True</td>\n",
       "      <td>297.0</td>\n",
       "    </tr>\n",
       "    <tr>\n",
       "      <th>1</th>\n",
       "      <td>23.24236</td>\n",
       "      <td>70.0</td>\n",
       "      <td>True</td>\n",
       "      <td>1.0</td>\n",
       "    </tr>\n",
       "    <tr>\n",
       "      <th>2</th>\n",
       "      <td>27.11609</td>\n",
       "      <td>55.0</td>\n",
       "      <td>True</td>\n",
       "      <td>1496.0</td>\n",
       "    </tr>\n",
       "    <tr>\n",
       "      <th>3</th>\n",
       "      <td>27.43554</td>\n",
       "      <td>88.0</td>\n",
       "      <td>True</td>\n",
       "      <td>920.0</td>\n",
       "    </tr>\n",
       "    <tr>\n",
       "      <th>4</th>\n",
       "      <td>28.69720</td>\n",
       "      <td>75.0</td>\n",
       "      <td>True</td>\n",
       "      <td>1671.0</td>\n",
       "    </tr>\n",
       "    <tr>\n",
       "      <th>...</th>\n",
       "      <td>...</td>\n",
       "      <td>...</td>\n",
       "      <td>...</td>\n",
       "      <td>...</td>\n",
       "    </tr>\n",
       "    <tr>\n",
       "      <th>95</th>\n",
       "      <td>27.34205</td>\n",
       "      <td>73.0</td>\n",
       "      <td>False</td>\n",
       "      <td>2145.0</td>\n",
       "    </tr>\n",
       "    <tr>\n",
       "      <th>96</th>\n",
       "      <td>27.34205</td>\n",
       "      <td>73.0</td>\n",
       "      <td>False</td>\n",
       "      <td>2125.0</td>\n",
       "    </tr>\n",
       "    <tr>\n",
       "      <th>97</th>\n",
       "      <td>31.63544</td>\n",
       "      <td>53.0</td>\n",
       "      <td>False</td>\n",
       "      <td>1920.0</td>\n",
       "    </tr>\n",
       "    <tr>\n",
       "      <th>98</th>\n",
       "      <td>20.65988</td>\n",
       "      <td>57.0</td>\n",
       "      <td>False</td>\n",
       "      <td>2025.0</td>\n",
       "    </tr>\n",
       "    <tr>\n",
       "      <th>99</th>\n",
       "      <td>20.46840</td>\n",
       "      <td>60.0</td>\n",
       "      <td>False</td>\n",
       "      <td>1887.0</td>\n",
       "    </tr>\n",
       "  </tbody>\n",
       "</table>\n",
       "<p>100 rows × 4 columns</p>\n",
       "</div>"
      ],
      "text/plain": [
       "         bmi   age  event_happened  event_time\n",
       "0   26.63187  70.0            True       297.0\n",
       "1   23.24236  70.0            True         1.0\n",
       "2   27.11609  55.0            True      1496.0\n",
       "3   27.43554  88.0            True       920.0\n",
       "4   28.69720  75.0            True      1671.0\n",
       "..       ...   ...             ...         ...\n",
       "95  27.34205  73.0           False      2145.0\n",
       "96  27.34205  73.0           False      2125.0\n",
       "97  31.63544  53.0           False      1920.0\n",
       "98  20.65988  57.0           False      2025.0\n",
       "99  20.46840  60.0           False      1887.0\n",
       "\n",
       "[100 rows x 4 columns]"
      ]
     },
     "execution_count": 4,
     "metadata": {},
     "output_type": "execute_result"
    }
   ],
   "source": [
    "df = pd.concat(dfs, axis=1)\n",
    "df"
   ]
  },
  {
   "cell_type": "code",
   "execution_count": 5,
   "id": "13ca1b10-84a5-4d70-b57b-b29de367d371",
   "metadata": {
    "tags": []
   },
   "outputs": [],
   "source": [
    "def select_rows(data_length, num_rows=20):\n",
    "    \"\"\"\n",
    "    Select a subset of data so that it includes both censored and non-censored data. Assuming the\n",
    "    censored data follows after the non-censored data.\n",
    "    Args:\n",
    "        data:\n",
    "\n",
    "    Returns:\n",
    "    \"\"\"\n",
    "    if num_rows > data_length:\n",
    "        raise Exception(f'Selecting too many rows. There are only {data_length} available.')\n",
    "\n",
    "    num_start = num_rows // 2\n",
    "    num_end = num_rows - num_start\n",
    "\n",
    "    censored_selection = range(num_start)\n",
    "    uncensored_selection = range(data_length - num_end, data_length)\n",
    "\n",
    "    return list(censored_selection) + list(uncensored_selection)"
   ]
  },
  {
   "cell_type": "code",
   "execution_count": 6,
   "id": "fa5dfad1-be14-4e3d-b163-3aafa0fdb832",
   "metadata": {
    "tags": []
   },
   "outputs": [],
   "source": [
    "from sksurv.datasets import get_x_y"
   ]
  },
  {
   "cell_type": "code",
   "execution_count": 7,
   "id": "fbd5a8da-ac7c-4a05-86bc-4bac6f2c9b34",
   "metadata": {
    "tags": []
   },
   "outputs": [
    {
     "data": {
      "text/plain": [
       "(         bmi   age\n",
       " 0   26.63187  70.0\n",
       " 1   23.24236  70.0\n",
       " 2   27.11609  55.0\n",
       " 3   27.43554  88.0\n",
       " 4   28.69720  75.0\n",
       " ..       ...   ...\n",
       " 95  27.34205  73.0\n",
       " 96  27.34205  73.0\n",
       " 97  31.63544  53.0\n",
       " 98  20.65988  57.0\n",
       " 99  20.46840  60.0\n",
       " \n",
       " [100 rows x 2 columns],\n",
       " array([( True, 2.970e+02), ( True, 1.000e+00), ( True, 1.496e+03),\n",
       "        ( True, 9.200e+02), ( True, 1.671e+03), ( True, 8.650e+02),\n",
       "        ( True, 9.050e+02), ( True, 2.353e+03), ( True, 6.100e+01),\n",
       "        ( True, 2.358e+03), ( True, 6.000e+00), ( True, 1.180e+02),\n",
       "        ( True, 8.490e+02), ( True, 7.140e+02), ( True, 2.000e+00),\n",
       "        ( True, 7.000e+00), ( True, 6.000e+00), ( True, 4.220e+02),\n",
       "        ( True, 3.540e+02), ( True, 1.065e+03), ( True, 5.350e+02),\n",
       "        ( True, 9.700e+01), ( True, 1.000e+02), ( True, 1.317e+03),\n",
       "        ( True, 6.700e+02), ( True, 3.430e+02), ( True, 3.000e+00),\n",
       "        ( True, 6.400e+01), ( True, 1.579e+03), ( True, 2.000e+00),\n",
       "        ( True, 4.200e+01), ( True, 1.548e+03), ( True, 4.460e+02),\n",
       "        ( True, 1.000e+00), ( True, 1.510e+02), ( True, 1.576e+03),\n",
       "        ( True, 1.970e+02), ( True, 9.500e+01), ( True, 2.160e+03),\n",
       "        ( True, 4.000e+00), ( True, 1.553e+03), ( True, 2.350e+02),\n",
       "        ( True, 1.920e+02), ( True, 1.233e+03), ( True, 8.800e+01),\n",
       "        ( True, 1.954e+03), ( True, 9.030e+02), ( True, 6.120e+02),\n",
       "        ( True, 2.000e+00), ( True, 7.000e+00), (False, 2.178e+03),\n",
       "        (False, 2.172e+03), (False, 2.190e+03), (False, 2.131e+03),\n",
       "        (False, 2.122e+03), (False, 2.175e+03), (False, 2.173e+03),\n",
       "        (False, 2.192e+03), (False, 2.166e+03), (False, 2.168e+03),\n",
       "        (False, 2.146e+03), (False, 2.114e+03), (False, 2.132e+03),\n",
       "        (False, 2.139e+03), (False, 2.048e+03), (False, 2.152e+03),\n",
       "        (False, 2.156e+03), (False, 2.064e+03), (False, 2.057e+03),\n",
       "        (False, 2.151e+03), (False, 2.065e+03), (False, 2.048e+03),\n",
       "        (False, 2.118e+03), (False, 2.113e+03), (False, 2.032e+03),\n",
       "        (False, 2.126e+03), (False, 2.126e+03), (False, 2.123e+03),\n",
       "        (False, 2.009e+03), (False, 1.994e+03), (False, 1.993e+03),\n",
       "        (False, 1.955e+03), (False, 1.964e+03), (False, 1.976e+03),\n",
       "        (False, 2.009e+03), (False, 1.942e+03), (False, 2.006e+03),\n",
       "        (False, 2.086e+03), (False, 1.969e+03), (False, 1.939e+03),\n",
       "        (False, 1.939e+03), (False, 1.940e+03), (False, 1.941e+03),\n",
       "        (False, 1.933e+03), (False, 2.084e+03), (False, 2.145e+03),\n",
       "        (False, 2.125e+03), (False, 1.920e+03), (False, 2.025e+03),\n",
       "        (False, 1.887e+03)],\n",
       "       dtype=[('event_happened', '?'), ('event_time', '<f8')]))"
      ]
     },
     "execution_count": 7,
     "metadata": {},
     "output_type": "execute_result"
    }
   ],
   "source": [
    "features, outcome = get_x_y(df, ('event_happened', 'event_time'), pos_label=True)\n",
    "\n",
    "features, outcome"
   ]
  },
  {
   "cell_type": "code",
   "execution_count": 8,
   "id": "690e60f6-60d3-4d30-8580-b2123115948a",
   "metadata": {
    "tags": []
   },
   "outputs": [],
   "source": [
    "selection = np.array(select_rows(df.shape[0]))\n",
    "\n",
    "train_features = features.iloc[selection]\n",
    "train_outcome = outcome[selection]\n",
    "\n",
    "test_features = features.iloc[np.array(selection)]\n",
    "test_outcome = outcome[~selection]"
   ]
  },
  {
   "cell_type": "code",
   "execution_count": 9,
   "id": "fa107183-8c93-4b20-8088-37e750871455",
   "metadata": {
    "tags": []
   },
   "outputs": [],
   "source": [
    "from sksurv.linear_model import CoxPHSurvivalAnalysis"
   ]
  },
  {
   "cell_type": "code",
   "execution_count": 10,
   "id": "8f9e6191-8b75-40d8-b03c-9c54b394baa3",
   "metadata": {
    "tags": []
   },
   "outputs": [
    {
     "data": {
      "text/plain": [
       "CoxPHSurvivalAnalysis()"
      ]
     },
     "execution_count": 10,
     "metadata": {},
     "output_type": "execute_result"
    }
   ],
   "source": [
    "model = CoxPHSurvivalAnalysis()\n",
    "\n",
    "model.fit(train_features, train_outcome)"
   ]
  },
  {
   "cell_type": "code",
   "execution_count": 11,
   "id": "26de156e-6638-496c-aea2-26f53efa76f7",
   "metadata": {
    "tags": []
   },
   "outputs": [
    {
     "data": {
      "text/plain": [
       "array([-0.15316136,  0.05067197])"
      ]
     },
     "execution_count": 11,
     "metadata": {},
     "output_type": "execute_result"
    }
   ],
   "source": [
    "model.coef_"
   ]
  },
  {
   "cell_type": "code",
   "execution_count": 12,
   "id": "4c3a8a32-f46c-4420-ab6b-7931c3677b4d",
   "metadata": {
    "tags": []
   },
   "outputs": [
    {
     "data": {
      "text/plain": [
       "StepFunction(x=array([1.000e+00, 6.100e+01, 2.970e+02, 8.650e+02, 9.050e+02, 9.200e+02,\n",
       "       1.496e+03, 1.671e+03, 1.887e+03, 1.920e+03, 1.933e+03, 1.939e+03,\n",
       "       1.940e+03, 1.941e+03, 2.025e+03, 2.084e+03, 2.125e+03, 2.145e+03,\n",
       "       2.353e+03, 2.358e+03]), y=array([ 0.07249093,  0.15056992,  0.23714948,  0.32836868,  0.42773521,\n",
       "        0.53714691,  0.66458971,  0.79631463,  0.79631463,  0.79631463,\n",
       "        0.79631463,  0.79631463,  0.79631463,  0.79631463,  0.79631463,\n",
       "        0.79631463,  0.79631463,  0.79631463,  3.49244316, 22.0327954 ]), a=1.0, b=0.0)"
      ]
     },
     "execution_count": 12,
     "metadata": {},
     "output_type": "execute_result"
    }
   ],
   "source": [
    "model.cum_baseline_hazard_"
   ]
  },
  {
   "cell_type": "code",
   "execution_count": 13,
   "id": "989dd921-0741-4808-9616-7ef15fb3b8a1",
   "metadata": {
    "tags": []
   },
   "outputs": [
    {
     "data": {
      "text/html": [
       "<div>\n",
       "<style scoped>\n",
       "    .dataframe tbody tr th:only-of-type {\n",
       "        vertical-align: middle;\n",
       "    }\n",
       "\n",
       "    .dataframe tbody tr th {\n",
       "        vertical-align: top;\n",
       "    }\n",
       "\n",
       "    .dataframe thead th {\n",
       "        text-align: right;\n",
       "    }\n",
       "</style>\n",
       "<table border=\"1\" class=\"dataframe\">\n",
       "  <thead>\n",
       "    <tr style=\"text-align: right;\">\n",
       "      <th></th>\n",
       "      <th>bmi</th>\n",
       "      <th>age</th>\n",
       "    </tr>\n",
       "  </thead>\n",
       "  <tbody>\n",
       "    <tr>\n",
       "      <th>0</th>\n",
       "      <td>25.576749</td>\n",
       "      <td>64.45</td>\n",
       "    </tr>\n",
       "  </tbody>\n",
       "</table>\n",
       "</div>"
      ],
      "text/plain": [
       "         bmi    age\n",
       "0  25.576749  64.45"
      ]
     },
     "execution_count": 13,
     "metadata": {},
     "output_type": "execute_result"
    }
   ],
   "source": [
    "mean_features = test_features.mean()\n",
    "\n",
    "\n",
    "mean_features = pd.DataFrame(mean_features.values.reshape((1, -1)), columns=mean_features.index)\n",
    "mean_features"
   ]
  },
  {
   "cell_type": "code",
   "execution_count": 14,
   "id": "7e5f6029-8177-4424-8d9a-e2cbe805fc21",
   "metadata": {},
   "outputs": [
    {
     "data": {
      "text/plain": [
       "array([StepFunction(x=array([1.000e+00, 6.100e+01, 2.970e+02, 8.650e+02, 9.050e+02, 9.200e+02,\n",
       "              1.496e+03, 1.671e+03, 1.887e+03, 1.920e+03, 1.933e+03, 1.939e+03,\n",
       "              1.940e+03, 1.941e+03, 2.025e+03, 2.084e+03, 2.125e+03, 2.145e+03,\n",
       "              2.353e+03, 2.358e+03]), y=array([ 0.07249093,  0.15056992,  0.23714948,  0.32836868,  0.42773521,\n",
       "               0.53714691,  0.66458971,  0.79631463,  0.79631463,  0.79631463,\n",
       "               0.79631463,  0.79631463,  0.79631463,  0.79631463,  0.79631463,\n",
       "               0.79631463,  0.79631463,  0.79631463,  3.49244316, 22.0327954 ]), a=0.5212312346521621, b=0.0)  ],\n",
       "      dtype=object)"
      ]
     },
     "execution_count": 14,
     "metadata": {},
     "output_type": "execute_result"
    }
   ],
   "source": [
    "cum_hazards = model.predict_cumulative_hazard_function(mean_features)\n",
    "cum_hazards"
   ]
  },
  {
   "cell_type": "code",
   "execution_count": 15,
   "id": "e977468e-9800-4715-8e32-829e347f98e5",
   "metadata": {
    "tags": []
   },
   "outputs": [
    {
     "data": {
      "text/plain": [
       "bmi    25.576749\n",
       "age    64.450000\n",
       "dtype: float64"
      ]
     },
     "execution_count": 15,
     "metadata": {},
     "output_type": "execute_result"
    }
   ],
   "source": [
    "test_features.mean()"
   ]
  },
  {
   "cell_type": "code",
   "execution_count": 17,
   "id": "ca22c9b3-0efc-4f71-872b-c46b95293159",
   "metadata": {},
   "outputs": [],
   "source": [
    "from sksurv.functions import StepFunction"
   ]
  },
  {
   "cell_type": "code",
   "execution_count": 18,
   "id": "846e9fbd-519d-48e1-acce-cc61d57a243e",
   "metadata": {
    "tags": []
   },
   "outputs": [],
   "source": [
    "\n",
    "auc = StepFunction(x=np.array([1.000e+00, 6.100e+01, 2.970e+02, 8.650e+02, 9.050e+02, 9.200e+02,\n",
    "        1.496e+03, 1.671e+03, 1.887e+03, 1.920e+03, 1.933e+03, 1.939e+03,\n",
    "        1.940e+03, 1.941e+03, 2.025e+03, 2.084e+03, 2.125e+03, 2.145e+03,\n",
    "        2.353e+03, 2.358e+03]), y=np.array([0.78091198, 0.78751444, 0.79480265, 0.8025875 , 0.81096942,\n",
    "        0.81982395, 0.82944765, 0.8385414 , 0.8385414 , 0.8385414 ,\n",
    "        0.8385414 , 0.8385414 , 0.8385414 , 0.8385414 , 0.8385414 ,        0.8385414 , 0.8385414 , 0.8385414 , 0.91688113, 0.98011804]), a=1.0, b=0.0)\n",
    "\n"
   ]
  },
  {
   "cell_type": "code",
   "execution_count": 19,
   "id": "1d908dd6-027e-4a75-9fbc-464ed28fc0f2",
   "metadata": {
    "tags": []
   },
   "outputs": [],
   "source": [
    "import matplotlib.pyplot as plt\n",
    "\n",
    "def plot_stepfunction(f: StepFunction):\n",
    "    x = f.x * f.a + f.b\n",
    "    \n",
    "    plt.plot(x, f.y)\n",
    "    "
   ]
  },
  {
   "cell_type": "code",
   "execution_count": 20,
   "id": "d60eb076-489f-4649-9dff-2d8b4d9343f7",
   "metadata": {
    "tags": []
   },
   "outputs": [
    {
     "data": {
      "image/png": "[encoded data removed]",
      "text/plain": [
       "<Figure size 640x480 with 1 Axes>"
      ]
     },
     "metadata": {},
     "output_type": "display_data"
    }
   ],
   "source": [
    "plot_stepfunction(auc)"
   ]
  },
  {
   "cell_type": "code",
   "execution_count": 21,
   "id": "86d7d75e-5052-432e-a3ab-eea46edb9ced",
   "metadata": {
    "tags": []
   },
   "outputs": [],
   "source": [
    "from sksurv.metrics import cumulative_dynamic_auc"
   ]
  },
  {
   "cell_type": "code",
   "execution_count": 51,
   "id": "87afe08b-91a8-498e-babb-548541c80d19",
   "metadata": {
    "tags": []
   },
   "outputs": [],
   "source": [
    "@np.vectorize\n",
    "def outcome_lower_equal_than_x(outcome, x):\n",
    "    return outcome[1] <= x\n"
   ]
  },
  {
   "cell_type": "code",
   "execution_count": 52,
   "id": "9279a862-2b09-4783-bb3a-04bb16804fd8",
   "metadata": {
    "tags": []
   },
   "outputs": [
    {
     "data": {
      "text/plain": [
       "array([False,  True, False, False, False, False, False, False, False,\n",
       "       False, False, False, False, False,  True, False, False, False,\n",
       "       False, False, False, False, False, False, False, False,  True,\n",
       "       False, False,  True, False, False, False,  True, False, False,\n",
       "       False, False, False,  True, False, False, False, False, False,\n",
       "       False, False, False,  True, False, False, False, False, False,\n",
       "       False, False, False, False, False, False, False, False, False,\n",
       "       False, False, False, False, False, False, False, False, False,\n",
       "       False, False, False, False, False, False, False, False, False,\n",
       "       False, False, False, False, False, False, False, False, False,\n",
       "       False, False, False, False, False, False, False, False, False,\n",
       "       False])"
      ]
     },
     "execution_count": 52,
     "metadata": {},
     "output_type": "execute_result"
    }
   ],
   "source": [
    "outcome_lower_equal_than_x(outcome, 5)"
   ]
  },
  {
   "cell_type": "code",
   "execution_count": 56,
   "id": "a5217fa3-d82e-45b3-9bcf-86f7eabf47c7",
   "metadata": {
    "tags": []
   },
   "outputs": [
    {
     "name": "stdout",
     "output_type": "stream",
     "text": [
      "[1.000e+00 6.100e+01 2.970e+02 8.650e+02 9.050e+02 9.200e+02 1.496e+03\n",
      " 1.671e+03 1.887e+03 1.920e+03 1.933e+03 1.939e+03 1.940e+03 1.941e+03\n",
      " 2.025e+03 2.084e+03 2.125e+03 2.145e+03 2.353e+03 2.358e+03]\n"
     ]
    },
    {
     "data": {
      "text/plain": [
       "2358.0"
      ]
     },
     "execution_count": 56,
     "metadata": {},
     "output_type": "execute_result"
    }
   ],
   "source": [
    "times = np.unique([o[1] for o in test_outcome])\n",
    "print(times)\n",
    "\n",
    "max_time = np.max(times)\n",
    "\n",
    "max_time"
   ]
  },
  {
   "cell_type": "code",
   "execution_count": 54,
   "id": "a064cb05-b228-413e-9c2c-2fda660742dd",
   "metadata": {
    "tags": []
   },
   "outputs": [],
   "source": [
    "def select_times_lower_than_x(features, outcome, x):\n",
    "    selection = outcome_lower_equal_than_x(train_outcome, max_time)\n",
    "\n",
    "    return features[train_selection], outcome[train_selection]\n",
    "    \n",
    "\n",
    "new_train_features, new_train_outcome = select_times_lower_than_x(train_features,\n",
    "                                              train_outcome, max_time)\n",
    "\n",
    "new_test_features, new_test_outcome = select_times_lower_than_x(test_features,\n",
    "                                              test_outcome, max_time)"
   ]
  },
  {
   "cell_type": "code",
   "execution_count": 62,
   "id": "0eb86a76-921c-4961-927c-73de91896f7f",
   "metadata": {
    "tags": []
   },
   "outputs": [
    {
     "data": {
      "text/plain": [
       "array([0.52631579, 0.33333333, 0.45098039, 0.34375   , 0.46666667,\n",
       "       0.45833333, 0.36813187, 0.36458333, 0.34090909, 0.3125    ,\n",
       "       0.33333333, 0.25      , 0.28571429, 0.22916667, 0.25      ,\n",
       "       0.25      , 0.33333333, 0.1875    , 0.07142857])"
      ]
     },
     "execution_count": 62,
     "metadata": {},
     "output_type": "execute_result"
    }
   ],
   "source": [
    "target_auc, mean_auc = cumulative_dynamic_auc(new_train_outcome, new_test_outcome, model.predict(test_features), times[:-1])\n",
    "\n",
    "target_auc"
   ]
  },
  {
   "cell_type": "code",
   "execution_count": 66,
   "id": "2ad146f3-10b0-4423-8d49-ff42c97228d6",
   "metadata": {
    "tags": []
   },
   "outputs": [
    {
     "data": {
      "text/plain": [
       "[<matplotlib.lines.Line2D at 0x7f0111f9c0a0>]"
      ]
     },
     "execution_count": 66,
     "metadata": {},
     "output_type": "execute_result"
    },
    {
     "data": {
      "image/png": "[encoded data removed]",
      "text/plain": [
       "<Figure size 640x480 with 1 Axes>"
      ]
     },
     "metadata": {},
     "output_type": "display_data"
    }
   ],
   "source": [
    "plot_stepfunction(auc)\n",
    "\n",
    "plt.plot(np.sort(times[:-1]), target_auc)"
   ]
  },
  {
   "cell_type": "code",
   "execution_count": null,
   "id": "898ab5c1-476e-4901-8e05-b5334699780d",
   "metadata": {},
   "outputs": [],
   "source": []
  }
 ],
 "metadata": {
  "kernelspec": {
   "display_name": "Python 3 (ipykernel)",
   "language": "python",
   "name": "python3"
  },
  "language_info": {
   "codemirror_mode": {
    "name": "ipython",
    "version": 3
   },
   "file_extension": ".py",
   "mimetype": "text/x-python",
   "name": "python",
   "nbconvert_exporter": "python",
   "pygments_lexer": "ipython3",
   "version": "3.10.9"
  }
 },
 "nbformat": 4,
 "nbformat_minor": 5
}
