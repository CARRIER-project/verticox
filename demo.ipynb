{
 "cells": [
  {
   "cell_type": "code",
   "execution_count": 2,
   "id": "aa9d0262-892e-4b96-93f6-2c324e6fc897",
   "metadata": {
    "tags": []
   },
   "outputs": [],
   "source": [
    "from vantage6.client import Client\n",
    "from verticox.client import VerticoxClient\n",
    "import os\n",
    "from verticox.config import DOCKER_IMAGE\n",
    "import matplotlib.pyplot as plt\n",
    "%matplotlib inline"
   ]
  },
  {
   "cell_type": "markdown",
   "id": "38cb673b-9059-4a1a-83db-0d412706561a",
   "metadata": {},
   "source": [
    "Get your credentials for the vantage6 server. Here we are taking them from environment\n",
    "variables but you can replace this with your own credentials."
   ]
  },
  {
   "cell_type": "code",
   "execution_count": 2,
   "id": "48e01bb3-6958-45ff-b9e9-6d875b80b631",
   "metadata": {
    "tags": []
   },
   "outputs": [],
   "source": [
    "user = os.environ[\"V6_USER\"]\n",
    "password = os.environ[\"V6_PASSWORD\"]"
   ]
  },
  {
   "cell_type": "markdown",
   "id": "9dc3440a-c917-42fb-bf96-c48db1e0eb95",
   "metadata": {},
   "source": [
    "## The generic vantage6 client\n",
    "We need the `vantage6.client.Client` to connect with the vantage6 server."
   ]
  },
  {
   "cell_type": "code",
   "execution_count": 3,
   "id": "5b8132d9-ab2c-4efe-9cb1-dfbe7754d314",
   "metadata": {
    "tags": []
   },
   "outputs": [
    {
     "name": "stdout",
     "output_type": "stream",
     "text": [
      " Welcome to\n",
      "                  _                     __  \n",
      "                 | |                   / /  \n",
      "__   ____ _ _ __ | |_ __ _  __ _  ___ / /_  \n",
      "\\ \\ / / _` | '_ \\| __/ _` |/ _` |/ _ \\ '_ \\ \n",
      " \\ V / (_| | | | | || (_| | (_| |  __/ (_) |\n",
      "  \\_/ \\__,_|_| |_|\\__\\__,_|\\__, |\\___|\\___/ \n",
      "                            __/ |           \n",
      "                           |___/            \n",
      "\n",
      " --> Join us on Discord! https://discord.gg/rwRvwyK\n",
      " --> Docs: https://docs.vantage6.ai\n",
      " --> Blog: https://vantage6.ai\n",
      "------------------------------------------------------------\n",
      "Cite us!\n",
      "If you publish your findings obtained using vantage6, \n",
      "please cite the proper sources as mentioned in:\n",
      "https://vantage6.ai/vantage6/references\n",
      "------------------------------------------------------------\n"
     ]
    }
   ],
   "source": [
    "client = Client(\"https://v6server.carrier-mu.src.surf-hosted.nl\", 443)"
   ]
  },
  {
   "cell_type": "code",
   "execution_count": 4,
   "id": "ff2fba49-ea2c-41ac-ae28-6171c9431e11",
   "metadata": {},
   "outputs": [
    {
     "name": "stdout",
     "output_type": "stream",
     "text": [
      "Authenticating user djura...\n",
      "Starting new HTTPS connection (1): v6server.carrier-mu.src.surf-hosted.nl:443\n",
      "https://v6server.carrier-mu.src.surf-hosted.nl:443 \"POST /api/token/user HTTP/1.1\" 200 770\n",
      "Successfully authenticated\n",
      "Making request: GET | https://v6server.carrier-mu.src.surf-hosted.nl:443/api/user/9 | None\n",
      "Starting new HTTPS connection (1): v6server.carrier-mu.src.surf-hosted.nl:443\n",
      "https://v6server.carrier-mu.src.surf-hosted.nl:443 \"GET /api/user/9 HTTP/1.1\" 200 5634\n",
      "Making request: GET | https://v6server.carrier-mu.src.surf-hosted.nl:443/api/organization/2 | None\n",
      "Starting new HTTPS connection (1): v6server.carrier-mu.src.surf-hosted.nl:443\n",
      "https://v6server.carrier-mu.src.surf-hosted.nl:443 \"GET /api/organization/2 HTTP/1.1\" 200 1488\n",
      " --> Succesfully authenticated\n",
      " --> Name: Djura (id=9)\n",
      " --> Organization: djura (id=2)\n"
     ]
    }
   ],
   "source": [
    "client.authenticate(user, password)"
   ]
  },
  {
   "cell_type": "markdown",
   "id": "64deb92e-f573-4e17-8405-5d7ec50988a9",
   "metadata": {},
   "source": [
    "## End-to-end encryption\n",
    "This vantage6 installation uses end-to-end encryption. This means that the communication\n",
    "between nodes is encrypted. Some of this communication is relayed through the vantage6 server but this server can't read this."
   ]
  },
  {
   "cell_type": "code",
   "execution_count": 5,
   "id": "5b479520-9363-4b88-99c4-0254c6afe2a8",
   "metadata": {
    "tags": []
   },
   "outputs": [
    {
     "name": "stdout",
     "output_type": "stream",
     "text": [
      "Loading private key\n",
      "Making request: GET | https://v6server.carrier-mu.src.surf-hosted.nl:443/api/organization/2 | None\n",
      "Starting new HTTPS connection (1): v6server.carrier-mu.src.surf-hosted.nl:443\n",
      "https://v6server.carrier-mu.src.surf-hosted.nl:443 \"GET /api/organization/2 HTTP/1.1\" 200 1488\n",
      "Public key matches the server key! Good to go!\n"
     ]
    }
   ],
   "source": [
    "client.setup_encryption(\"private_key.pem\")"
   ]
  },
  {
   "cell_type": "markdown",
   "id": "67904ca4-addc-48b2-9048-cceb5adaa3e9",
   "metadata": {},
   "source": [
    "## Getting you collaboration id\n",
    "Vantage6 connects organizations together with the concept of _collaborations_.\n",
    "A collaboration is basically a collection of organizations that are allowed to run algorithms together.\n",
    "\n",
    "If you're running algorithms you sometimes need to specify your collaboration id. That is why we are retrieving it."
   ]
  },
  {
   "cell_type": "code",
   "execution_count": 6,
   "id": "8b2d1238-8b98-469f-af80-e6328b9e1018",
   "metadata": {
    "tags": []
   },
   "outputs": [
    {
     "name": "stdout",
     "output_type": "stream",
     "text": [
      "pagination for scope `organization` not available\n",
      "Making request: GET | https://v6server.carrier-mu.src.surf-hosted.nl:443/api/organization/2/collaboration | None\n",
      "Starting new HTTPS connection (1): v6server.carrier-mu.src.surf-hosted.nl:443\n",
      "https://v6server.carrier-mu.src.surf-hosted.nl:443 \"GET /api/organization/2/collaboration HTTP/1.1\" 200 72239\n",
      "Name: test-infra id: 1\n"
     ]
    }
   ],
   "source": [
    "collaborations = client.collaboration.list()\n",
    "\n",
    "for c in collaborations:\n",
    "    print(f\"Name: {c['name']} id: {c['id']}\")"
   ]
  },
  {
   "cell_type": "markdown",
   "id": "2f134d38-c391-45ad-9a50-fc107c14ff2c",
   "metadata": {},
   "source": [
    "## VerticoxClient\n",
    "We have created a dedicated client to work with the verticox algorithm more easily."
   ]
  },
  {
   "cell_type": "code",
   "execution_count": 3,
   "id": "274b89da-eb45-4f93-be26-701ae38ecf83",
   "metadata": {
    "tags": []
   },
   "outputs": [
    {
     "ename": "NameError",
     "evalue": "name 'client' is not defined",
     "output_type": "error",
     "traceback": [
      "\u001b[0;31m---------------------------------------------------------------------------\u001b[0m",
      "\u001b[0;31mNameError\u001b[0m                                 Traceback (most recent call last)",
      "Cell \u001b[0;32mIn[3], line 1\u001b[0m\n\u001b[0;32m----> 1\u001b[0m verticox_client \u001b[38;5;241m=\u001b[39m VerticoxClient(\u001b[43mclient\u001b[49m, image\u001b[38;5;241m=\u001b[39mDOCKER_IMAGE)\n",
      "\u001b[0;31mNameError\u001b[0m: name 'client' is not defined"
     ]
    }
   ],
   "source": [
    "verticox_client = VerticoxClient(client, image=DOCKER_IMAGE)"
   ]
  },
  {
   "cell_type": "markdown",
   "id": "5e86cbc5-a01b-4f40-bb5c-745ed68e23f9",
   "metadata": {},
   "source": [
    "## Column names\n",
    "We first need to know the names of the columns at the various datasources.\n",
    "\n",
    "Whenever we run something on vantage6 we create a task. We can use that task later to get the results back."
   ]
  },
  {
   "cell_type": "code",
   "execution_count": 8,
   "id": "8dddd740-d5ef-4a34-b6ed-2530d3d1d330",
   "metadata": {
    "tags": []
   },
   "outputs": [
    {
     "name": "stdout",
     "output_type": "stream",
     "text": [
      "Making request: GET | https://v6server.carrier-mu.src.surf-hosted.nl:443/api/node | {'page': 1, 'per_page': 20, 'include': ['metadata'], 'name': None, 'organization_id': None, 'collaboration_id': None, 'ip': None, 'last_seen_from': None, 'last_seen_till': None, 'status': 'online'}\n",
      "Starting new HTTPS connection (1): v6server.carrier-mu.src.surf-hosted.nl:443\n",
      "https://v6server.carrier-mu.src.surf-hosted.nl:443 \"GET /api/node?page=1&per_page=20&include=metadata&status=online HTTP/1.1\" 200 1525\n",
      "\n",
      "                    task = self.v6client.task.create(collaboration=1,\n",
      "                                             organizations=[4, 5, 6],\n",
      "                                             name=,\n",
      "                                             image=harbor.carrier-mu.src.surf-hosted.nl/carrier/verticox:test,\n",
      "                                             description=,\n",
      "                                             input={'method': 'column_names', 'master': False, 'kwargs': {}},\n",
      "                                             data_format=json,\n",
      "                                             database=default\n",
      "                                             )\n",
      "            \n",
      "Making request: GET | https://v6server.carrier-mu.src.surf-hosted.nl:443/api/organization/4 | None\n",
      "Starting new HTTPS connection (1): v6server.carrier-mu.src.surf-hosted.nl:443\n",
      "https://v6server.carrier-mu.src.surf-hosted.nl:443 \"GET /api/organization/4 HTTP/1.1\" 200 36270\n",
      "Making request: GET | https://v6server.carrier-mu.src.surf-hosted.nl:443/api/organization/5 | None\n",
      "Starting new HTTPS connection (1): v6server.carrier-mu.src.surf-hosted.nl:443\n",
      "https://v6server.carrier-mu.src.surf-hosted.nl:443 \"GET /api/organization/5 HTTP/1.1\" 200 38338\n",
      "Making request: GET | https://v6server.carrier-mu.src.surf-hosted.nl:443/api/organization/6 | None\n",
      "Starting new HTTPS connection (1): v6server.carrier-mu.src.surf-hosted.nl:443\n",
      "https://v6server.carrier-mu.src.surf-hosted.nl:443 \"GET /api/organization/6 HTTP/1.1\" 200 36692\n",
      "Making request: POST | https://v6server.carrier-mu.src.surf-hosted.nl:443/api/task | None\n",
      "Starting new HTTPS connection (1): v6server.carrier-mu.src.surf-hosted.nl:443\n",
      "https://v6server.carrier-mu.src.surf-hosted.nl:443 \"POST /api/task HTTP/1.1\" 201 583\n"
     ]
    }
   ],
   "source": [
    "task = verticox_client.get_column_names()"
   ]
  },
  {
   "cell_type": "markdown",
   "id": "48037826-3750-42ac-b682-b680c946723c",
   "metadata": {},
   "source": [
    "## Getting results\n",
    "In the `VerticoxClient`, you can get results by running `task.get_results`"
   ]
  },
  {
   "cell_type": "code",
   "execution_count": 9,
   "id": "bc30634f-38df-41f8-8946-b2202a86b022",
   "metadata": {
    "tags": []
   },
   "outputs": [
    {
     "name": "stdout",
     "output_type": "stream",
     "text": [
      "--> Attempting to decrypt results!\n",
      "Making request: GET | https://v6server.carrier-mu.src.surf-hosted.nl:443/api/result/1540 | {}\n",
      "Starting new HTTPS connection (1): v6server.carrier-mu.src.surf-hosted.nl:443\n",
      "https://v6server.carrier-mu.src.surf-hosted.nl:443 \"GET /api/result/1540 HTTP/1.1\" 200 1367\n",
      "Decrypting input\n",
      "Encryption/decryption failed.\n",
      "--> Attempting to decrypt results!\n",
      "Making request: GET | https://v6server.carrier-mu.src.surf-hosted.nl:443/api/result/1541 | {}\n",
      "Starting new HTTPS connection (1): v6server.carrier-mu.src.surf-hosted.nl:443\n",
      "https://v6server.carrier-mu.src.surf-hosted.nl:443 \"GET /api/result/1541 HTTP/1.1\" 200 1367\n",
      "Decrypting input\n",
      "Encryption/decryption failed.\n",
      "--> Attempting to decrypt results!\n",
      "Making request: GET | https://v6server.carrier-mu.src.surf-hosted.nl:443/api/result/1542 | {}\n",
      "Starting new HTTPS connection (1): v6server.carrier-mu.src.surf-hosted.nl:443\n",
      "https://v6server.carrier-mu.src.surf-hosted.nl:443 \"GET /api/result/1542 HTTP/1.1\" 200 1367\n",
      "Decrypting input\n",
      "Encryption/decryption failed.\n",
      "--> Attempting to decrypt results!\n",
      "Making request: GET | https://v6server.carrier-mu.src.surf-hosted.nl:443/api/result/1540 | {}\n",
      "Starting new HTTPS connection (1): v6server.carrier-mu.src.surf-hosted.nl:443\n",
      "https://v6server.carrier-mu.src.surf-hosted.nl:443 \"GET /api/result/1540 HTTP/1.1\" 200 2701\n",
      "Decrypting input\n",
      "Encryption/decryption failed.\n",
      "Decrypting result\n",
      "Decrypted shared key: b'z\\xdd\\x08\\r\\x1c.`h\\x8d\\x10\\xfc\\xcf\\xcf\\x9d\\xda,\\xdd\\x89<\\xd8y\\x82`\\x9b\\xe8\\x98\\x0e\\x91\\xd7\\xe9\\xdcq'\n",
      "No data format specified. Assuming input data is pickle format\n",
      "Received a result\n",
      "--> Attempting to decrypt results!\n",
      "Making request: GET | https://v6server.carrier-mu.src.surf-hosted.nl:443/api/result/1541 | {}\n",
      "Starting new HTTPS connection (1): v6server.carrier-mu.src.surf-hosted.nl:443\n",
      "https://v6server.carrier-mu.src.surf-hosted.nl:443 \"GET /api/result/1541 HTTP/1.1\" 200 2665\n",
      "Decrypting input\n",
      "Encryption/decryption failed.\n",
      "Decrypting result\n",
      "Decrypted shared key: b'\\x8d\\xa8\\xa5w\\xad\\xc4\\xbf\\xa4K\\x19\\xf0\\xcaV\\xd0\\x90/\\xd1R\\x85\\x15slu\\x0e\\x074|\\xb17\\x9b\\x7f\\xd9'\n",
      "No data format specified. Assuming input data is pickle format\n",
      "Received a result\n",
      "--> Attempting to decrypt results!\n",
      "Making request: GET | https://v6server.carrier-mu.src.surf-hosted.nl:443/api/result/1542 | {}\n",
      "Starting new HTTPS connection (1): v6server.carrier-mu.src.surf-hosted.nl:443\n",
      "https://v6server.carrier-mu.src.surf-hosted.nl:443 \"GET /api/result/1542 HTTP/1.1\" 200 2665\n",
      "Decrypting input\n",
      "Encryption/decryption failed.\n",
      "Decrypting result\n",
      "Decrypted shared key: b']F\\x99s\\xfbl\\x88z_\\xf7 \\x1b\\xa85E\\xedR\\xaa\\x14\\x96$\\xe4\\xe9\\xc1h\\xf0\\xca\\xb4\"\\xdf,\\xba'\n",
      "No data format specified. Assuming input data is pickle format\n",
      "Received a result\n"
     ]
    },
    {
     "data": {
      "text/plain": [
       "[Result(organization=4, content=['event_happened', 'event_time'], log=\"/root/.cache/pypoetry/virtualenvs/verticox-9TtSrW0h-py3.10/lib/python3.10/site-packages/vantage6/common/encryption.py:25: CryptographyDeprecationWarning: Use PrivateKeyTypes instead\\n  from cryptography.hazmat.primitives.asymmetric.types import PRIVATE_KEY_TYPES\\ninfo > wrapper for verticox\\ninfo > Reading input file /mnt/data/task-000001540/input\\ninfo > Reading token file '/mnt/data/task-000001540/token'\\ninfo > Using '/mnt/data/default.parquet' as database\\ninfo > Dispatching ...\\ninfo > Module 'verticox' imported!\\ninfo > Running a regular container\\ninfo > Writing output to /mnt/data/task-000001540/output\\n\"),\n",
       " Result(organization=5, content=['age'], log=\"/root/.cache/pypoetry/virtualenvs/verticox-9TtSrW0h-py3.10/lib/python3.10/site-packages/vantage6/common/encryption.py:25: CryptographyDeprecationWarning: Use PrivateKeyTypes instead\\n  from cryptography.hazmat.primitives.asymmetric.types import PRIVATE_KEY_TYPES\\ninfo > wrapper for verticox\\ninfo > Reading input file /mnt/data/task-000001541/input\\ninfo > Reading token file '/mnt/data/task-000001541/token'\\ninfo > Using '/mnt/data/default.parquet' as database\\ninfo > Dispatching ...\\ninfo > Module 'verticox' imported!\\ninfo > Running a regular container\\ninfo > Writing output to /mnt/data/task-000001541/output\\n\"),\n",
       " Result(organization=6, content=['bmi'], log=\"/root/.cache/pypoetry/virtualenvs/verticox-9TtSrW0h-py3.10/lib/python3.10/site-packages/vantage6/common/encryption.py:25: CryptographyDeprecationWarning: Use PrivateKeyTypes instead\\n  from cryptography.hazmat.primitives.asymmetric.types import PRIVATE_KEY_TYPES\\ninfo > wrapper for verticox\\ninfo > Reading input file /mnt/data/task-000001542/input\\ninfo > Reading token file '/mnt/data/task-000001542/token'\\ninfo > Using '/mnt/data/default.parquet' as database\\ninfo > Dispatching ...\\ninfo > Module 'verticox' imported!\\ninfo > Running a regular container\\ninfo > Writing output to /mnt/data/task-000001542/output\\n\")]"
      ]
     },
     "execution_count": 9,
     "metadata": {},
     "output_type": "execute_result"
    }
   ],
   "source": [
    "results = task.get_results()\n",
    "results"
   ]
  },
  {
   "cell_type": "code",
   "execution_count": 10,
   "id": "a3591fab-04f1-4631-9ebd-1bf42981994c",
   "metadata": {
    "tags": []
   },
   "outputs": [
    {
     "name": "stdout",
     "output_type": "stream",
     "text": [
      "Organization: 4, Content: ['event_happened', 'event_time']\n",
      "Organization: 5, Content: ['age']\n",
      "Organization: 6, Content: ['bmi']\n"
     ]
    }
   ],
   "source": [
    "for r in results:\n",
    "    print(f\"Organization: {r.organization}, Content: {r.content}\")"
   ]
  },
  {
   "cell_type": "markdown",
   "id": "863ba529-e1b1-4042-b557-dca9e335a48e",
   "metadata": {},
   "source": [
    "## Running cox proportional hazard analysis\n",
    "If you want to fit a model on the entire dataset you can run `VerticoxClient.fit`\n",
    "\n",
    "### Docstring\n",
    "Run cox proportional hazard analysis on the entire dataset.\n",
    "\n",
    "Args:\n",
    "- __feature_columns:__ a list of column names that you want to use as features\n",
    "- __outcome_time_column:__ the column name of the outcome time\n",
    "- __right_censor_column:__ the column name of the binary value that indicates if an event happened.\n",
    "- __feature_nodes:__ A list of node ids from the datasources that contain the feature columns\n",
    "- __outcome_node:__ The node id of the datasource that contains the outcome\n",
    "- __precision:__ precision of the verticox algorithm. The smaller the number, the more\n",
    "  precise the result. Smaller precision will take longer to compute though. The default is\n",
    "  1e-5\n",
    "- __database:__ If the nodes have multiple datasources, indicate the label of the datasource\n",
    "  you would like to use. Otherwise the default will be used.\n",
    "  \n",
    "  \n",
    "TODO: hide feature nodes, outcome nodes"
   ]
  },
  {
   "cell_type": "code",
   "execution_count": 11,
   "id": "17dcf0b0-ffa6-4281-8c5a-b32129199321",
   "metadata": {
    "tags": []
   },
   "outputs": [
    {
     "name": "stdout",
     "output_type": "stream",
     "text": [
      "\n",
      "                    task = self.v6client.task.create(collaboration=1,\n",
      "                                             organizations=[4],\n",
      "                                             name=,\n",
      "                                             image=harbor.carrier-mu.src.surf-hosted.nl/carrier/verticox:test,\n",
      "                                             description=,\n",
      "                                             input={'method': 'fit', 'master': True, 'kwargs': {'feature_columns': ['age', 'bmi'], 'event_times_column': 'event_time', 'event_happened_column': 'event_happened', 'datanode_ids': [5, 6], 'central_node_id': 4, 'precision': 1e-05}},\n",
      "                                             data_format=json,\n",
      "                                             database=default\n",
      "                                             )\n",
      "            \n",
      "Making request: GET | https://v6server.carrier-mu.src.surf-hosted.nl:443/api/organization/4 | None\n",
      "Starting new HTTPS connection (1): v6server.carrier-mu.src.surf-hosted.nl:443\n",
      "https://v6server.carrier-mu.src.surf-hosted.nl:443 \"GET /api/organization/4 HTTP/1.1\" 200 36341\n",
      "Making request: POST | https://v6server.carrier-mu.src.surf-hosted.nl:443/api/task | None\n",
      "Starting new HTTPS connection (1): v6server.carrier-mu.src.surf-hosted.nl:443\n",
      "https://v6server.carrier-mu.src.surf-hosted.nl:443 \"POST /api/task HTTP/1.1\" 201 441\n"
     ]
    }
   ],
   "source": [
    "task = verticox_client.fit(feature_columns=['age', 'bmi'],\n",
    "                    outcome_time_column='event_time',\n",
    "                    right_censor_column='event_happened',\n",
    "                    feature_nodes=[5,6],\n",
    "                    outcome_node=4\n",
    "                   )"
   ]
  },
  {
   "cell_type": "code",
   "execution_count": 12,
   "id": "f08e6fa5-77b4-443e-81ef-5ab592c328ff",
   "metadata": {
    "collapsed": true,
    "jupyter": {
     "outputs_hidden": true
    },
    "tags": []
   },
   "outputs": [
    {
     "name": "stdout",
     "output_type": "stream",
     "text": [
      "--> Attempting to decrypt results!\n",
      "Making request: GET | https://v6server.carrier-mu.src.surf-hosted.nl:443/api/result/1543 | {}\n",
      "Starting new HTTPS connection (1): v6server.carrier-mu.src.surf-hosted.nl:443\n",
      "https://v6server.carrier-mu.src.surf-hosted.nl:443 \"GET /api/result/1543 HTTP/1.1\" 200 1591\n",
      "Decrypting input\n",
      "Encryption/decryption failed.\n",
      "--> Attempting to decrypt results!\n",
      "Making request: GET | https://v6server.carrier-mu.src.surf-hosted.nl:443/api/result/1543 | {}\n",
      "Starting new HTTPS connection (1): v6server.carrier-mu.src.surf-hosted.nl:443\n",
      "https://v6server.carrier-mu.src.surf-hosted.nl:443 \"GET /api/result/1543 HTTP/1.1\" 200 1591\n",
      "Decrypting input\n",
      "Encryption/decryption failed.\n",
      "--> Attempting to decrypt results!\n",
      "Making request: GET | https://v6server.carrier-mu.src.surf-hosted.nl:443/api/result/1543 | {}\n",
      "Starting new HTTPS connection (1): v6server.carrier-mu.src.surf-hosted.nl:443\n",
      "https://v6server.carrier-mu.src.surf-hosted.nl:443 \"GET /api/result/1543 HTTP/1.1\" 200 1591\n",
      "Decrypting input\n",
      "Encryption/decryption failed.\n",
      "--> Attempting to decrypt results!\n",
      "Making request: GET | https://v6server.carrier-mu.src.surf-hosted.nl:443/api/result/1543 | {}\n",
      "Starting new HTTPS connection (1): v6server.carrier-mu.src.surf-hosted.nl:443\n",
      "https://v6server.carrier-mu.src.surf-hosted.nl:443 \"GET /api/result/1543 HTTP/1.1\" 200 1591\n",
      "Decrypting input\n",
      "Encryption/decryption failed.\n",
      "--> Attempting to decrypt results!\n",
      "Making request: GET | https://v6server.carrier-mu.src.surf-hosted.nl:443/api/result/1543 | {}\n",
      "Starting new HTTPS connection (1): v6server.carrier-mu.src.surf-hosted.nl:443\n",
      "https://v6server.carrier-mu.src.surf-hosted.nl:443 \"GET /api/result/1543 HTTP/1.1\" 200 1591\n",
      "Decrypting input\n",
      "Encryption/decryption failed.\n",
      "--> Attempting to decrypt results!\n",
      "Making request: GET | https://v6server.carrier-mu.src.surf-hosted.nl:443/api/result/1543 | {}\n",
      "Starting new HTTPS connection (1): v6server.carrier-mu.src.surf-hosted.nl:443\n",
      "https://v6server.carrier-mu.src.surf-hosted.nl:443 \"GET /api/result/1543 HTTP/1.1\" 200 1591\n",
      "Decrypting input\n",
      "Encryption/decryption failed.\n",
      "--> Attempting to decrypt results!\n",
      "Making request: GET | https://v6server.carrier-mu.src.surf-hosted.nl:443/api/result/1543 | {}\n",
      "Starting new HTTPS connection (1): v6server.carrier-mu.src.surf-hosted.nl:443\n",
      "https://v6server.carrier-mu.src.surf-hosted.nl:443 \"GET /api/result/1543 HTTP/1.1\" 200 1591\n",
      "Decrypting input\n",
      "Encryption/decryption failed.\n",
      "--> Attempting to decrypt results!\n",
      "Making request: GET | https://v6server.carrier-mu.src.surf-hosted.nl:443/api/result/1543 | {}\n",
      "Starting new HTTPS connection (1): v6server.carrier-mu.src.surf-hosted.nl:443\n",
      "https://v6server.carrier-mu.src.surf-hosted.nl:443 \"GET /api/result/1543 HTTP/1.1\" 200 1591\n",
      "Decrypting input\n",
      "Encryption/decryption failed.\n",
      "--> Attempting to decrypt results!\n",
      "Making request: GET | https://v6server.carrier-mu.src.surf-hosted.nl:443/api/result/1543 | {}\n",
      "Starting new HTTPS connection (1): v6server.carrier-mu.src.surf-hosted.nl:443\n",
      "https://v6server.carrier-mu.src.surf-hosted.nl:443 \"GET /api/result/1543 HTTP/1.1\" 200 1591\n",
      "Decrypting input\n",
      "Encryption/decryption failed.\n",
      "--> Attempting to decrypt results!\n",
      "Making request: GET | https://v6server.carrier-mu.src.surf-hosted.nl:443/api/result/1543 | {}\n",
      "Starting new HTTPS connection (1): v6server.carrier-mu.src.surf-hosted.nl:443\n",
      "https://v6server.carrier-mu.src.surf-hosted.nl:443 \"GET /api/result/1543 HTTP/1.1\" 200 1591\n",
      "Decrypting input\n",
      "Encryption/decryption failed.\n",
      "--> Attempting to decrypt results!\n",
      "Making request: GET | https://v6server.carrier-mu.src.surf-hosted.nl:443/api/result/1543 | {}\n",
      "Starting new HTTPS connection (1): v6server.carrier-mu.src.surf-hosted.nl:443\n",
      "https://v6server.carrier-mu.src.surf-hosted.nl:443 \"GET /api/result/1543 HTTP/1.1\" 200 1591\n",
      "Decrypting input\n",
      "Encryption/decryption failed.\n",
      "--> Attempting to decrypt results!\n",
      "Making request: GET | https://v6server.carrier-mu.src.surf-hosted.nl:443/api/result/1543 | {}\n",
      "Starting new HTTPS connection (1): v6server.carrier-mu.src.surf-hosted.nl:443\n",
      "https://v6server.carrier-mu.src.surf-hosted.nl:443 \"GET /api/result/1543 HTTP/1.1\" 200 1591\n",
      "Decrypting input\n",
      "Encryption/decryption failed.\n",
      "--> Attempting to decrypt results!\n",
      "Making request: GET | https://v6server.carrier-mu.src.surf-hosted.nl:443/api/result/1543 | {}\n",
      "Starting new HTTPS connection (1): v6server.carrier-mu.src.surf-hosted.nl:443\n",
      "https://v6server.carrier-mu.src.surf-hosted.nl:443 \"GET /api/result/1543 HTTP/1.1\" 200 1591\n",
      "Decrypting input\n",
      "Encryption/decryption failed.\n",
      "--> Attempting to decrypt results!\n",
      "Making request: GET | https://v6server.carrier-mu.src.surf-hosted.nl:443/api/result/1543 | {}\n",
      "Starting new HTTPS connection (1): v6server.carrier-mu.src.surf-hosted.nl:443\n",
      "https://v6server.carrier-mu.src.surf-hosted.nl:443 \"GET /api/result/1543 HTTP/1.1\" 200 1591\n",
      "Decrypting input\n",
      "Encryption/decryption failed.\n",
      "--> Attempting to decrypt results!\n",
      "Making request: GET | https://v6server.carrier-mu.src.surf-hosted.nl:443/api/result/1543 | {}\n",
      "Starting new HTTPS connection (1): v6server.carrier-mu.src.surf-hosted.nl:443\n",
      "https://v6server.carrier-mu.src.surf-hosted.nl:443 \"GET /api/result/1543 HTTP/1.1\" 200 1591\n",
      "Decrypting input\n",
      "Encryption/decryption failed.\n",
      "--> Attempting to decrypt results!\n",
      "Making request: GET | https://v6server.carrier-mu.src.surf-hosted.nl:443/api/result/1543 | {}\n",
      "Starting new HTTPS connection (1): v6server.carrier-mu.src.surf-hosted.nl:443\n",
      "https://v6server.carrier-mu.src.surf-hosted.nl:443 \"GET /api/result/1543 HTTP/1.1\" 200 1591\n",
      "Decrypting input\n",
      "Encryption/decryption failed.\n",
      "--> Attempting to decrypt results!\n",
      "Making request: GET | https://v6server.carrier-mu.src.surf-hosted.nl:443/api/result/1543 | {}\n",
      "Starting new HTTPS connection (1): v6server.carrier-mu.src.surf-hosted.nl:443\n",
      "https://v6server.carrier-mu.src.surf-hosted.nl:443 \"GET /api/result/1543 HTTP/1.1\" 200 1591\n",
      "Decrypting input\n",
      "Encryption/decryption failed.\n",
      "--> Attempting to decrypt results!\n",
      "Making request: GET | https://v6server.carrier-mu.src.surf-hosted.nl:443/api/result/1543 | {}\n",
      "Starting new HTTPS connection (1): v6server.carrier-mu.src.surf-hosted.nl:443\n",
      "https://v6server.carrier-mu.src.surf-hosted.nl:443 \"GET /api/result/1543 HTTP/1.1\" 200 1591\n",
      "Decrypting input\n",
      "Encryption/decryption failed.\n",
      "--> Attempting to decrypt results!\n",
      "Making request: GET | https://v6server.carrier-mu.src.surf-hosted.nl:443/api/result/1543 | {}\n",
      "Starting new HTTPS connection (1): v6server.carrier-mu.src.surf-hosted.nl:443\n",
      "https://v6server.carrier-mu.src.surf-hosted.nl:443 \"GET /api/result/1543 HTTP/1.1\" 200 1591\n",
      "Decrypting input\n",
      "Encryption/decryption failed.\n",
      "--> Attempting to decrypt results!\n",
      "Making request: GET | https://v6server.carrier-mu.src.surf-hosted.nl:443/api/result/1543 | {}\n",
      "Starting new HTTPS connection (1): v6server.carrier-mu.src.surf-hosted.nl:443\n",
      "https://v6server.carrier-mu.src.surf-hosted.nl:443 \"GET /api/result/1543 HTTP/1.1\" 200 1591\n",
      "Decrypting input\n",
      "Encryption/decryption failed.\n",
      "--> Attempting to decrypt results!\n",
      "Making request: GET | https://v6server.carrier-mu.src.surf-hosted.nl:443/api/result/1543 | {}\n",
      "Starting new HTTPS connection (1): v6server.carrier-mu.src.surf-hosted.nl:443\n",
      "https://v6server.carrier-mu.src.surf-hosted.nl:443 \"GET /api/result/1543 HTTP/1.1\" 200 1591\n",
      "Decrypting input\n",
      "Encryption/decryption failed.\n",
      "--> Attempting to decrypt results!\n",
      "Making request: GET | https://v6server.carrier-mu.src.surf-hosted.nl:443/api/result/1543 | {}\n",
      "Starting new HTTPS connection (1): v6server.carrier-mu.src.surf-hosted.nl:443\n",
      "https://v6server.carrier-mu.src.surf-hosted.nl:443 \"GET /api/result/1543 HTTP/1.1\" 200 1591\n",
      "Decrypting input\n",
      "Encryption/decryption failed.\n",
      "--> Attempting to decrypt results!\n",
      "Making request: GET | https://v6server.carrier-mu.src.surf-hosted.nl:443/api/result/1543 | {}\n",
      "Starting new HTTPS connection (1): v6server.carrier-mu.src.surf-hosted.nl:443\n",
      "https://v6server.carrier-mu.src.surf-hosted.nl:443 \"GET /api/result/1543 HTTP/1.1\" 200 1591\n",
      "Decrypting input\n",
      "Encryption/decryption failed.\n",
      "--> Attempting to decrypt results!\n",
      "Making request: GET | https://v6server.carrier-mu.src.surf-hosted.nl:443/api/result/1543 | {}\n",
      "Starting new HTTPS connection (1): v6server.carrier-mu.src.surf-hosted.nl:443\n",
      "https://v6server.carrier-mu.src.surf-hosted.nl:443 \"GET /api/result/1543 HTTP/1.1\" 200 1591\n",
      "Decrypting input\n",
      "Encryption/decryption failed.\n",
      "--> Attempting to decrypt results!\n",
      "Making request: GET | https://v6server.carrier-mu.src.surf-hosted.nl:443/api/result/1543 | {}\n",
      "Starting new HTTPS connection (1): v6server.carrier-mu.src.surf-hosted.nl:443\n",
      "https://v6server.carrier-mu.src.surf-hosted.nl:443 \"GET /api/result/1543 HTTP/1.1\" 200 1591\n",
      "Decrypting input\n",
      "Encryption/decryption failed.\n",
      "--> Attempting to decrypt results!\n",
      "Making request: GET | https://v6server.carrier-mu.src.surf-hosted.nl:443/api/result/1543 | {}\n",
      "Starting new HTTPS connection (1): v6server.carrier-mu.src.surf-hosted.nl:443\n",
      "https://v6server.carrier-mu.src.surf-hosted.nl:443 \"GET /api/result/1543 HTTP/1.1\" 200 1591\n",
      "Decrypting input\n",
      "Encryption/decryption failed.\n",
      "--> Attempting to decrypt results!\n",
      "Making request: GET | https://v6server.carrier-mu.src.surf-hosted.nl:443/api/result/1543 | {}\n",
      "Starting new HTTPS connection (1): v6server.carrier-mu.src.surf-hosted.nl:443\n",
      "https://v6server.carrier-mu.src.surf-hosted.nl:443 \"GET /api/result/1543 HTTP/1.1\" 200 1591\n",
      "Decrypting input\n",
      "Encryption/decryption failed.\n",
      "--> Attempting to decrypt results!\n",
      "Making request: GET | https://v6server.carrier-mu.src.surf-hosted.nl:443/api/result/1543 | {}\n",
      "Starting new HTTPS connection (1): v6server.carrier-mu.src.surf-hosted.nl:443\n",
      "https://v6server.carrier-mu.src.surf-hosted.nl:443 \"GET /api/result/1543 HTTP/1.1\" 200 1591\n",
      "Decrypting input\n",
      "Encryption/decryption failed.\n",
      "--> Attempting to decrypt results!\n",
      "Making request: GET | https://v6server.carrier-mu.src.surf-hosted.nl:443/api/result/1543 | {}\n",
      "Starting new HTTPS connection (1): v6server.carrier-mu.src.surf-hosted.nl:443\n",
      "https://v6server.carrier-mu.src.surf-hosted.nl:443 \"GET /api/result/1543 HTTP/1.1\" 200 1591\n",
      "Decrypting input\n",
      "Encryption/decryption failed.\n",
      "--> Attempting to decrypt results!\n",
      "Making request: GET | https://v6server.carrier-mu.src.surf-hosted.nl:443/api/result/1543 | {}\n",
      "Starting new HTTPS connection (1): v6server.carrier-mu.src.surf-hosted.nl:443\n",
      "https://v6server.carrier-mu.src.surf-hosted.nl:443 \"GET /api/result/1543 HTTP/1.1\" 200 1591\n",
      "Decrypting input\n",
      "Encryption/decryption failed.\n",
      "--> Attempting to decrypt results!\n",
      "Making request: GET | https://v6server.carrier-mu.src.surf-hosted.nl:443/api/result/1543 | {}\n",
      "Starting new HTTPS connection (1): v6server.carrier-mu.src.surf-hosted.nl:443\n",
      "https://v6server.carrier-mu.src.surf-hosted.nl:443 \"GET /api/result/1543 HTTP/1.1\" 200 1591\n",
      "Decrypting input\n",
      "Encryption/decryption failed.\n",
      "--> Attempting to decrypt results!\n",
      "Making request: GET | https://v6server.carrier-mu.src.surf-hosted.nl:443/api/result/1543 | {}\n",
      "Starting new HTTPS connection (1): v6server.carrier-mu.src.surf-hosted.nl:443\n",
      "https://v6server.carrier-mu.src.surf-hosted.nl:443 \"GET /api/result/1543 HTTP/1.1\" 200 1591\n",
      "Decrypting input\n",
      "Encryption/decryption failed.\n",
      "--> Attempting to decrypt results!\n",
      "Making request: GET | https://v6server.carrier-mu.src.surf-hosted.nl:443/api/result/1543 | {}\n",
      "Starting new HTTPS connection (1): v6server.carrier-mu.src.surf-hosted.nl:443\n",
      "https://v6server.carrier-mu.src.surf-hosted.nl:443 \"GET /api/result/1543 HTTP/1.1\" 200 1591\n",
      "Decrypting input\n",
      "Encryption/decryption failed.\n",
      "--> Attempting to decrypt results!\n",
      "Making request: GET | https://v6server.carrier-mu.src.surf-hosted.nl:443/api/result/1543 | {}\n",
      "Starting new HTTPS connection (1): v6server.carrier-mu.src.surf-hosted.nl:443\n",
      "https://v6server.carrier-mu.src.surf-hosted.nl:443 \"GET /api/result/1543 HTTP/1.1\" 200 1591\n",
      "Decrypting input\n",
      "Encryption/decryption failed.\n",
      "--> Attempting to decrypt results!\n",
      "Making request: GET | https://v6server.carrier-mu.src.surf-hosted.nl:443/api/result/1543 | {}\n",
      "Starting new HTTPS connection (1): v6server.carrier-mu.src.surf-hosted.nl:443\n",
      "https://v6server.carrier-mu.src.surf-hosted.nl:443 \"GET /api/result/1543 HTTP/1.1\" 200 1591\n",
      "Decrypting input\n",
      "Encryption/decryption failed.\n",
      "--> Attempting to decrypt results!\n",
      "Making request: GET | https://v6server.carrier-mu.src.surf-hosted.nl:443/api/result/1543 | {}\n",
      "Starting new HTTPS connection (1): v6server.carrier-mu.src.surf-hosted.nl:443\n",
      "https://v6server.carrier-mu.src.surf-hosted.nl:443 \"GET /api/result/1543 HTTP/1.1\" 200 1591\n",
      "Decrypting input\n",
      "Encryption/decryption failed.\n",
      "--> Attempting to decrypt results!\n",
      "Making request: GET | https://v6server.carrier-mu.src.surf-hosted.nl:443/api/result/1543 | {}\n",
      "Starting new HTTPS connection (1): v6server.carrier-mu.src.surf-hosted.nl:443\n",
      "https://v6server.carrier-mu.src.surf-hosted.nl:443 \"GET /api/result/1543 HTTP/1.1\" 200 1591\n",
      "Decrypting input\n",
      "Encryption/decryption failed.\n",
      "--> Attempting to decrypt results!\n",
      "Making request: GET | https://v6server.carrier-mu.src.surf-hosted.nl:443/api/result/1543 | {}\n",
      "Starting new HTTPS connection (1): v6server.carrier-mu.src.surf-hosted.nl:443\n",
      "https://v6server.carrier-mu.src.surf-hosted.nl:443 \"GET /api/result/1543 HTTP/1.1\" 200 1591\n",
      "Decrypting input\n",
      "Encryption/decryption failed.\n",
      "--> Attempting to decrypt results!\n",
      "Making request: GET | https://v6server.carrier-mu.src.surf-hosted.nl:443/api/result/1543 | {}\n",
      "Starting new HTTPS connection (1): v6server.carrier-mu.src.surf-hosted.nl:443\n",
      "https://v6server.carrier-mu.src.surf-hosted.nl:443 \"GET /api/result/1543 HTTP/1.1\" 200 1591\n",
      "Decrypting input\n",
      "Encryption/decryption failed.\n",
      "--> Attempting to decrypt results!\n",
      "Making request: GET | https://v6server.carrier-mu.src.surf-hosted.nl:443/api/result/1543 | {}\n",
      "Starting new HTTPS connection (1): v6server.carrier-mu.src.surf-hosted.nl:443\n",
      "https://v6server.carrier-mu.src.surf-hosted.nl:443 \"GET /api/result/1543 HTTP/1.1\" 200 1591\n",
      "Decrypting input\n",
      "Encryption/decryption failed.\n",
      "--> Attempting to decrypt results!\n",
      "Making request: GET | https://v6server.carrier-mu.src.surf-hosted.nl:443/api/result/1543 | {}\n",
      "Starting new HTTPS connection (1): v6server.carrier-mu.src.surf-hosted.nl:443\n",
      "https://v6server.carrier-mu.src.surf-hosted.nl:443 \"GET /api/result/1543 HTTP/1.1\" 200 1591\n",
      "Decrypting input\n",
      "Encryption/decryption failed.\n",
      "--> Attempting to decrypt results!\n",
      "Making request: GET | https://v6server.carrier-mu.src.surf-hosted.nl:443/api/result/1543 | {}\n",
      "Starting new HTTPS connection (1): v6server.carrier-mu.src.surf-hosted.nl:443\n",
      "https://v6server.carrier-mu.src.surf-hosted.nl:443 \"GET /api/result/1543 HTTP/1.1\" 200 1591\n",
      "Decrypting input\n",
      "Encryption/decryption failed.\n",
      "--> Attempting to decrypt results!\n",
      "Making request: GET | https://v6server.carrier-mu.src.surf-hosted.nl:443/api/result/1543 | {}\n",
      "Starting new HTTPS connection (1): v6server.carrier-mu.src.surf-hosted.nl:443\n",
      "https://v6server.carrier-mu.src.surf-hosted.nl:443 \"GET /api/result/1543 HTTP/1.1\" 200 1591\n",
      "Decrypting input\n",
      "Encryption/decryption failed.\n",
      "--> Attempting to decrypt results!\n",
      "Making request: GET | https://v6server.carrier-mu.src.surf-hosted.nl:443/api/result/1543 | {}\n",
      "Starting new HTTPS connection (1): v6server.carrier-mu.src.surf-hosted.nl:443\n",
      "https://v6server.carrier-mu.src.surf-hosted.nl:443 \"GET /api/result/1543 HTTP/1.1\" 200 1591\n",
      "Decrypting input\n",
      "Encryption/decryption failed.\n",
      "--> Attempting to decrypt results!\n",
      "Making request: GET | https://v6server.carrier-mu.src.surf-hosted.nl:443/api/result/1543 | {}\n",
      "Starting new HTTPS connection (1): v6server.carrier-mu.src.surf-hosted.nl:443\n",
      "https://v6server.carrier-mu.src.surf-hosted.nl:443 \"GET /api/result/1543 HTTP/1.1\" 200 1591\n",
      "Decrypting input\n",
      "Encryption/decryption failed.\n",
      "--> Attempting to decrypt results!\n",
      "Making request: GET | https://v6server.carrier-mu.src.surf-hosted.nl:443/api/result/1543 | {}\n",
      "Starting new HTTPS connection (1): v6server.carrier-mu.src.surf-hosted.nl:443\n",
      "https://v6server.carrier-mu.src.surf-hosted.nl:443 \"GET /api/result/1543 HTTP/1.1\" 200 1591\n",
      "Decrypting input\n",
      "Encryption/decryption failed.\n",
      "--> Attempting to decrypt results!\n",
      "Making request: GET | https://v6server.carrier-mu.src.surf-hosted.nl:443/api/result/1543 | {}\n",
      "Starting new HTTPS connection (1): v6server.carrier-mu.src.surf-hosted.nl:443\n",
      "https://v6server.carrier-mu.src.surf-hosted.nl:443 \"GET /api/result/1543 HTTP/1.1\" 200 11040\n",
      "Decrypting input\n",
      "Encryption/decryption failed.\n",
      "Decrypting result\n",
      "Decrypted shared key: b'\\x03\\xa4\\xe4\\xbc=q\\x03\\x17\\x0e$/I7\\x0bU\\x1a\\xd7\\x88p\\xa8R,\\xaa\\x85\\xbd\\xaaw0\\x16\\xb0\\x9a\\xdd'\n",
      "No data format specified. Assuming input data is pickle format\n",
      "Received a result\n"
     ]
    }
   ],
   "source": [
    "results = task.get_results()"
   ]
  },
  {
   "cell_type": "code",
   "execution_count": 14,
   "id": "4dd14457-51ae-4372-8d0e-07897403fb14",
   "metadata": {
    "tags": []
   },
   "outputs": [
    {
     "data": {
      "image/png": "[encoded data removed]",
      "text/plain": [
       "<Figure size 640x480 with 2 Axes>"
      ]
     },
     "metadata": {},
     "output_type": "display_data"
    }
   ],
   "source": [
    "results.plot()"
   ]
  },
  {
   "cell_type": "code",
   "execution_count": 21,
   "id": "335e6ad7-9445-4b27-9ca6-481023155737",
   "metadata": {
    "tags": []
   },
   "outputs": [
    {
     "name": "stdout",
     "output_type": "stream",
     "text": [
      "{'age': 0.055669113993644714, 'bmi': -0.09089863300323486}\n",
      "[1.0, 2.0, 3.0, 4.0, 6.0, 7.0, 42.0, 61.0, 64.0, 88.0, 95.0, 97.0, 100.0, 118.0, 151.0, 192.0, 197.0, 235.0, 297.0, 343.0, 354.0, 422.0, 446.0, 535.0, 612.0, 670.0, 714.0, 849.0, 865.0, 903.0, 905.0, 920.0, 1065.0, 1233.0, 1317.0, 1496.0, 1548.0, 1553.0, 1576.0, 1579.0, 1671.0, 1887.0, 1920.0, 1933.0, 1939.0, 1940.0, 1941.0, 1942.0, 1954.0, 1955.0, 1964.0, 1969.0, 1976.0, 1993.0, 1994.0, 2006.0, 2009.0, 2025.0, 2032.0, 2048.0, 2057.0, 2064.0, 2065.0, 2084.0, 2086.0, 2113.0, 2114.0, 2118.0, 2122.0, 2123.0, 2125.0, 2126.0, 2131.0, 2132.0, 2139.0, 2145.0, 2146.0, 2151.0, 2152.0, 2156.0, 2160.0, 2166.0, 2168.0, 2172.0, 2173.0, 2175.0, 2178.0, 2190.0, 2192.0, 2353.0, 2358.0]\n",
      "[0.0012652970533598865, 0.0012774381260462209, 0.001363799106126895, 0.0014072088079393344, 0.001448865106989711, 0.0016253721752260706, 0.001677158186291496, 0.0016982819088793223, 0.0017199623148206142, 0.0017270900584180615, 0.0017472795025242015, 0.0017608278621776246, 0.0017910089471768517, 0.001821662430737143, 0.0018855745791019007, 0.0019328185748954537, 0.0020000699461162176, 0.0020545423566666063, 0.002137492932790789, 0.002157673119375079, 0.0022014962824943515, 0.0022408078485668093, 0.002274049412631603, 0.0023638490521261687, 0.002431009526304642, 0.002457289634880808, 0.002513405654477138, 0.002532174346035866, 0.0026230866346048515, 0.0026490702877335764, 0.002716750341405078, 0.0027596705730325083, 0.0028467048713893416, 0.0029333529268971044, 0.00306960510331268, 0.003107335467986336, 0.003124975619791616, 0.003178113215173947, 0.003730116983182005, 0.003878284046123213, 0.0040777340502185615, 0.004158978126270906, 0.004236345691956344, 0.004255775782779239, 0.004394350672632769, 0.004924332146351036, 0.004965950877494475, 0.005110082597981543, 0.0051944586011874044, 0.005313967923134073, 0.005453960081623028, 0.005781299808124121, 0.006046237039287122, 0.006149697620685864, 0.006275166824839915, 0.006453319601611594, 0.00652281947845105, 0.007520806461836559, 0.007733186894400025, 0.007829619417425247, 0.008152675005062605, 0.008279663644103246, 0.008830464386624035, 0.009079956595697894, 0.009148259854758829, 0.00916587905837881, 0.009630350964162909, 0.010564466986027544, 0.010737364771993062, 0.01081392478878466, 0.011019314308473836, 0.011641156684238603, 0.013625223717806816, 0.014697305412431685, 0.016833002012378362, 0.017262889267402007, 0.01883945240740702, 0.019702151135815176, 0.019847075634085335, 0.020038857041487345, 0.025468775714864424, 0.0322530223269224, 0.03677380543476523, 0.04162831155678623, 0.04484473808694141, 0.04628040266936474, 0.050954675818726335, 0.10350165417726868, 0.32452850686282697, 0.40240693433609803, 1.6140189982644957]\n"
     ]
    }
   ],
   "source": [
    "print(results.coefs)\n",
    "print(results.baseline_hazard.x)\n",
    "print(results.baseline_hazard.y)"
   ]
  },
  {
   "cell_type": "markdown",
   "id": "52b3418b-db99-49d6-a15c-f1c912c31154",
   "metadata": {},
   "source": [
    "## Crossvalidation\n",
    "It's also possible to run crossvalidation. The parameters are similar to the `fit` method."
   ]
  },
  {
   "cell_type": "code",
   "execution_count": 8,
   "id": "3d94a0a5-b7f1-48cb-a38b-60bac8a4c123",
   "metadata": {},
   "outputs": [
    {
     "name": "stdout",
     "output_type": "stream",
     "text": [
      "\n",
      "                    task = self.v6client.task.create(collaboration=1,\n",
      "                                             organizations=[4],\n",
      "                                             name=,\n",
      "                                             image=harbor.carrier-mu.src.surf-hosted.nl/carrier/verticox:test,\n",
      "                                             description=,\n",
      "                                             input={'method': 'cross_validate', 'master': True, 'kwargs': {'feature_columns': ['age', 'bmi'], 'event_times_column': 'event_time', 'event_happened_column': 'event_happened', 'datanode_ids': [5, 6], 'central_node_id': 4, 'precision': 1e-05}},\n",
      "                                             data_format=json,\n",
      "                                             database=default\n",
      "                                             )\n",
      "            \n",
      "Making request: GET | https://v6server.carrier-mu.src.surf-hosted.nl:443/api/organization/4 | None\n",
      "Starting new HTTPS connection (1): v6server.carrier-mu.src.surf-hosted.nl:443\n",
      "https://v6server.carrier-mu.src.surf-hosted.nl:443 \"GET /api/organization/4 HTTP/1.1\" 200 36767\n",
      "Making request: POST | https://v6server.carrier-mu.src.surf-hosted.nl:443/api/task | None\n",
      "Starting new HTTPS connection (1): v6server.carrier-mu.src.surf-hosted.nl:443\n",
      "https://v6server.carrier-mu.src.surf-hosted.nl:443 \"POST /api/task HTTP/1.1\" 201 441\n"
     ]
    }
   ],
   "source": [
    "crossval_task = verticox_client.cross_validate(feature_columns=['age', 'bmi'],\n",
    "                    outcome_time_column='event_time',\n",
    "                    right_censor_column='event_happened',\n",
    "                    feature_nodes=[5,6],\n",
    "                    outcome_node=4\n",
    "                   )"
   ]
  },
  {
   "cell_type": "code",
   "execution_count": 10,
   "id": "5c5e8155-a1b2-4454-8de0-e1a6747fd1e2",
   "metadata": {
    "tags": []
   },
   "outputs": [
    {
     "name": "stdout",
     "output_type": "stream",
     "text": [
      "--> Attempting to decrypt results!\n",
      "Making request: GET | https://v6server.carrier-mu.src.surf-hosted.nl:443/api/result/1561 | {}\n",
      "Starting new HTTPS connection (1): v6server.carrier-mu.src.surf-hosted.nl:443\n",
      "https://v6server.carrier-mu.src.surf-hosted.nl:443 \"GET /api/result/1561 HTTP/1.1\" 200 1607\n",
      "Decrypting input\n",
      "Encryption/decryption failed.\n",
      "--> Attempting to decrypt results!\n",
      "Making request: GET | https://v6server.carrier-mu.src.surf-hosted.nl:443/api/result/1561 | {}\n",
      "Starting new HTTPS connection (1): v6server.carrier-mu.src.surf-hosted.nl:443\n",
      "https://v6server.carrier-mu.src.surf-hosted.nl:443 \"GET /api/result/1561 HTTP/1.1\" 200 1607\n",
      "Decrypting input\n",
      "Encryption/decryption failed.\n",
      "--> Attempting to decrypt results!\n",
      "Making request: GET | https://v6server.carrier-mu.src.surf-hosted.nl:443/api/result/1561 | {}\n",
      "Starting new HTTPS connection (1): v6server.carrier-mu.src.surf-hosted.nl:443\n",
      "https://v6server.carrier-mu.src.surf-hosted.nl:443 \"GET /api/result/1561 HTTP/1.1\" 200 1607\n",
      "Decrypting input\n",
      "Encryption/decryption failed.\n",
      "--> Attempting to decrypt results!\n",
      "Making request: GET | https://v6server.carrier-mu.src.surf-hosted.nl:443/api/result/1561 | {}\n",
      "Starting new HTTPS connection (1): v6server.carrier-mu.src.surf-hosted.nl:443\n",
      "https://v6server.carrier-mu.src.surf-hosted.nl:443 \"GET /api/result/1561 HTTP/1.1\" 200 1607\n",
      "Decrypting input\n",
      "Encryption/decryption failed.\n",
      "--> Attempting to decrypt results!\n",
      "Making request: GET | https://v6server.carrier-mu.src.surf-hosted.nl:443/api/result/1561 | {}\n",
      "Starting new HTTPS connection (1): v6server.carrier-mu.src.surf-hosted.nl:443\n",
      "https://v6server.carrier-mu.src.surf-hosted.nl:443 \"GET /api/result/1561 HTTP/1.1\" 200 1607\n",
      "Decrypting input\n",
      "Encryption/decryption failed.\n",
      "--> Attempting to decrypt results!\n",
      "Making request: GET | https://v6server.carrier-mu.src.surf-hosted.nl:443/api/result/1561 | {}\n",
      "Starting new HTTPS connection (1): v6server.carrier-mu.src.surf-hosted.nl:443\n",
      "https://v6server.carrier-mu.src.surf-hosted.nl:443 \"GET /api/result/1561 HTTP/1.1\" 200 1607\n",
      "Decrypting input\n",
      "Encryption/decryption failed.\n",
      "--> Attempting to decrypt results!\n",
      "Making request: GET | https://v6server.carrier-mu.src.surf-hosted.nl:443/api/result/1561 | {}\n",
      "Starting new HTTPS connection (1): v6server.carrier-mu.src.surf-hosted.nl:443\n",
      "https://v6server.carrier-mu.src.surf-hosted.nl:443 \"GET /api/result/1561 HTTP/1.1\" 200 1607\n",
      "Decrypting input\n",
      "Encryption/decryption failed.\n",
      "--> Attempting to decrypt results!\n",
      "Making request: GET | https://v6server.carrier-mu.src.surf-hosted.nl:443/api/result/1561 | {}\n",
      "Starting new HTTPS connection (1): v6server.carrier-mu.src.surf-hosted.nl:443\n",
      "https://v6server.carrier-mu.src.surf-hosted.nl:443 \"GET /api/result/1561 HTTP/1.1\" 200 1607\n",
      "Decrypting input\n",
      "Encryption/decryption failed.\n",
      "--> Attempting to decrypt results!\n",
      "Making request: GET | https://v6server.carrier-mu.src.surf-hosted.nl:443/api/result/1561 | {}\n",
      "Starting new HTTPS connection (1): v6server.carrier-mu.src.surf-hosted.nl:443\n",
      "https://v6server.carrier-mu.src.surf-hosted.nl:443 \"GET /api/result/1561 HTTP/1.1\" 200 1607\n",
      "Decrypting input\n",
      "Encryption/decryption failed.\n",
      "--> Attempting to decrypt results!\n",
      "Making request: GET | https://v6server.carrier-mu.src.surf-hosted.nl:443/api/result/1561 | {}\n",
      "Starting new HTTPS connection (1): v6server.carrier-mu.src.surf-hosted.nl:443\n",
      "https://v6server.carrier-mu.src.surf-hosted.nl:443 \"GET /api/result/1561 HTTP/1.1\" 200 1607\n",
      "Decrypting input\n",
      "Encryption/decryption failed.\n",
      "--> Attempting to decrypt results!\n",
      "Making request: GET | https://v6server.carrier-mu.src.surf-hosted.nl:443/api/result/1561 | {}\n",
      "Starting new HTTPS connection (1): v6server.carrier-mu.src.surf-hosted.nl:443\n",
      "https://v6server.carrier-mu.src.surf-hosted.nl:443 \"GET /api/result/1561 HTTP/1.1\" 200 1607\n",
      "Decrypting input\n",
      "Encryption/decryption failed.\n",
      "--> Attempting to decrypt results!\n",
      "Making request: GET | https://v6server.carrier-mu.src.surf-hosted.nl:443/api/result/1561 | {}\n",
      "Starting new HTTPS connection (1): v6server.carrier-mu.src.surf-hosted.nl:443\n",
      "https://v6server.carrier-mu.src.surf-hosted.nl:443 \"GET /api/result/1561 HTTP/1.1\" 200 1607\n",
      "Decrypting input\n",
      "Encryption/decryption failed.\n",
      "--> Attempting to decrypt results!\n",
      "Making request: GET | https://v6server.carrier-mu.src.surf-hosted.nl:443/api/result/1561 | {}\n",
      "Starting new HTTPS connection (1): v6server.carrier-mu.src.surf-hosted.nl:443\n",
      "https://v6server.carrier-mu.src.surf-hosted.nl:443 \"GET /api/result/1561 HTTP/1.1\" 200 1607\n",
      "Decrypting input\n",
      "Encryption/decryption failed.\n",
      "--> Attempting to decrypt results!\n",
      "Making request: GET | https://v6server.carrier-mu.src.surf-hosted.nl:443/api/result/1561 | {}\n",
      "Starting new HTTPS connection (1): v6server.carrier-mu.src.surf-hosted.nl:443\n",
      "https://v6server.carrier-mu.src.surf-hosted.nl:443 \"GET /api/result/1561 HTTP/1.1\" 200 16254\n",
      "Decrypting input\n",
      "Encryption/decryption failed.\n",
      "Decrypting result\n",
      "Decrypted shared key: b\"\\x05$\\x97O\\x06\\xe7r\\xf7\\xf0\\x8fr\\xc0y\\x15I\\xa9\\x83%\\x02~'\\\\\\xa0P\\x85\\xc1\\x85\\x06\\x12\\xfe\\xb7/\"\n",
      "No data format specified. Assuming input data is pickle format\n",
      "Received a result\n"
     ]
    }
   ],
   "source": [
    "crosval_result = crossval_task.get_results()"
   ]
  },
  {
   "cell_type": "code",
   "execution_count": 13,
   "id": "19203ae9-0651-4523-8fde-344c19c1dc50",
   "metadata": {
    "tags": []
   },
   "outputs": [
    {
     "data": {
      "image/png": "[encoded data removed]",
      "text/plain": [
       "<Figure size 640x480 with 10 Axes>"
      ]
     },
     "metadata": {},
     "output_type": "display_data"
    }
   ],
   "source": [
    "crosval_result.plot()"
   ]
  },
  {
   "cell_type": "code",
   "execution_count": null,
   "id": "494943bf-88f6-45e8-af98-b6bb76344c0a",
   "metadata": {},
   "outputs": [],
   "source": [
    "# TODO: check std.error"
   ]
  }
 ],
 "metadata": {
  "kernelspec": {
   "display_name": "Python 3 (ipykernel)",
   "language": "python",
   "name": "python3"
  },
  "language_info": {
   "codemirror_mode": {
    "name": "ipython",
    "version": 3
   },
   "file_extension": ".py",
   "mimetype": "text/x-python",
   "name": "python",
   "nbconvert_exporter": "python",
   "pygments_lexer": "ipython3",
   "version": "3.10.12"
  }
 },
 "nbformat": 4,
 "nbformat_minor": 5
}
