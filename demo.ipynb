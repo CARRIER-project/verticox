{
 "cells": [
  {
   "cell_type": "code",
   "execution_count": 1,
   "id": "aa9d0262-892e-4b96-93f6-2c324e6fc897",
   "metadata": {
    "tags": []
   },
   "outputs": [
    {
     "name": "stderr",
     "output_type": "stream",
     "text": [
      "/home/dsmits/.cache/pypoetry/virtualenvs/verticox-mILc84M0-py3.10/lib/python3.10/site-packages/vantage6/common/encryption.py:25: CryptographyDeprecationWarning: Use PrivateKeyTypes instead\n",
      "  from cryptography.hazmat.primitives.asymmetric.types import PRIVATE_KEY_TYPES\n"
     ]
    }
   ],
   "source": [
    "from vantage6.client import Client\n",
    "from verticox.client import VerticoxClient\n",
    "import os"
   ]
  },
  {
   "cell_type": "markdown",
   "id": "38cb673b-9059-4a1a-83db-0d412706561a",
   "metadata": {},
   "source": [
    "Get your credentials for the vantage6 server. Here we are taking them from environment\n",
    "variables but you can replace this with your own credentials."
   ]
  },
  {
   "cell_type": "code",
   "execution_count": 2,
   "id": "48e01bb3-6958-45ff-b9e9-6d875b80b631",
   "metadata": {
    "tags": []
   },
   "outputs": [],
   "source": [
    "user = os.environ[\"V6_USER\"]\n",
    "password = os.environ[\"V6_PASSWORD\"]"
   ]
  },
  {
   "cell_type": "markdown",
   "id": "9dc3440a-c917-42fb-bf96-c48db1e0eb95",
   "metadata": {},
   "source": [
    "## The generic vantage6 client\n",
    "We need the `vantage6.client.Client` to connect with the vantage6 server."
   ]
  },
  {
   "cell_type": "code",
   "execution_count": 3,
   "id": "5b8132d9-ab2c-4efe-9cb1-dfbe7754d314",
   "metadata": {
    "tags": []
   },
   "outputs": [
    {
     "name": "stdout",
     "output_type": "stream",
     "text": [
      " Welcome to\n",
      "                  _                     __  \n",
      "                 | |                   / /  \n",
      "__   ____ _ _ __ | |_ __ _  __ _  ___ / /_  \n",
      "\\ \\ / / _` | '_ \\| __/ _` |/ _` |/ _ \\ '_ \\ \n",
      " \\ V / (_| | | | | || (_| | (_| |  __/ (_) |\n",
      "  \\_/ \\__,_|_| |_|\\__\\__,_|\\__, |\\___|\\___/ \n",
      "                            __/ |           \n",
      "                           |___/            \n",
      "\n",
      " --> Join us on Discord! https://discord.gg/rwRvwyK\n",
      " --> Docs: https://docs.vantage6.ai\n",
      " --> Blog: https://vantage6.ai\n",
      "------------------------------------------------------------\n",
      "Cite us!\n",
      "If you publish your findings obtained using vantage6, \n",
      "please cite the proper sources as mentioned in:\n",
      "https://vantage6.ai/vantage6/references\n",
      "------------------------------------------------------------\n"
     ]
    }
   ],
   "source": [
    "client = Client(\"https://v6server.carrier-mu.src.surf-hosted.nl\", 443)"
   ]
  },
  {
   "cell_type": "code",
   "execution_count": 4,
   "id": "ff2fba49-ea2c-41ac-ae28-6171c9431e11",
   "metadata": {},
   "outputs": [
    {
     "name": "stdout",
     "output_type": "stream",
     "text": [
      "Authenticating user djura...\n",
      "Starting new HTTPS connection (1): v6server.carrier-mu.src.surf-hosted.nl:443\n",
      "https://v6server.carrier-mu.src.surf-hosted.nl:443 \"POST /api/token/user HTTP/1.1\" 200 770\n",
      "Successfully authenticated\n",
      "Making request: GET | https://v6server.carrier-mu.src.surf-hosted.nl:443/api/user/9 | None\n",
      "Starting new HTTPS connection (1): v6server.carrier-mu.src.surf-hosted.nl:443\n",
      "https://v6server.carrier-mu.src.surf-hosted.nl:443 \"GET /api/user/9 HTTP/1.1\" 200 5021\n",
      "Making request: GET | https://v6server.carrier-mu.src.surf-hosted.nl:443/api/organization/2 | None\n",
      "Starting new HTTPS connection (1): v6server.carrier-mu.src.surf-hosted.nl:443\n",
      "https://v6server.carrier-mu.src.surf-hosted.nl:443 \"GET /api/organization/2 HTTP/1.1\" 200 1488\n",
      " --> Succesfully authenticated\n",
      " --> Name: Djura (id=9)\n",
      " --> Organization: djura (id=2)\n"
     ]
    }
   ],
   "source": [
    "client.authenticate(user, password)"
   ]
  },
  {
   "cell_type": "markdown",
   "id": "64deb92e-f573-4e17-8405-5d7ec50988a9",
   "metadata": {},
   "source": [
    "## End-to-end encryption\n",
    "This vantage6 installation uses end-to-end encryption. This means that the communication\n",
    "between nodes is encrypted. Some of this communication is relayed through the vantage6 server but this server can't read this."
   ]
  },
  {
   "cell_type": "code",
   "execution_count": 5,
   "id": "5b479520-9363-4b88-99c4-0254c6afe2a8",
   "metadata": {
    "tags": []
   },
   "outputs": [
    {
     "name": "stdout",
     "output_type": "stream",
     "text": [
      "Loading private key\n",
      "Making request: GET | https://v6server.carrier-mu.src.surf-hosted.nl:443/api/organization/2 | None\n",
      "Starting new HTTPS connection (1): v6server.carrier-mu.src.surf-hosted.nl:443\n",
      "https://v6server.carrier-mu.src.surf-hosted.nl:443 \"GET /api/organization/2 HTTP/1.1\" 200 1488\n",
      "Public key matches the server key! Good to go!\n"
     ]
    }
   ],
   "source": [
    "client.setup_encryption(\"private_key.pem\")"
   ]
  },
  {
   "cell_type": "markdown",
   "id": "67904ca4-addc-48b2-9048-cceb5adaa3e9",
   "metadata": {},
   "source": [
    "## Getting you collaboration id\n",
    "Vantage6 connects organizations together with the concept of _collaborations_.\n",
    "A collaboration is basically a collection of organizations that are allowed to run algorithms together.\n",
    "\n",
    "If you're running algorithms you sometimes need to specify your collaboration id. That is why we are retrieving it."
   ]
  },
  {
   "cell_type": "code",
   "execution_count": 6,
   "id": "8b2d1238-8b98-469f-af80-e6328b9e1018",
   "metadata": {
    "tags": []
   },
   "outputs": [
    {
     "name": "stdout",
     "output_type": "stream",
     "text": [
      "pagination for scope `organization` not available\n",
      "Making request: GET | https://v6server.carrier-mu.src.surf-hosted.nl:443/api/organization/2/collaboration | None\n",
      "Starting new HTTPS connection (1): v6server.carrier-mu.src.surf-hosted.nl:443\n",
      "https://v6server.carrier-mu.src.surf-hosted.nl:443 \"GET /api/organization/2/collaboration HTTP/1.1\" 200 64517\n",
      "Name: test-infra id: 1\n"
     ]
    }
   ],
   "source": [
    "collaborations = client.collaboration.list()\n",
    "\n",
    "for c in collaborations:\n",
    "    print(f\"Name: {c['name']} id: {c['id']}\")"
   ]
  },
  {
   "cell_type": "markdown",
   "id": "2f134d38-c391-45ad-9a50-fc107c14ff2c",
   "metadata": {},
   "source": [
    "## VerticoxClient\n",
    "We have created a dedicated client to work with the verticox algorithm more easily."
   ]
  },
  {
   "cell_type": "code",
   "execution_count": 7,
   "id": "274b89da-eb45-4f93-be26-701ae38ecf83",
   "metadata": {
    "tags": []
   },
   "outputs": [
    {
     "name": "stdout",
     "output_type": "stream",
     "text": [
      "pagination for scope `organization` not available\n",
      "Making request: GET | https://v6server.carrier-mu.src.surf-hosted.nl:443/api/organization/2/collaboration | None\n",
      "Starting new HTTPS connection (1): v6server.carrier-mu.src.surf-hosted.nl:443\n",
      "https://v6server.carrier-mu.src.surf-hosted.nl:443 \"GET /api/organization/2/collaboration HTTP/1.1\" 200 64517\n"
     ]
    }
   ],
   "source": [
    "verticox_client = VerticoxClient(client, image=\"harbor.carrier-mu.src.surf-hosted.nl/carrier/verticox:test\")"
   ]
  },
  {
   "cell_type": "markdown",
   "id": "5e86cbc5-a01b-4f40-bb5c-745ed68e23f9",
   "metadata": {},
   "source": [
    "## Column names\n",
    "We first need to know the names of the columns at the various datasources.\n",
    "\n",
    "Whenever we run something on vantage6 we create a task. We can use that task later to get the results back."
   ]
  },
  {
   "cell_type": "code",
   "execution_count": 8,
   "id": "8dddd740-d5ef-4a34-b6ed-2530d3d1d330",
   "metadata": {
    "tags": []
   },
   "outputs": [
    {
     "name": "stdout",
     "output_type": "stream",
     "text": [
      "Making request: GET | https://v6server.carrier-mu.src.surf-hosted.nl:443/api/node | {'page': 1, 'per_page': 20, 'include': ['metadata'], 'name': None, 'organization_id': None, 'collaboration_id': None, 'ip': None, 'last_seen_from': None, 'last_seen_till': None, 'status': 'online'}\n",
      "Starting new HTTPS connection (1): v6server.carrier-mu.src.surf-hosted.nl:443\n",
      "https://v6server.carrier-mu.src.surf-hosted.nl:443 \"GET /api/node?page=1&per_page=20&include=metadata&status=online HTTP/1.1\" 200 1525\n",
      "\n",
      "                    task = self.v6client.task.create(collaboration=1,\n",
      "                                             organizations=[4, 5, 6],\n",
      "                                             name=,\n",
      "                                             image=harbor.carrier-mu.src.surf-hosted.nl/carrier/verticox:test,\n",
      "                                             description=,\n",
      "                                             input={'method': 'column_names', 'master': False, 'kwargs': {}},\n",
      "                                             data_format=json,\n",
      "                                             database=default\n",
      "                                             )\n",
      "            \n",
      "Making request: GET | https://v6server.carrier-mu.src.surf-hosted.nl:443/api/organization/4 | None\n",
      "Starting new HTTPS connection (1): v6server.carrier-mu.src.surf-hosted.nl:443\n",
      "https://v6server.carrier-mu.src.surf-hosted.nl:443 \"GET /api/organization/4 HTTP/1.1\" 200 32791\n",
      "Making request: GET | https://v6server.carrier-mu.src.surf-hosted.nl:443/api/organization/5 | None\n",
      "Starting new HTTPS connection (1): v6server.carrier-mu.src.surf-hosted.nl:443\n",
      "https://v6server.carrier-mu.src.surf-hosted.nl:443 \"GET /api/organization/5 HTTP/1.1\" 200 35143\n",
      "Making request: GET | https://v6server.carrier-mu.src.surf-hosted.nl:443/api/organization/6 | None\n",
      "Starting new HTTPS connection (1): v6server.carrier-mu.src.surf-hosted.nl:443\n",
      "https://v6server.carrier-mu.src.surf-hosted.nl:443 \"GET /api/organization/6 HTTP/1.1\" 200 33497\n",
      "Making request: POST | https://v6server.carrier-mu.src.surf-hosted.nl:443/api/task | None\n",
      "Starting new HTTPS connection (1): v6server.carrier-mu.src.surf-hosted.nl:443\n",
      "https://v6server.carrier-mu.src.surf-hosted.nl:443 \"POST /api/task HTTP/1.1\" 201 582\n"
     ]
    }
   ],
   "source": [
    "task = verticox_client.get_column_names()"
   ]
  },
  {
   "cell_type": "markdown",
   "id": "48037826-3750-42ac-b682-b680c946723c",
   "metadata": {},
   "source": [
    "## Getting results\n",
    "In the `VerticoxClient`, you can get results by running `task.get_results`"
   ]
  },
  {
   "cell_type": "code",
   "execution_count": 9,
   "id": "bc30634f-38df-41f8-8946-b2202a86b022",
   "metadata": {
    "collapsed": true,
    "jupyter": {
     "outputs_hidden": true
    },
    "tags": []
   },
   "outputs": [
    {
     "name": "stdout",
     "output_type": "stream",
     "text": [
      "--> Attempting to decrypt results!\n",
      "Making request: GET | https://v6server.carrier-mu.src.surf-hosted.nl:443/api/result/1401 | {}\n",
      "Starting new HTTPS connection (1): v6server.carrier-mu.src.surf-hosted.nl:443\n",
      "https://v6server.carrier-mu.src.surf-hosted.nl:443 \"GET /api/result/1401 HTTP/1.1\" 200 1248\n",
      "Decrypting input\n",
      "Encryption/decryption failed.\n",
      "--> Attempting to decrypt results!\n",
      "Making request: GET | https://v6server.carrier-mu.src.surf-hosted.nl:443/api/result/1402 | {}\n",
      "Starting new HTTPS connection (1): v6server.carrier-mu.src.surf-hosted.nl:443\n",
      "https://v6server.carrier-mu.src.surf-hosted.nl:443 \"GET /api/result/1402 HTTP/1.1\" 200 1248\n",
      "Decrypting input\n",
      "Encryption/decryption failed.\n",
      "--> Attempting to decrypt results!\n",
      "Making request: GET | https://v6server.carrier-mu.src.surf-hosted.nl:443/api/result/1403 | {}\n",
      "Starting new HTTPS connection (1): v6server.carrier-mu.src.surf-hosted.nl:443\n",
      "https://v6server.carrier-mu.src.surf-hosted.nl:443 \"GET /api/result/1403 HTTP/1.1\" 200 1278\n",
      "Decrypting input\n",
      "Encryption/decryption failed.\n",
      "--> Attempting to decrypt results!\n",
      "Making request: GET | https://v6server.carrier-mu.src.surf-hosted.nl:443/api/result/1401 | {}\n",
      "Starting new HTTPS connection (1): v6server.carrier-mu.src.surf-hosted.nl:443\n",
      "https://v6server.carrier-mu.src.surf-hosted.nl:443 \"GET /api/result/1401 HTTP/1.1\" 200 1365\n",
      "Decrypting input\n",
      "Encryption/decryption failed.\n",
      "--> Attempting to decrypt results!\n",
      "Making request: GET | https://v6server.carrier-mu.src.surf-hosted.nl:443/api/result/1402 | {}\n",
      "Starting new HTTPS connection (1): v6server.carrier-mu.src.surf-hosted.nl:443\n",
      "https://v6server.carrier-mu.src.surf-hosted.nl:443 \"GET /api/result/1402 HTTP/1.1\" 200 1365\n",
      "Decrypting input\n",
      "Encryption/decryption failed.\n",
      "--> Attempting to decrypt results!\n",
      "Making request: GET | https://v6server.carrier-mu.src.surf-hosted.nl:443/api/result/1403 | {}\n",
      "Starting new HTTPS connection (1): v6server.carrier-mu.src.surf-hosted.nl:443\n",
      "https://v6server.carrier-mu.src.surf-hosted.nl:443 \"GET /api/result/1403 HTTP/1.1\" 200 1365\n",
      "Decrypting input\n",
      "Encryption/decryption failed.\n",
      "--> Attempting to decrypt results!\n",
      "Making request: GET | https://v6server.carrier-mu.src.surf-hosted.nl:443/api/result/1401 | {}\n",
      "Starting new HTTPS connection (1): v6server.carrier-mu.src.surf-hosted.nl:443\n",
      "https://v6server.carrier-mu.src.surf-hosted.nl:443 \"GET /api/result/1401 HTTP/1.1\" 200 2699\n",
      "Decrypting input\n",
      "Encryption/decryption failed.\n",
      "Decrypting result\n",
      "Decrypted shared key: b'\\xa5\\n)\\to\\xfc\\x8e\\xe2\\xe0\\xafS\\xffb\"\\xc9<!&\\xf2\\x15\\xae0I7\\xac\\n=\\xf3\\xf5\\xb7\\xa4\\xf6'\n",
      "No data format specified. Assuming input data is pickle format\n",
      "Received a result\n",
      "--> Attempting to decrypt results!\n",
      "Making request: GET | https://v6server.carrier-mu.src.surf-hosted.nl:443/api/result/1402 | {}\n",
      "Starting new HTTPS connection (1): v6server.carrier-mu.src.surf-hosted.nl:443\n",
      "https://v6server.carrier-mu.src.surf-hosted.nl:443 \"GET /api/result/1402 HTTP/1.1\" 200 2663\n",
      "Decrypting input\n",
      "Encryption/decryption failed.\n",
      "Decrypting result\n",
      "Decrypted shared key: b'\\xa3\\xef\\x15\\xa9\\x9a\\xb7gy\\xa2\\xed\\xc2\\xd4S;p\\xc7\\x8a\\xb6\\x06\\x924\\x01\\x8aP\\xc9\\xe2\\xb0\\\\\\xf1gq\\xa7'\n",
      "No data format specified. Assuming input data is pickle format\n",
      "Received a result\n",
      "--> Attempting to decrypt results!\n",
      "Making request: GET | https://v6server.carrier-mu.src.surf-hosted.nl:443/api/result/1403 | {}\n",
      "Starting new HTTPS connection (1): v6server.carrier-mu.src.surf-hosted.nl:443\n",
      "https://v6server.carrier-mu.src.surf-hosted.nl:443 \"GET /api/result/1403 HTTP/1.1\" 200 2663\n",
      "Decrypting input\n",
      "Encryption/decryption failed.\n",
      "Decrypting result\n",
      "Decrypted shared key: b'\\xb1$\\x9e1x\\x00\\xca\\x0e\\x91`\\xfd\\xc6V@R\\x83\\x9a\\x91\\xb1=o\\xc45\\xa53\\xe7\\xc8\\x11D:\\xb7\\xe3'\n",
      "No data format specified. Assuming input data is pickle format\n",
      "Received a result\n"
     ]
    },
    {
     "data": {
      "text/plain": [
       "[Result(organization=4, content=['event_happened', 'event_time'], log=\"/root/.cache/pypoetry/virtualenvs/verticox-9TtSrW0h-py3.10/lib/python3.10/site-packages/vantage6/common/encryption.py:25: CryptographyDeprecationWarning: Use PrivateKeyTypes instead\\n  from cryptography.hazmat.primitives.asymmetric.types import PRIVATE_KEY_TYPES\\ninfo > wrapper for verticox\\ninfo > Reading input file /mnt/data/task-000001401/input\\ninfo > Reading token file '/mnt/data/task-000001401/token'\\ninfo > Using '/mnt/data/default.parquet' as database\\ninfo > Dispatching ...\\ninfo > Module 'verticox' imported!\\ninfo > Running a regular container\\ninfo > Writing output to /mnt/data/task-000001401/output\\n\"),\n",
       " Result(organization=5, content=['age'], log=\"/root/.cache/pypoetry/virtualenvs/verticox-9TtSrW0h-py3.10/lib/python3.10/site-packages/vantage6/common/encryption.py:25: CryptographyDeprecationWarning: Use PrivateKeyTypes instead\\n  from cryptography.hazmat.primitives.asymmetric.types import PRIVATE_KEY_TYPES\\ninfo > wrapper for verticox\\ninfo > Reading input file /mnt/data/task-000001402/input\\ninfo > Reading token file '/mnt/data/task-000001402/token'\\ninfo > Using '/mnt/data/default.parquet' as database\\ninfo > Dispatching ...\\ninfo > Module 'verticox' imported!\\ninfo > Running a regular container\\ninfo > Writing output to /mnt/data/task-000001402/output\\n\"),\n",
       " Result(organization=6, content=['bmi'], log=\"/root/.cache/pypoetry/virtualenvs/verticox-9TtSrW0h-py3.10/lib/python3.10/site-packages/vantage6/common/encryption.py:25: CryptographyDeprecationWarning: Use PrivateKeyTypes instead\\n  from cryptography.hazmat.primitives.asymmetric.types import PRIVATE_KEY_TYPES\\ninfo > wrapper for verticox\\ninfo > Reading input file /mnt/data/task-000001403/input\\ninfo > Reading token file '/mnt/data/task-000001403/token'\\ninfo > Using '/mnt/data/default.parquet' as database\\ninfo > Dispatching ...\\ninfo > Module 'verticox' imported!\\ninfo > Running a regular container\\ninfo > Writing output to /mnt/data/task-000001403/output\\n\")]"
      ]
     },
     "execution_count": 9,
     "metadata": {},
     "output_type": "execute_result"
    }
   ],
   "source": [
    "results = task.get_results()\n",
    "results"
   ]
  },
  {
   "cell_type": "code",
   "execution_count": 10,
   "id": "a3591fab-04f1-4631-9ebd-1bf42981994c",
   "metadata": {
    "tags": []
   },
   "outputs": [
    {
     "name": "stdout",
     "output_type": "stream",
     "text": [
      "Organization: 4, Content: ['event_happened', 'event_time']\n",
      "Organization: 5, Content: ['age']\n",
      "Organization: 6, Content: ['bmi']\n"
     ]
    }
   ],
   "source": [
    "for r in results:\n",
    "    print(f\"Organization: {r.organization}, Content: {r.content}\")"
   ]
  },
  {
   "cell_type": "markdown",
   "id": "863ba529-e1b1-4042-b557-dca9e335a48e",
   "metadata": {},
   "source": [
    "## Running cox proportional hazard analysis\n",
    "If you want to fit a model on the entire dataset you can run `VerticoxClient.fit`\n",
    "\n",
    "### Docstring\n",
    "Run cox proportional hazard analysis on the entire dataset.\n",
    "\n",
    "Args:\n",
    "- __feature_columns:__ a list of column names that you want to use as features\n",
    "- __outcome_time_column:__ the column name of the outcome time\n",
    "- __right_censor_column:__ the column name of the binary value that indicates if an event happened.\n",
    "- __feature_nodes:__ A list of node ids from the datasources that contain the feature columns\n",
    "- __outcome_node:__ The node id of the datasource that contains the outcome\n",
    "- __precision:__ precision of the verticox algorithm. The smaller the number, the more\n",
    "  precise the result. Smaller precision will take longer to compute though. The default is\n",
    "  1e-5\n",
    "- __database:__ If the nodes have multiple datasources, indicate the label of the datasource\n",
    "  you would like to use. Otherwise the default will be used."
   ]
  },
  {
   "cell_type": "code",
   "execution_count": 11,
   "id": "17dcf0b0-ffa6-4281-8c5a-b32129199321",
   "metadata": {
    "tags": []
   },
   "outputs": [
    {
     "name": "stdout",
     "output_type": "stream",
     "text": [
      "\n",
      "                    task = self.v6client.task.create(collaboration=1,\n",
      "                                             organizations=[4],\n",
      "                                             name=,\n",
      "                                             image=harbor.carrier-mu.src.surf-hosted.nl/carrier/verticox:test,\n",
      "                                             description=,\n",
      "                                             input={'method': 'fit', 'master': True, 'kwargs': {'feature_columns': ['age', 'bmi'], 'event_times_column': 'event_time', 'event_happened_column': 'event_happened', 'datanode_ids': [5, 6], 'central_node_id': 4, 'precision': 1e-05}},\n",
      "                                             data_format=json,\n",
      "                                             database=default\n",
      "                                             )\n",
      "            \n",
      "Making request: GET | https://v6server.carrier-mu.src.surf-hosted.nl:443/api/organization/4 | None\n",
      "Starting new HTTPS connection (1): v6server.carrier-mu.src.surf-hosted.nl:443\n",
      "https://v6server.carrier-mu.src.surf-hosted.nl:443 \"GET /api/organization/4 HTTP/1.1\" 200 32862\n",
      "Making request: POST | https://v6server.carrier-mu.src.surf-hosted.nl:443/api/task | None\n",
      "Starting new HTTPS connection (1): v6server.carrier-mu.src.surf-hosted.nl:443\n",
      "https://v6server.carrier-mu.src.surf-hosted.nl:443 \"POST /api/task HTTP/1.1\" 201 440\n"
     ]
    }
   ],
   "source": [
    "task = verticox_client.fit(feature_columns=['age', 'bmi'],\n",
    "                    outcome_time_column='event_time',\n",
    "                    right_censor_column='event_happened',\n",
    "                    feature_nodes=[5,6],\n",
    "                    outcome_node=4\n",
    "                   )"
   ]
  },
  {
   "cell_type": "code",
   "execution_count": 12,
   "id": "f08e6fa5-77b4-443e-81ef-5ab592c328ff",
   "metadata": {
    "collapsed": true,
    "jupyter": {
     "outputs_hidden": true
    },
    "tags": []
   },
   "outputs": [
    {
     "name": "stdout",
     "output_type": "stream",
     "text": [
      "--> Attempting to decrypt results!\n",
      "Making request: GET | https://v6server.carrier-mu.src.surf-hosted.nl:443/api/result/1404 | {}\n",
      "Starting new HTTPS connection (1): v6server.carrier-mu.src.surf-hosted.nl:443\n",
      "https://v6server.carrier-mu.src.surf-hosted.nl:443 \"GET /api/result/1404 HTTP/1.1\" 200 1472\n",
      "Decrypting input\n",
      "Encryption/decryption failed.\n",
      "--> Attempting to decrypt results!\n",
      "Making request: GET | https://v6server.carrier-mu.src.surf-hosted.nl:443/api/result/1404 | {}\n",
      "Starting new HTTPS connection (1): v6server.carrier-mu.src.surf-hosted.nl:443\n",
      "https://v6server.carrier-mu.src.surf-hosted.nl:443 \"GET /api/result/1404 HTTP/1.1\" 200 1589\n",
      "Decrypting input\n",
      "Encryption/decryption failed.\n",
      "--> Attempting to decrypt results!\n",
      "Making request: GET | https://v6server.carrier-mu.src.surf-hosted.nl:443/api/result/1404 | {}\n",
      "Starting new HTTPS connection (1): v6server.carrier-mu.src.surf-hosted.nl:443\n",
      "https://v6server.carrier-mu.src.surf-hosted.nl:443 \"GET /api/result/1404 HTTP/1.1\" 200 1589\n",
      "Decrypting input\n",
      "Encryption/decryption failed.\n",
      "--> Attempting to decrypt results!\n",
      "Making request: GET | https://v6server.carrier-mu.src.surf-hosted.nl:443/api/result/1404 | {}\n",
      "Starting new HTTPS connection (1): v6server.carrier-mu.src.surf-hosted.nl:443\n",
      "https://v6server.carrier-mu.src.surf-hosted.nl:443 \"GET /api/result/1404 HTTP/1.1\" 200 1589\n",
      "Decrypting input\n",
      "Encryption/decryption failed.\n",
      "--> Attempting to decrypt results!\n",
      "Making request: GET | https://v6server.carrier-mu.src.surf-hosted.nl:443/api/result/1404 | {}\n",
      "Starting new HTTPS connection (1): v6server.carrier-mu.src.surf-hosted.nl:443\n",
      "https://v6server.carrier-mu.src.surf-hosted.nl:443 \"GET /api/result/1404 HTTP/1.1\" 200 1589\n",
      "Decrypting input\n",
      "Encryption/decryption failed.\n",
      "--> Attempting to decrypt results!\n",
      "Making request: GET | https://v6server.carrier-mu.src.surf-hosted.nl:443/api/result/1404 | {}\n",
      "Starting new HTTPS connection (1): v6server.carrier-mu.src.surf-hosted.nl:443\n",
      "https://v6server.carrier-mu.src.surf-hosted.nl:443 \"GET /api/result/1404 HTTP/1.1\" 200 1589\n",
      "Decrypting input\n",
      "Encryption/decryption failed.\n",
      "--> Attempting to decrypt results!\n",
      "Making request: GET | https://v6server.carrier-mu.src.surf-hosted.nl:443/api/result/1404 | {}\n",
      "Starting new HTTPS connection (1): v6server.carrier-mu.src.surf-hosted.nl:443\n",
      "https://v6server.carrier-mu.src.surf-hosted.nl:443 \"GET /api/result/1404 HTTP/1.1\" 200 1589\n",
      "Decrypting input\n",
      "Encryption/decryption failed.\n",
      "--> Attempting to decrypt results!\n",
      "Making request: GET | https://v6server.carrier-mu.src.surf-hosted.nl:443/api/result/1404 | {}\n",
      "Starting new HTTPS connection (1): v6server.carrier-mu.src.surf-hosted.nl:443\n",
      "https://v6server.carrier-mu.src.surf-hosted.nl:443 \"GET /api/result/1404 HTTP/1.1\" 200 1589\n",
      "Decrypting input\n",
      "Encryption/decryption failed.\n",
      "--> Attempting to decrypt results!\n",
      "Making request: GET | https://v6server.carrier-mu.src.surf-hosted.nl:443/api/result/1404 | {}\n",
      "Starting new HTTPS connection (1): v6server.carrier-mu.src.surf-hosted.nl:443\n",
      "https://v6server.carrier-mu.src.surf-hosted.nl:443 \"GET /api/result/1404 HTTP/1.1\" 200 1589\n",
      "Decrypting input\n",
      "Encryption/decryption failed.\n",
      "--> Attempting to decrypt results!\n",
      "Making request: GET | https://v6server.carrier-mu.src.surf-hosted.nl:443/api/result/1404 | {}\n",
      "Starting new HTTPS connection (1): v6server.carrier-mu.src.surf-hosted.nl:443\n",
      "https://v6server.carrier-mu.src.surf-hosted.nl:443 \"GET /api/result/1404 HTTP/1.1\" 200 1589\n",
      "Decrypting input\n",
      "Encryption/decryption failed.\n",
      "--> Attempting to decrypt results!\n",
      "Making request: GET | https://v6server.carrier-mu.src.surf-hosted.nl:443/api/result/1404 | {}\n",
      "Starting new HTTPS connection (1): v6server.carrier-mu.src.surf-hosted.nl:443\n",
      "https://v6server.carrier-mu.src.surf-hosted.nl:443 \"GET /api/result/1404 HTTP/1.1\" 200 1589\n",
      "Decrypting input\n",
      "Encryption/decryption failed.\n",
      "--> Attempting to decrypt results!\n",
      "Making request: GET | https://v6server.carrier-mu.src.surf-hosted.nl:443/api/result/1404 | {}\n",
      "Starting new HTTPS connection (1): v6server.carrier-mu.src.surf-hosted.nl:443\n",
      "https://v6server.carrier-mu.src.surf-hosted.nl:443 \"GET /api/result/1404 HTTP/1.1\" 200 1589\n",
      "Decrypting input\n",
      "Encryption/decryption failed.\n",
      "--> Attempting to decrypt results!\n",
      "Making request: GET | https://v6server.carrier-mu.src.surf-hosted.nl:443/api/result/1404 | {}\n",
      "Starting new HTTPS connection (1): v6server.carrier-mu.src.surf-hosted.nl:443\n",
      "https://v6server.carrier-mu.src.surf-hosted.nl:443 \"GET /api/result/1404 HTTP/1.1\" 200 1589\n",
      "Decrypting input\n",
      "Encryption/decryption failed.\n",
      "--> Attempting to decrypt results!\n",
      "Making request: GET | https://v6server.carrier-mu.src.surf-hosted.nl:443/api/result/1404 | {}\n",
      "Starting new HTTPS connection (1): v6server.carrier-mu.src.surf-hosted.nl:443\n",
      "https://v6server.carrier-mu.src.surf-hosted.nl:443 \"GET /api/result/1404 HTTP/1.1\" 200 1589\n",
      "Decrypting input\n",
      "Encryption/decryption failed.\n",
      "--> Attempting to decrypt results!\n",
      "Making request: GET | https://v6server.carrier-mu.src.surf-hosted.nl:443/api/result/1404 | {}\n",
      "Starting new HTTPS connection (1): v6server.carrier-mu.src.surf-hosted.nl:443\n",
      "https://v6server.carrier-mu.src.surf-hosted.nl:443 \"GET /api/result/1404 HTTP/1.1\" 200 1589\n",
      "Decrypting input\n",
      "Encryption/decryption failed.\n",
      "--> Attempting to decrypt results!\n",
      "Making request: GET | https://v6server.carrier-mu.src.surf-hosted.nl:443/api/result/1404 | {}\n",
      "Starting new HTTPS connection (1): v6server.carrier-mu.src.surf-hosted.nl:443\n",
      "https://v6server.carrier-mu.src.surf-hosted.nl:443 \"GET /api/result/1404 HTTP/1.1\" 200 1589\n",
      "Decrypting input\n",
      "Encryption/decryption failed.\n",
      "--> Attempting to decrypt results!\n",
      "Making request: GET | https://v6server.carrier-mu.src.surf-hosted.nl:443/api/result/1404 | {}\n",
      "Starting new HTTPS connection (1): v6server.carrier-mu.src.surf-hosted.nl:443\n",
      "https://v6server.carrier-mu.src.surf-hosted.nl:443 \"GET /api/result/1404 HTTP/1.1\" 200 1589\n",
      "Decrypting input\n",
      "Encryption/decryption failed.\n",
      "--> Attempting to decrypt results!\n",
      "Making request: GET | https://v6server.carrier-mu.src.surf-hosted.nl:443/api/result/1404 | {}\n",
      "Starting new HTTPS connection (1): v6server.carrier-mu.src.surf-hosted.nl:443\n",
      "https://v6server.carrier-mu.src.surf-hosted.nl:443 \"GET /api/result/1404 HTTP/1.1\" 200 1589\n",
      "Decrypting input\n",
      "Encryption/decryption failed.\n",
      "--> Attempting to decrypt results!\n",
      "Making request: GET | https://v6server.carrier-mu.src.surf-hosted.nl:443/api/result/1404 | {}\n",
      "Starting new HTTPS connection (1): v6server.carrier-mu.src.surf-hosted.nl:443\n",
      "https://v6server.carrier-mu.src.surf-hosted.nl:443 \"GET /api/result/1404 HTTP/1.1\" 200 1589\n",
      "Decrypting input\n",
      "Encryption/decryption failed.\n",
      "--> Attempting to decrypt results!\n",
      "Making request: GET | https://v6server.carrier-mu.src.surf-hosted.nl:443/api/result/1404 | {}\n",
      "Starting new HTTPS connection (1): v6server.carrier-mu.src.surf-hosted.nl:443\n",
      "https://v6server.carrier-mu.src.surf-hosted.nl:443 \"GET /api/result/1404 HTTP/1.1\" 200 1589\n",
      "Decrypting input\n",
      "Encryption/decryption failed.\n",
      "--> Attempting to decrypt results!\n",
      "Making request: GET | https://v6server.carrier-mu.src.surf-hosted.nl:443/api/result/1404 | {}\n",
      "Starting new HTTPS connection (1): v6server.carrier-mu.src.surf-hosted.nl:443\n",
      "https://v6server.carrier-mu.src.surf-hosted.nl:443 \"GET /api/result/1404 HTTP/1.1\" 200 1589\n",
      "Decrypting input\n",
      "Encryption/decryption failed.\n",
      "--> Attempting to decrypt results!\n",
      "Making request: GET | https://v6server.carrier-mu.src.surf-hosted.nl:443/api/result/1404 | {}\n",
      "Starting new HTTPS connection (1): v6server.carrier-mu.src.surf-hosted.nl:443\n",
      "https://v6server.carrier-mu.src.surf-hosted.nl:443 \"GET /api/result/1404 HTTP/1.1\" 200 1589\n",
      "Decrypting input\n",
      "Encryption/decryption failed.\n",
      "--> Attempting to decrypt results!\n",
      "Making request: GET | https://v6server.carrier-mu.src.surf-hosted.nl:443/api/result/1404 | {}\n",
      "Starting new HTTPS connection (1): v6server.carrier-mu.src.surf-hosted.nl:443\n",
      "https://v6server.carrier-mu.src.surf-hosted.nl:443 \"GET /api/result/1404 HTTP/1.1\" 200 1589\n",
      "Decrypting input\n",
      "Encryption/decryption failed.\n",
      "--> Attempting to decrypt results!\n",
      "Making request: GET | https://v6server.carrier-mu.src.surf-hosted.nl:443/api/result/1404 | {}\n",
      "Starting new HTTPS connection (1): v6server.carrier-mu.src.surf-hosted.nl:443\n",
      "https://v6server.carrier-mu.src.surf-hosted.nl:443 \"GET /api/result/1404 HTTP/1.1\" 200 1589\n",
      "Decrypting input\n",
      "Encryption/decryption failed.\n",
      "--> Attempting to decrypt results!\n",
      "Making request: GET | https://v6server.carrier-mu.src.surf-hosted.nl:443/api/result/1404 | {}\n",
      "Starting new HTTPS connection (1): v6server.carrier-mu.src.surf-hosted.nl:443\n",
      "https://v6server.carrier-mu.src.surf-hosted.nl:443 \"GET /api/result/1404 HTTP/1.1\" 200 1589\n",
      "Decrypting input\n",
      "Encryption/decryption failed.\n",
      "--> Attempting to decrypt results!\n",
      "Making request: GET | https://v6server.carrier-mu.src.surf-hosted.nl:443/api/result/1404 | {}\n",
      "Starting new HTTPS connection (1): v6server.carrier-mu.src.surf-hosted.nl:443\n",
      "https://v6server.carrier-mu.src.surf-hosted.nl:443 \"GET /api/result/1404 HTTP/1.1\" 200 1589\n",
      "Decrypting input\n",
      "Encryption/decryption failed.\n",
      "--> Attempting to decrypt results!\n",
      "Making request: GET | https://v6server.carrier-mu.src.surf-hosted.nl:443/api/result/1404 | {}\n",
      "Starting new HTTPS connection (1): v6server.carrier-mu.src.surf-hosted.nl:443\n",
      "https://v6server.carrier-mu.src.surf-hosted.nl:443 \"GET /api/result/1404 HTTP/1.1\" 200 1589\n",
      "Decrypting input\n",
      "Encryption/decryption failed.\n",
      "--> Attempting to decrypt results!\n",
      "Making request: GET | https://v6server.carrier-mu.src.surf-hosted.nl:443/api/result/1404 | {}\n",
      "Starting new HTTPS connection (1): v6server.carrier-mu.src.surf-hosted.nl:443\n",
      "https://v6server.carrier-mu.src.surf-hosted.nl:443 \"GET /api/result/1404 HTTP/1.1\" 200 1589\n",
      "Decrypting input\n",
      "Encryption/decryption failed.\n",
      "--> Attempting to decrypt results!\n",
      "Making request: GET | https://v6server.carrier-mu.src.surf-hosted.nl:443/api/result/1404 | {}\n",
      "Starting new HTTPS connection (1): v6server.carrier-mu.src.surf-hosted.nl:443\n",
      "https://v6server.carrier-mu.src.surf-hosted.nl:443 \"GET /api/result/1404 HTTP/1.1\" 200 1589\n",
      "Decrypting input\n",
      "Encryption/decryption failed.\n",
      "--> Attempting to decrypt results!\n",
      "Making request: GET | https://v6server.carrier-mu.src.surf-hosted.nl:443/api/result/1404 | {}\n",
      "Starting new HTTPS connection (1): v6server.carrier-mu.src.surf-hosted.nl:443\n",
      "https://v6server.carrier-mu.src.surf-hosted.nl:443 \"GET /api/result/1404 HTTP/1.1\" 200 1589\n",
      "Decrypting input\n",
      "Encryption/decryption failed.\n",
      "--> Attempting to decrypt results!\n",
      "Making request: GET | https://v6server.carrier-mu.src.surf-hosted.nl:443/api/result/1404 | {}\n",
      "Starting new HTTPS connection (1): v6server.carrier-mu.src.surf-hosted.nl:443\n",
      "https://v6server.carrier-mu.src.surf-hosted.nl:443 \"GET /api/result/1404 HTTP/1.1\" 200 1589\n",
      "Decrypting input\n",
      "Encryption/decryption failed.\n",
      "--> Attempting to decrypt results!\n",
      "Making request: GET | https://v6server.carrier-mu.src.surf-hosted.nl:443/api/result/1404 | {}\n",
      "Starting new HTTPS connection (1): v6server.carrier-mu.src.surf-hosted.nl:443\n",
      "https://v6server.carrier-mu.src.surf-hosted.nl:443 \"GET /api/result/1404 HTTP/1.1\" 200 1589\n",
      "Decrypting input\n",
      "Encryption/decryption failed.\n",
      "--> Attempting to decrypt results!\n",
      "Making request: GET | https://v6server.carrier-mu.src.surf-hosted.nl:443/api/result/1404 | {}\n",
      "Starting new HTTPS connection (1): v6server.carrier-mu.src.surf-hosted.nl:443\n",
      "https://v6server.carrier-mu.src.surf-hosted.nl:443 \"GET /api/result/1404 HTTP/1.1\" 200 1589\n",
      "Decrypting input\n",
      "Encryption/decryption failed.\n",
      "--> Attempting to decrypt results!\n",
      "Making request: GET | https://v6server.carrier-mu.src.surf-hosted.nl:443/api/result/1404 | {}\n",
      "Starting new HTTPS connection (1): v6server.carrier-mu.src.surf-hosted.nl:443\n",
      "https://v6server.carrier-mu.src.surf-hosted.nl:443 \"GET /api/result/1404 HTTP/1.1\" 200 1589\n",
      "Decrypting input\n",
      "Encryption/decryption failed.\n",
      "--> Attempting to decrypt results!\n",
      "Making request: GET | https://v6server.carrier-mu.src.surf-hosted.nl:443/api/result/1404 | {}\n",
      "Starting new HTTPS connection (1): v6server.carrier-mu.src.surf-hosted.nl:443\n",
      "https://v6server.carrier-mu.src.surf-hosted.nl:443 \"GET /api/result/1404 HTTP/1.1\" 200 1589\n",
      "Decrypting input\n",
      "Encryption/decryption failed.\n",
      "--> Attempting to decrypt results!\n",
      "Making request: GET | https://v6server.carrier-mu.src.surf-hosted.nl:443/api/result/1404 | {}\n",
      "Starting new HTTPS connection (1): v6server.carrier-mu.src.surf-hosted.nl:443\n",
      "https://v6server.carrier-mu.src.surf-hosted.nl:443 \"GET /api/result/1404 HTTP/1.1\" 200 1589\n",
      "Decrypting input\n",
      "Encryption/decryption failed.\n",
      "--> Attempting to decrypt results!\n",
      "Making request: GET | https://v6server.carrier-mu.src.surf-hosted.nl:443/api/result/1404 | {}\n",
      "Starting new HTTPS connection (1): v6server.carrier-mu.src.surf-hosted.nl:443\n",
      "https://v6server.carrier-mu.src.surf-hosted.nl:443 \"GET /api/result/1404 HTTP/1.1\" 200 1589\n",
      "Decrypting input\n",
      "Encryption/decryption failed.\n",
      "--> Attempting to decrypt results!\n",
      "Making request: GET | https://v6server.carrier-mu.src.surf-hosted.nl:443/api/result/1404 | {}\n",
      "Starting new HTTPS connection (1): v6server.carrier-mu.src.surf-hosted.nl:443\n",
      "https://v6server.carrier-mu.src.surf-hosted.nl:443 \"GET /api/result/1404 HTTP/1.1\" 200 1589\n",
      "Decrypting input\n",
      "Encryption/decryption failed.\n",
      "--> Attempting to decrypt results!\n",
      "Making request: GET | https://v6server.carrier-mu.src.surf-hosted.nl:443/api/result/1404 | {}\n",
      "Starting new HTTPS connection (1): v6server.carrier-mu.src.surf-hosted.nl:443\n",
      "https://v6server.carrier-mu.src.surf-hosted.nl:443 \"GET /api/result/1404 HTTP/1.1\" 200 1589\n",
      "Decrypting input\n",
      "Encryption/decryption failed.\n",
      "--> Attempting to decrypt results!\n",
      "Making request: GET | https://v6server.carrier-mu.src.surf-hosted.nl:443/api/result/1404 | {}\n",
      "Starting new HTTPS connection (1): v6server.carrier-mu.src.surf-hosted.nl:443\n",
      "https://v6server.carrier-mu.src.surf-hosted.nl:443 \"GET /api/result/1404 HTTP/1.1\" 200 1589\n",
      "Decrypting input\n",
      "Encryption/decryption failed.\n",
      "--> Attempting to decrypt results!\n",
      "Making request: GET | https://v6server.carrier-mu.src.surf-hosted.nl:443/api/result/1404 | {}\n",
      "Starting new HTTPS connection (1): v6server.carrier-mu.src.surf-hosted.nl:443\n",
      "https://v6server.carrier-mu.src.surf-hosted.nl:443 \"GET /api/result/1404 HTTP/1.1\" 200 1589\n",
      "Decrypting input\n",
      "Encryption/decryption failed.\n",
      "--> Attempting to decrypt results!\n",
      "Making request: GET | https://v6server.carrier-mu.src.surf-hosted.nl:443/api/result/1404 | {}\n",
      "Starting new HTTPS connection (1): v6server.carrier-mu.src.surf-hosted.nl:443\n",
      "https://v6server.carrier-mu.src.surf-hosted.nl:443 \"GET /api/result/1404 HTTP/1.1\" 200 1589\n",
      "Decrypting input\n",
      "Encryption/decryption failed.\n",
      "--> Attempting to decrypt results!\n",
      "Making request: GET | https://v6server.carrier-mu.src.surf-hosted.nl:443/api/result/1404 | {}\n",
      "Starting new HTTPS connection (1): v6server.carrier-mu.src.surf-hosted.nl:443\n",
      "https://v6server.carrier-mu.src.surf-hosted.nl:443 \"GET /api/result/1404 HTTP/1.1\" 200 1589\n",
      "Decrypting input\n",
      "Encryption/decryption failed.\n",
      "--> Attempting to decrypt results!\n",
      "Making request: GET | https://v6server.carrier-mu.src.surf-hosted.nl:443/api/result/1404 | {}\n",
      "Starting new HTTPS connection (1): v6server.carrier-mu.src.surf-hosted.nl:443\n",
      "https://v6server.carrier-mu.src.surf-hosted.nl:443 \"GET /api/result/1404 HTTP/1.1\" 200 1589\n",
      "Decrypting input\n",
      "Encryption/decryption failed.\n",
      "--> Attempting to decrypt results!\n",
      "Making request: GET | https://v6server.carrier-mu.src.surf-hosted.nl:443/api/result/1404 | {}\n",
      "Starting new HTTPS connection (1): v6server.carrier-mu.src.surf-hosted.nl:443\n",
      "https://v6server.carrier-mu.src.surf-hosted.nl:443 \"GET /api/result/1404 HTTP/1.1\" 200 10974\n",
      "Decrypting input\n",
      "Encryption/decryption failed.\n",
      "Decrypting result\n",
      "Decrypted shared key: b'\\xa4\\xac\\xc8S_)/nA\"\\x9d\"_\\xea1\\xc1\\x8e`\\xb6e\\xd2\\xb4\\xbe\\x93V\\x89<Z\\xfa\\x0e\\xc0\\x9a'\n",
      "No data format specified. Assuming input data is pickle format\n",
      "Received a result\n"
     ]
    },
    {
     "data": {
      "text/plain": [
       "[Result(organization=4, content=({'age': 0.055669113993644714, 'bmi': -0.09089863300323486}, ([1.0, 2.0, 3.0, 4.0, 6.0, 7.0, 42.0, 61.0, 64.0, 88.0, 95.0, 97.0, 100.0, 118.0, 151.0, 192.0, 197.0, 235.0, 297.0, 343.0, 354.0, 422.0, 446.0, 535.0, 612.0, 670.0, 714.0, 849.0, 865.0, 903.0, 905.0, 920.0, 1065.0, 1233.0, 1317.0, 1496.0, 1548.0, 1553.0, 1576.0, 1579.0, 1671.0, 1887.0, 1920.0, 1933.0, 1939.0, 1940.0, 1941.0, 1942.0, 1954.0, 1955.0, 1964.0, 1969.0, 1976.0, 1993.0, 1994.0, 2006.0, 2009.0, 2025.0, 2032.0, 2048.0, 2057.0, 2064.0, 2065.0, 2084.0, 2086.0, 2113.0, 2114.0, 2118.0, 2122.0, 2123.0, 2125.0, 2126.0, 2131.0, 2132.0, 2139.0, 2145.0, 2146.0, 2151.0, 2152.0, 2156.0, 2160.0, 2166.0, 2168.0, 2172.0, 2173.0, 2175.0, 2178.0, 2190.0, 2192.0, 2353.0, 2358.0], [0.0012652970533598865, 0.0012774381260462209, 0.001363799106126895, 0.0014072088079393344, 0.001448865106989711, 0.0016253721752260706, 0.001677158186291496, 0.0016982819088793223, 0.0017199623148206142, 0.0017270900584180615, 0.0017472795025242015, 0.0017608278621776246, 0.0017910089471768517, 0.001821662430737143, 0.0018855745791019007, 0.0019328185748954537, 0.0020000699461162176, 0.0020545423566666063, 0.002137492932790789, 0.002157673119375079, 0.0022014962824943515, 0.0022408078485668093, 0.002274049412631603, 0.0023638490521261687, 0.002431009526304642, 0.002457289634880808, 0.002513405654477138, 0.002532174346035866, 0.0026230866346048515, 0.0026490702877335764, 0.002716750341405078, 0.0027596705730325083, 0.0028467048713893416, 0.0029333529268971044, 0.00306960510331268, 0.003107335467986336, 0.003124975619791616, 0.003178113215173947, 0.003730116983182005, 0.003878284046123213, 0.0040777340502185615, 0.004158978126270906, 0.004236345691956344, 0.004255775782779239, 0.004394350672632769, 0.004924332146351036, 0.004965950877494475, 0.005110082597981543, 0.0051944586011874044, 0.005313967923134073, 0.005453960081623028, 0.005781299808124121, 0.006046237039287122, 0.006149697620685864, 0.006275166824839915, 0.006453319601611594, 0.00652281947845105, 0.007520806461836559, 0.007733186894400025, 0.007829619417425247, 0.008152675005062605, 0.008279663644103246, 0.008830464386624035, 0.009079956595697894, 0.009148259854758829, 0.00916587905837881, 0.009630350964162909, 0.010564466986027544, 0.010737364771993062, 0.01081392478878466, 0.011019314308473836, 0.011641156684238603, 0.013625223717806816, 0.014697305412431685, 0.016833002012378362, 0.017262889267402007, 0.01883945240740702, 0.019702151135815176, 0.019847075634085335, 0.020038857041487345, 0.025468775714864424, 0.0322530223269224, 0.03677380543476523, 0.04162831155678623, 0.04484473808694141, 0.04628040266936474, 0.050954675818726335, 0.10350165417726868, 0.32452850686282697, 0.40240693433609803, 1.6140189982644957])), log=\"/root/.cache/pypoetry/virtualenvs/verticox-9TtSrW0h-py3.10/lib/python3.10/site-packages/vantage6/common/encryption.py:25: CryptographyDeprecationWarning: Use PrivateKeyTypes instead\\n  from cryptography.hazmat.primitives.asymmetric.types import PRIVATE_KEY_TYPES\\ninfo > wrapper for verticox\\ninfo > Reading input file /mnt/data/task-000001404/input\\ninfo > Reading token file '/mnt/data/task-000001404/token'\\ninfo > Using '/mnt/data/default.parquet' as database\\ninfo > Dispatching ...\\ninfo > Module 'verticox' imported!\\ninfo > Running a master-container\\ninfo > Working with collaboration_id <1>\\ninfo > Start running verticox on features: ['age', 'bmi']\\ninfo > My database: default\\n[info ] - Starting java containers\\n[info ] - Parsing addresses: [{'ip': '10.155.40.73', 'port': 49302, 'label': 'python'}, {'ip': '10.155.40.73', 'port': 49303, 'label': 'java'}]\\n[info ] - Commodity address: ContainerAddresses(python=['10.155.40.73:49302'], java=['10.155.40.73:49303'])\\n[info ] - Running java nodes on organizations [5, 6, 4]\\n[info ] - Parsing addresses: [{'ip': '10.155.40.71', 'port': 49280, 'label': 'python'}, {'ip': '10.155.40.71', 'port': 49281, 'label': 'java'}, {'ip': '10.155.40.72', 'port': 49280, 'label': 'python'}, {'ip': '10.155.40.72', 'port': 49281, 'label': 'java'}, {'ip': '10.155.40.73', 'port': 49304, 'label': 'python'}, {'ip': '10.155.40.73', 'port': 49305, 'label': 'java'}]\\n[info ] - Addresses: ContainerAddresses(python=['10.155.40.71:49280', '10.155.40.72:49280', '10.155.40.73:49304'], java=['10.155.40.71:49281', '10.155.40.72:49281', '10.155.40.73:49305'])\\ninfo > Initializing N party client with:\\nCommodity address: 10.155.40.73:49303\\nScalar product Datanode addresses: ['10.155.40.71:49281', '10.155.40.72:49281', '10.155.40.73:49305']\\nPrecision: 5\\n[debug] - Initializing central server with: {'secretServer': 'http://10.155.40.73:49303', 'servers': ['http://10.155.40.71:49281', 'http://10.155.40.72:49281', 'http://10.155.40.73:49305']}\\ninfo > Initialized central server\\n[debug] - Setting endpoints for 10.155.40.71:49281 with: {'servers': ['http://10.155.40.72:49281', 'http://10.155.40.73:49305', 'http://10.155.40.73:49303']}\\n[debug] - Setting endpoints for 10.155.40.72:49281 with: {'servers': ['http://10.155.40.71:49281', 'http://10.155.40.73:49305', 'http://10.155.40.73:49303']}\\n[debug] - Setting endpoints for 10.155.40.73:49305 with: {'servers': ['http://10.155.40.71:49281', 'http://10.155.40.72:49281', 'http://10.155.40.73:49303']}\\ninfo > Initialized datanodes\\n[debug] - Setting precision\\n[debug] - Done setting precision\\n[info ] - Starting python containers\\n[info ] - Datanode ids: [5, 6]\\n[info ] - Commodity address: 10.155.40.73:49303\\n[info ] - Getting ip for organization 5\\n[info ] - Getting ip for organization 6\\n[info ] - Parsing addresses: [{'ip': '10.155.40.71', 'port': 49282, 'label': 'python'}, {'ip': '10.155.40.71', 'port': 49283, 'label': 'java'}]\\n[info ] - Address: 10.155.40.71:49282\\n[info ] - Address: 10.155.40.71\\n[info ] - Dispatching python datanode task\\n[info ] - Parsing addresses: [{'ip': '10.155.40.72', 'port': 49282, 'label': 'python'}, {'ip': '10.155.40.72', 'port': 49283, 'label': 'java'}]\\n[info ] - Address: 10.155.40.72:49282\\n[info ] - Address: 10.155.40.72\\n[info ] - Dispatching python datanode task\\n[info ] - Parsing addresses: [{'ip': '10.155.40.71', 'port': 49284, 'label': 'python'}, {'ip': '10.155.40.71', 'port': 49285, 'label': 'java'}]\\n[info ] - Parsing addresses: [{'ip': '10.155.40.72', 'port': 49284, 'label': 'python'}, {'ip': '10.155.40.72', 'port': 49285, 'label': 'java'}]\\ninfo > Connecting to datanode at 10.155.40.71:49284\\ninfo > Connecting to datanode at 10.155.40.72:49284\\n[info ] - Created 2 RPC stubs\\n[info ] - Finished fitting model\\ninfo > Verticox algorithm complete after 154.15584564208984 seconds\\ninfo > Killing datanodes\\ninfo > Writing output to /mnt/data/task-000001404/output\\n\")]"
      ]
     },
     "execution_count": 12,
     "metadata": {},
     "output_type": "execute_result"
    }
   ],
   "source": [
    "results = task.get_results()\n",
    "results"
   ]
  },
  {
   "cell_type": "code",
   "execution_count": 13,
   "id": "7a79a960-12d6-42b2-80bf-ee4bd981b846",
   "metadata": {
    "tags": []
   },
   "outputs": [
    {
     "name": "stdout",
     "output_type": "stream",
     "text": [
      "({'age': 0.055669113993644714, 'bmi': -0.09089863300323486}, ([1.0, 2.0, 3.0, 4.0, 6.0, 7.0, 42.0, 61.0, 64.0, 88.0, 95.0, 97.0, 100.0, 118.0, 151.0, 192.0, 197.0, 235.0, 297.0, 343.0, 354.0, 422.0, 446.0, 535.0, 612.0, 670.0, 714.0, 849.0, 865.0, 903.0, 905.0, 920.0, 1065.0, 1233.0, 1317.0, 1496.0, 1548.0, 1553.0, 1576.0, 1579.0, 1671.0, 1887.0, 1920.0, 1933.0, 1939.0, 1940.0, 1941.0, 1942.0, 1954.0, 1955.0, 1964.0, 1969.0, 1976.0, 1993.0, 1994.0, 2006.0, 2009.0, 2025.0, 2032.0, 2048.0, 2057.0, 2064.0, 2065.0, 2084.0, 2086.0, 2113.0, 2114.0, 2118.0, 2122.0, 2123.0, 2125.0, 2126.0, 2131.0, 2132.0, 2139.0, 2145.0, 2146.0, 2151.0, 2152.0, 2156.0, 2160.0, 2166.0, 2168.0, 2172.0, 2173.0, 2175.0, 2178.0, 2190.0, 2192.0, 2353.0, 2358.0], [0.0012652970533598865, 0.0012774381260462209, 0.001363799106126895, 0.0014072088079393344, 0.001448865106989711, 0.0016253721752260706, 0.001677158186291496, 0.0016982819088793223, 0.0017199623148206142, 0.0017270900584180615, 0.0017472795025242015, 0.0017608278621776246, 0.0017910089471768517, 0.001821662430737143, 0.0018855745791019007, 0.0019328185748954537, 0.0020000699461162176, 0.0020545423566666063, 0.002137492932790789, 0.002157673119375079, 0.0022014962824943515, 0.0022408078485668093, 0.002274049412631603, 0.0023638490521261687, 0.002431009526304642, 0.002457289634880808, 0.002513405654477138, 0.002532174346035866, 0.0026230866346048515, 0.0026490702877335764, 0.002716750341405078, 0.0027596705730325083, 0.0028467048713893416, 0.0029333529268971044, 0.00306960510331268, 0.003107335467986336, 0.003124975619791616, 0.003178113215173947, 0.003730116983182005, 0.003878284046123213, 0.0040777340502185615, 0.004158978126270906, 0.004236345691956344, 0.004255775782779239, 0.004394350672632769, 0.004924332146351036, 0.004965950877494475, 0.005110082597981543, 0.0051944586011874044, 0.005313967923134073, 0.005453960081623028, 0.005781299808124121, 0.006046237039287122, 0.006149697620685864, 0.006275166824839915, 0.006453319601611594, 0.00652281947845105, 0.007520806461836559, 0.007733186894400025, 0.007829619417425247, 0.008152675005062605, 0.008279663644103246, 0.008830464386624035, 0.009079956595697894, 0.009148259854758829, 0.00916587905837881, 0.009630350964162909, 0.010564466986027544, 0.010737364771993062, 0.01081392478878466, 0.011019314308473836, 0.011641156684238603, 0.013625223717806816, 0.014697305412431685, 0.016833002012378362, 0.017262889267402007, 0.01883945240740702, 0.019702151135815176, 0.019847075634085335, 0.020038857041487345, 0.025468775714864424, 0.0322530223269224, 0.03677380543476523, 0.04162831155678623, 0.04484473808694141, 0.04628040266936474, 0.050954675818726335, 0.10350165417726868, 0.32452850686282697, 0.40240693433609803, 1.6140189982644957]))\n"
     ]
    }
   ],
   "source": [
    "for r in results:\n",
    "    print(r.content)"
   ]
  },
  {
   "cell_type": "markdown",
   "id": "52b3418b-db99-49d6-a15c-f1c912c31154",
   "metadata": {},
   "source": [
    "## Crossvalidation\n",
    "It's also possible to run crossvalidation. The parameters are similar to the `fit` method."
   ]
  },
  {
   "cell_type": "code",
   "execution_count": 24,
   "id": "3d94a0a5-b7f1-48cb-a38b-60bac8a4c123",
   "metadata": {},
   "outputs": [
    {
     "name": "stdout",
     "output_type": "stream",
     "text": [
      "\n",
      "                    task = self.v6client.task.create(collaboration=1,\n",
      "                                             organizations=[4],\n",
      "                                             name=,\n",
      "                                             image=harbor.carrier-mu.src.surf-hosted.nl/carrier/verticox:test,\n",
      "                                             description=,\n",
      "                                             input={'method': 'cross_validate', 'master': True, 'kwargs': {'feature_columns': ['age', 'bmi'], 'event_times_column': 'event_time', 'event_happened_column': 'event_happened', 'datanode_ids': [5, 6], 'central_node_id': 4, 'precision': 1e-05}},\n",
      "                                             data_format=json,\n",
      "                                             database=default\n",
      "                                             )\n",
      "            \n",
      "Making request: GET | https://v6server.carrier-mu.src.surf-hosted.nl:443/api/organization/4 | None\n",
      "Starting new HTTPS connection (1): v6server.carrier-mu.src.surf-hosted.nl:443\n",
      "https://v6server.carrier-mu.src.surf-hosted.nl:443 \"GET /api/organization/4 HTTP/1.1\" 200 33501\n",
      "Making request: POST | https://v6server.carrier-mu.src.surf-hosted.nl:443/api/task | None\n",
      "Starting new HTTPS connection (1): v6server.carrier-mu.src.surf-hosted.nl:443\n",
      "https://v6server.carrier-mu.src.surf-hosted.nl:443 \"POST /api/task HTTP/1.1\" 201 440\n"
     ]
    }
   ],
   "source": [
    "crossval_task = verticox_client.cross_validate(feature_columns=['age', 'bmi'],\n",
    "                    outcome_time_column='event_time',\n",
    "                    right_censor_column='event_happened',\n",
    "                    feature_nodes=[5,6],\n",
    "                    outcome_node=4\n",
    "                   )"
   ]
  },
  {
   "cell_type": "code",
   "execution_count": 34,
   "id": "5c5e8155-a1b2-4454-8de0-e1a6747fd1e2",
   "metadata": {
    "tags": []
   },
   "outputs": [
    {
     "name": "stdout",
     "output_type": "stream",
     "text": [
      "--> Attempting to decrypt results!\n",
      "Making request: GET | https://v6server.carrier-mu.src.surf-hosted.nl:443/api/result/1427 | {}\n",
      "Starting new HTTPS connection (1): v6server.carrier-mu.src.surf-hosted.nl:443\n",
      "https://v6server.carrier-mu.src.surf-hosted.nl:443 \"GET /api/result/1427 HTTP/1.1\" 200 16253\n",
      "Decrypting input\n",
      "Encryption/decryption failed.\n",
      "Decrypting result\n",
      "Decrypted shared key: b'\\xf6i\\xcc\\xf4\\x94h\\xbc:<_[\\xd3\\x1b\\xdaVlWje[k;\\xf8\\x9a\\xf1\\xc7o\\x07\\x1e\\x940\\xfe'\n",
      "No data format specified. Assuming input data is pickle format\n",
      "Received a result\n"
     ]
    }
   ],
   "source": [
    "crosval_result = crossval_task.get_results()"
   ]
  },
  {
   "cell_type": "code",
   "execution_count": 35,
   "id": "87b690a9-6790-4a0a-839f-097f4ae876e4",
   "metadata": {
    "tags": []
   },
   "outputs": [
    {
     "name": "stdout",
     "output_type": "stream",
     "text": [
      "([0.7037037037037037, 0.7545454545454545, 0.6235955056179775, 0.8211382113821138, 0.8], [{'age': 0.06015985831618309, 'bmi': -0.08452045917510986}, {'age': 0.056291282176971436, 'bmi': -0.07550866901874542}, {'age': 0.0665493980050087, 'bmi': -0.13870492577552795}, {'age': 0.048449769616127014, 'bmi': -0.09733114391565323}, {'age': 0.052297577261924744, 'bmi': -0.07855425775051117}], [([1.0, 2.0, 4.0, 6.0, 7.0, 64.0, 88.0, 95.0, 97.0, 118.0, 151.0, 192.0, 197.0, 235.0, 297.0, 343.0, 354.0, 422.0, 446.0, 535.0, 612.0, 849.0, 865.0, 903.0, 905.0, 920.0, 1065.0, 1233.0, 1317.0, 1548.0, 1553.0, 1576.0, 1579.0, 1671.0, 1887.0, 1920.0, 1939.0, 1940.0, 1942.0, 1954.0, 1955.0, 1964.0, 1969.0, 1976.0, 1993.0, 1994.0, 2009.0, 2025.0, 2032.0, 2048.0, 2057.0, 2064.0, 2065.0, 2084.0, 2086.0, 2114.0, 2118.0, 2123.0, 2125.0, 2126.0, 2132.0, 2139.0, 2146.0, 2151.0, 2152.0, 2156.0, 2160.0, 2166.0, 2168.0, 2172.0, 2173.0, 2178.0, 2190.0, 2192.0, 2358.0], [0.0009535293689516141, 0.0009622059145625324, 0.0010465848528090364, 0.0010866172337617899, 0.0011357573194583181, 0.0011779125655156258, 0.0011833414102755298, 0.001199751640975999, 0.0012090419420321449, 0.0012343487167720474, 0.0012837951546782376, 0.0013184978086931529, 0.001369684452015951, 0.0014137680728652877, 0.0014776893368382764, 0.0014933595307782817, 0.001529558682904284, 0.0015601601845958953, 0.0015898610011465509, 0.0016639086941918329, 0.001719944444887832, 0.0017411383999824453, 0.0018133449864470234, 0.0018311578049966957, 0.001885003673277552, 0.001917965400059917, 0.001992856651976389, 0.002060739938756975, 0.0021814453734556706, 0.002216308710141154, 0.002258810953650333, 0.0027491898746551703, 0.0028772870073665922, 0.00306582238608482, 0.003143466139931072, 0.003209558452898764, 0.0032268857247664796, 0.003718522553828967, 0.003754241983757201, 0.003829455027916744, 0.003938205820343395, 0.0040554418677926345, 0.0043774218252607576, 0.004631922604702643, 0.004739544646659798, 0.004874930325901692, 0.005049130799438742, 0.005441271551491481, 0.0056054039506558875, 0.005678830169732464, 0.005959167696040858, 0.006065025706510126, 0.006594443172955026, 0.006817406418080654, 0.006872516805366471, 0.006887404308553937, 0.007719177846874395, 0.007870489055095594, 0.008030042671548509, 0.008582055099539859, 0.010197578178259527, 0.012060977346408711, 0.012382627888089335, 0.012944573908544057, 0.013048435659271888, 0.013167409619885818, 0.017024154908384045, 0.022815748889493496, 0.026497960642869044, 0.030434121952850165, 0.032943183351086036, 0.03413777516824587, 0.08150003986863588, 0.5284847089568876, 1.0342597181309716]), ([1.0, 2.0, 3.0, 4.0, 6.0, 7.0, 42.0, 61.0, 88.0, 95.0, 97.0, 100.0, 118.0, 151.0, 192.0, 197.0, 235.0, 297.0, 343.0, 422.0, 446.0, 535.0, 612.0, 670.0, 714.0, 849.0, 865.0, 903.0, 1065.0, 1317.0, 1496.0, 1548.0, 1553.0, 1576.0, 1579.0, 1671.0, 1920.0, 1933.0, 1939.0, 1940.0, 1941.0, 1942.0, 1955.0, 1969.0, 1976.0, 1994.0, 2006.0, 2009.0, 2025.0, 2048.0, 2064.0, 2065.0, 2084.0, 2086.0, 2113.0, 2114.0, 2118.0, 2122.0, 2123.0, 2125.0, 2126.0, 2131.0, 2145.0, 2151.0, 2152.0, 2156.0, 2160.0, 2166.0, 2168.0, 2175.0, 2178.0, 2190.0, 2192.0, 2353.0, 2358.0], [0.0010267051118440522, 0.0010387887988134812, 0.0010784130155720327, 0.0011169245327180561, 0.0011560230048866013, 0.001306966348420331, 0.0013579536294633092, 0.001380070659088584, 0.0014013588447729089, 0.0014231835993936343, 0.0014355949896820979, 0.0014685865000336098, 0.0014986512588891024, 0.0015616383343589272, 0.0016068773392097105, 0.0016725864569326543, 0.0017313937291936012, 0.00181359430197642, 0.001836528761989389, 0.0018870618385584408, 0.00192890932371282, 0.002024023228606673, 0.002098651266448698, 0.002129250147940736, 0.0021945270522200867, 0.002216574441590965, 0.002320661515034379, 0.0023487086035963423, 0.0024299298567864508, 0.002520800592589066, 0.002567501973759853, 0.0025864507731854177, 0.0026414938434692206, 0.0031700450052822185, 0.003323094757705652, 0.0035482597890659465, 0.0036493449719953094, 0.003673643593114681, 0.003828232715899352, 0.004203269991102983, 0.004250600907044189, 0.0044126228979624905, 0.004516813681259901, 0.00466357966645689, 0.004931753897004537, 0.005056984988177494, 0.005238380827073091, 0.0053052962127637555, 0.006287584665350514, 0.006500096373975364, 0.006720213752776981, 0.007333629830074192, 0.007608922912623885, 0.007683950440403385, 0.007706984926773797, 0.008226148298322675, 0.009329597734915278, 0.009565740651903704, 0.009681925200283548, 0.009931713783268199, 0.010757233401798844, 0.011011884733142505, 0.012096430069096657, 0.013343622852457484, 0.013476568228323467, 0.013621824196035366, 0.01725398493224064, 0.022741587730563985, 0.026305659580033423, 0.03012018695491977, 0.033152941656657664, 0.0684009675563768, 0.20178930104283838, 0.25631985229262355, 0.9096903757375712]), ([1.0, 2.0, 3.0, 4.0, 6.0, 7.0, 42.0, 61.0, 64.0, 88.0, 95.0, 97.0, 100.0, 197.0, 343.0, 354.0, 446.0, 535.0, 612.0, 670.0, 714.0, 849.0, 903.0, 905.0, 920.0, 1065.0, 1233.0, 1496.0, 1548.0, 1887.0, 1920.0, 1933.0, 1939.0, 1941.0, 1942.0, 1954.0, 1955.0, 1964.0, 1969.0, 1976.0, 1993.0, 1994.0, 2006.0, 2009.0, 2025.0, 2032.0, 2048.0, 2057.0, 2064.0, 2065.0, 2084.0, 2086.0, 2113.0, 2118.0, 2122.0, 2123.0, 2125.0, 2126.0, 2131.0, 2132.0, 2139.0, 2145.0, 2146.0, 2151.0, 2152.0, 2156.0, 2166.0, 2172.0, 2173.0, 2175.0, 2192.0, 2353.0, 2358.0], [0.002068756251660534, 0.002071992485376361, 0.0022953369328716964, 0.0024264104013406815, 0.0025441208310606534, 0.0034071544331940686, 0.0035030015955384982, 0.003563957120927977, 0.0036360123558331877, 0.0036512792623155255, 0.0037067182448653614, 0.0037535351080754216, 0.003844949034719944, 0.003961937675672288, 0.004135735804660846, 0.004249025644213352, 0.0043617869508110795, 0.004675342850535648, 0.004890745590726795, 0.0049560521494059345, 0.005125110949503445, 0.005170037119497006, 0.005505016109886123, 0.0057304114108235335, 0.005863243056572259, 0.006143292472047634, 0.006500150436455191, 0.007042116279393486, 0.00708723447631559, 0.007274488801857242, 0.007446228034351047, 0.0074697443662663735, 0.007792582376299365, 0.009289315613529255, 0.009632463696301554, 0.009787160082831889, 0.01002688670677744, 0.010388324242232478, 0.011241353017629614, 0.011958343318473981, 0.012129122609044798, 0.012336704629670256, 0.0127608600004416, 0.012912793267172222, 0.016569976876070827, 0.01729461771269602, 0.01754994203254027, 0.01833882733856602, 0.01864740315829746, 0.020416152137549572, 0.021154553433361895, 0.021311864247039236, 0.0213339536343464, 0.022976370496998334, 0.023301909137491812, 0.023403119266353852, 0.0239150777379662, 0.025699039254126085, 0.03425647898069258, 0.0390282791038049, 0.049980769719034895, 0.05193170456150404, 0.061149380509258104, 0.06639764512156206, 0.06677217443823275, 0.0675221587578501, 0.17061354103013313, 0.27660291583952423, 0.372560110822309, 0.4084144387921135, 0.715987252452093, 0.8272788035865729, 5.114063263473643]), ([1.0, 2.0, 3.0, 4.0, 6.0, 7.0, 42.0, 61.0, 64.0, 88.0, 95.0, 97.0, 100.0, 118.0, 151.0, 192.0, 197.0, 235.0, 297.0, 343.0, 354.0, 422.0, 612.0, 670.0, 714.0, 849.0, 865.0, 903.0, 905.0, 920.0, 1233.0, 1317.0, 1496.0, 1553.0, 1576.0, 1579.0, 1671.0, 1887.0, 1933.0, 1939.0, 1940.0, 1941.0, 1954.0, 1955.0, 1964.0, 1969.0, 1976.0, 1993.0, 2006.0, 2009.0, 2032.0, 2048.0, 2057.0, 2064.0, 2065.0, 2086.0, 2113.0, 2114.0, 2122.0, 2125.0, 2126.0, 2131.0, 2132.0, 2139.0, 2145.0, 2146.0, 2152.0, 2160.0, 2166.0, 2168.0, 2172.0, 2173.0, 2175.0, 2178.0, 2190.0, 2353.0, 2358.0], [0.003252230863100549, 0.003295017343783266, 0.0034348669756393453, 0.0035657142190332236, 0.0036875409910775005, 0.004049369511814394, 0.004121691778723248, 0.00418202148206134, 0.00424933100208605, 0.0042717668221863275, 0.004329088826943367, 0.0043781593765360284, 0.00446123274956218, 0.004558181925736173, 0.004747868877270615, 0.0049027801172433425, 0.005116720146972677, 0.005281467039454788, 0.005554702393181969, 0.005624186253991111, 0.0057627805979478626, 0.00590020553667239, 0.0059989678672765084, 0.006081497936559859, 0.006246753387695574, 0.00631028640907341, 0.006581210773552212, 0.006680001293077583, 0.006890061626884961, 0.00703379455758683, 0.007285917573224619, 0.007656515609275001, 0.007759102138429399, 0.007821356075063781, 0.009373298494436527, 0.009862100419278999, 0.010472495070245379, 0.01073301470319262, 0.011028488369842044, 0.01150835419045055, 0.012068097032224525, 0.012212264556275883, 0.0126619683056544, 0.013012369159269666, 0.013481347819138801, 0.014391788871273231, 0.015202274505867653, 0.015504223386293104, 0.015860145328407196, 0.01612194844312024, 0.017665367761807212, 0.01797121882312777, 0.01884302345451686, 0.01921593495982597, 0.02056080300552594, 0.021274939542186976, 0.021332725900528777, 0.02261096989013394, 0.025047342915158557, 0.025261786304132894, 0.026892443268898142, 0.03226481995773235, 0.03541943046179431, 0.04108712553841392, 0.04264700670304743, 0.04751047661214471, 0.05069124264381732, 0.05148210422358013, 0.06316255030587604, 0.07221147113057423, 0.08260274312517749, 0.09033643017351052, 0.09367440957434801, 0.10486104497517407, 0.20437175177819455, 0.6895470739369288, 2.8846007200200185]), ([1.0, 2.0, 3.0, 6.0, 7.0, 42.0, 61.0, 64.0, 100.0, 118.0, 151.0, 192.0, 235.0, 297.0, 354.0, 422.0, 446.0, 535.0, 670.0, 714.0, 865.0, 905.0, 920.0, 1065.0, 1233.0, 1317.0, 1496.0, 1548.0, 1553.0, 1576.0, 1579.0, 1671.0, 1887.0, 1920.0, 1933.0, 1939.0, 1940.0, 1941.0, 1942.0, 1954.0, 1964.0, 1993.0, 1994.0, 2006.0, 2009.0, 2025.0, 2032.0, 2048.0, 2057.0, 2084.0, 2113.0, 2114.0, 2118.0, 2122.0, 2123.0, 2126.0, 2131.0, 2132.0, 2139.0, 2145.0, 2146.0, 2151.0, 2156.0, 2160.0, 2168.0, 2172.0, 2173.0, 2175.0, 2178.0, 2190.0, 2192.0, 2353.0], [0.0015146724285514802, 0.0015334591136526312, 0.0016555317356569043, 0.0017161039948821845, 0.0019369474747499176, 0.0020129116689085137, 0.0020454313554782656, 0.0020780562970930923, 0.0020902064565964024, 0.0021325022247668125, 0.002217302855714435, 0.002280951766189342, 0.002370944027091325, 0.002475823525895784, 0.0025056050089385194, 0.002558137916829718, 0.0026068898289009594, 0.0027223614166776086, 0.002812714462376995, 0.002889212042343267, 0.002916917149769811, 0.002950651915216405, 0.003004336513805091, 0.0031123709110066978, 0.0032158579639129854, 0.0033824784559943906, 0.003436485057407282, 0.0034615746997053286, 0.0035311039555566874, 0.004131360689332817, 0.0043127591010734215, 0.004562838044353807, 0.004675953483308425, 0.004779153721438803, 0.004809771655749493, 0.004993865869628253, 0.0056896122194224266, 0.005754336104440449, 0.00596153874359741, 0.006093294212628106, 0.006277560387701284, 0.006735546016038003, 0.006915959337071982, 0.00715358951875837, 0.007250588235016245, 0.008508685432732269, 0.008799842085350524, 0.008943716265396967, 0.009139087231789373, 0.009326723913512077, 0.009414763847681076, 0.00994645459977718, 0.010993888050047262, 0.011224177164283757, 0.011336902166690362, 0.011596380278242838, 0.013627459288047448, 0.014778448694124357, 0.017102943571046577, 0.01761979854921787, 0.019439080525314647, 0.02048250624687313, 0.02070614431194479, 0.026567032404091848, 0.03487101150306334, 0.039719182237723645, 0.04308127194877244, 0.04479734641635745, 0.04985528699856301, 0.1027224853343952, 0.34430800791189126, 0.4712079799715139])])\n"
     ]
    }
   ],
   "source": [
    "for r in crosval_result:\n",
    "    print(r.content)"
   ]
  },
  {
   "cell_type": "code",
   "execution_count": 37,
   "id": "6d71b32d-2006-4c75-b4e9-e2223ca32b4a",
   "metadata": {},
   "outputs": [
    {
     "name": "stdout",
     "output_type": "stream",
     "text": [
      "([0.7037037037037037, 0.7545454545454545, 0.6235955056179775, 0.8211382113821138, 0.8], [{'age': 0.06015985831618309, 'bmi': -0.08452045917510986}, {'age': 0.056291282176971436, 'bmi': -0.07550866901874542}, {'age': 0.0665493980050087, 'bmi': -0.13870492577552795}, {'age': 0.048449769616127014, 'bmi': -0.09733114391565323}, {'age': 0.052297577261924744, 'bmi': -0.07855425775051117}], [([1.0, 2.0, 4.0, 6.0, 7.0, 64.0, 88.0, 95.0, 97.0, 118.0, 151.0, 192.0, 197.0, 235.0, 297.0, 343.0, 354.0, 422.0, 446.0, 535.0, 612.0, 849.0, 865.0, 903.0, 905.0, 920.0, 1065.0, 1233.0, 1317.0, 1548.0, 1553.0, 1576.0, 1579.0, 1671.0, 1887.0, 1920.0, 1939.0, 1940.0, 1942.0, 1954.0, 1955.0, 1964.0, 1969.0, 1976.0, 1993.0, 1994.0, 2009.0, 2025.0, 2032.0, 2048.0, 2057.0, 2064.0, 2065.0, 2084.0, 2086.0, 2114.0, 2118.0, 2123.0, 2125.0, 2126.0, 2132.0, 2139.0, 2146.0, 2151.0, 2152.0, 2156.0, 2160.0, 2166.0, 2168.0, 2172.0, 2173.0, 2178.0, 2190.0, 2192.0, 2358.0], [0.0009535293689516141, 0.0009622059145625324, 0.0010465848528090364, 0.0010866172337617899, 0.0011357573194583181, 0.0011779125655156258, 0.0011833414102755298, 0.001199751640975999, 0.0012090419420321449, 0.0012343487167720474, 0.0012837951546782376, 0.0013184978086931529, 0.001369684452015951, 0.0014137680728652877, 0.0014776893368382764, 0.0014933595307782817, 0.001529558682904284, 0.0015601601845958953, 0.0015898610011465509, 0.0016639086941918329, 0.001719944444887832, 0.0017411383999824453, 0.0018133449864470234, 0.0018311578049966957, 0.001885003673277552, 0.001917965400059917, 0.001992856651976389, 0.002060739938756975, 0.0021814453734556706, 0.002216308710141154, 0.002258810953650333, 0.0027491898746551703, 0.0028772870073665922, 0.00306582238608482, 0.003143466139931072, 0.003209558452898764, 0.0032268857247664796, 0.003718522553828967, 0.003754241983757201, 0.003829455027916744, 0.003938205820343395, 0.0040554418677926345, 0.0043774218252607576, 0.004631922604702643, 0.004739544646659798, 0.004874930325901692, 0.005049130799438742, 0.005441271551491481, 0.0056054039506558875, 0.005678830169732464, 0.005959167696040858, 0.006065025706510126, 0.006594443172955026, 0.006817406418080654, 0.006872516805366471, 0.006887404308553937, 0.007719177846874395, 0.007870489055095594, 0.008030042671548509, 0.008582055099539859, 0.010197578178259527, 0.012060977346408711, 0.012382627888089335, 0.012944573908544057, 0.013048435659271888, 0.013167409619885818, 0.017024154908384045, 0.022815748889493496, 0.026497960642869044, 0.030434121952850165, 0.032943183351086036, 0.03413777516824587, 0.08150003986863588, 0.5284847089568876, 1.0342597181309716]), ([1.0, 2.0, 3.0, 4.0, 6.0, 7.0, 42.0, 61.0, 88.0, 95.0, 97.0, 100.0, 118.0, 151.0, 192.0, 197.0, 235.0, 297.0, 343.0, 422.0, 446.0, 535.0, 612.0, 670.0, 714.0, 849.0, 865.0, 903.0, 1065.0, 1317.0, 1496.0, 1548.0, 1553.0, 1576.0, 1579.0, 1671.0, 1920.0, 1933.0, 1939.0, 1940.0, 1941.0, 1942.0, 1955.0, 1969.0, 1976.0, 1994.0, 2006.0, 2009.0, 2025.0, 2048.0, 2064.0, 2065.0, 2084.0, 2086.0, 2113.0, 2114.0, 2118.0, 2122.0, 2123.0, 2125.0, 2126.0, 2131.0, 2145.0, 2151.0, 2152.0, 2156.0, 2160.0, 2166.0, 2168.0, 2175.0, 2178.0, 2190.0, 2192.0, 2353.0, 2358.0], [0.0010267051118440522, 0.0010387887988134812, 0.0010784130155720327, 0.0011169245327180561, 0.0011560230048866013, 0.001306966348420331, 0.0013579536294633092, 0.001380070659088584, 0.0014013588447729089, 0.0014231835993936343, 0.0014355949896820979, 0.0014685865000336098, 0.0014986512588891024, 0.0015616383343589272, 0.0016068773392097105, 0.0016725864569326543, 0.0017313937291936012, 0.00181359430197642, 0.001836528761989389, 0.0018870618385584408, 0.00192890932371282, 0.002024023228606673, 0.002098651266448698, 0.002129250147940736, 0.0021945270522200867, 0.002216574441590965, 0.002320661515034379, 0.0023487086035963423, 0.0024299298567864508, 0.002520800592589066, 0.002567501973759853, 0.0025864507731854177, 0.0026414938434692206, 0.0031700450052822185, 0.003323094757705652, 0.0035482597890659465, 0.0036493449719953094, 0.003673643593114681, 0.003828232715899352, 0.004203269991102983, 0.004250600907044189, 0.0044126228979624905, 0.004516813681259901, 0.00466357966645689, 0.004931753897004537, 0.005056984988177494, 0.005238380827073091, 0.0053052962127637555, 0.006287584665350514, 0.006500096373975364, 0.006720213752776981, 0.007333629830074192, 0.007608922912623885, 0.007683950440403385, 0.007706984926773797, 0.008226148298322675, 0.009329597734915278, 0.009565740651903704, 0.009681925200283548, 0.009931713783268199, 0.010757233401798844, 0.011011884733142505, 0.012096430069096657, 0.013343622852457484, 0.013476568228323467, 0.013621824196035366, 0.01725398493224064, 0.022741587730563985, 0.026305659580033423, 0.03012018695491977, 0.033152941656657664, 0.0684009675563768, 0.20178930104283838, 0.25631985229262355, 0.9096903757375712]), ([1.0, 2.0, 3.0, 4.0, 6.0, 7.0, 42.0, 61.0, 64.0, 88.0, 95.0, 97.0, 100.0, 197.0, 343.0, 354.0, 446.0, 535.0, 612.0, 670.0, 714.0, 849.0, 903.0, 905.0, 920.0, 1065.0, 1233.0, 1496.0, 1548.0, 1887.0, 1920.0, 1933.0, 1939.0, 1941.0, 1942.0, 1954.0, 1955.0, 1964.0, 1969.0, 1976.0, 1993.0, 1994.0, 2006.0, 2009.0, 2025.0, 2032.0, 2048.0, 2057.0, 2064.0, 2065.0, 2084.0, 2086.0, 2113.0, 2118.0, 2122.0, 2123.0, 2125.0, 2126.0, 2131.0, 2132.0, 2139.0, 2145.0, 2146.0, 2151.0, 2152.0, 2156.0, 2166.0, 2172.0, 2173.0, 2175.0, 2192.0, 2353.0, 2358.0], [0.002068756251660534, 0.002071992485376361, 0.0022953369328716964, 0.0024264104013406815, 0.0025441208310606534, 0.0034071544331940686, 0.0035030015955384982, 0.003563957120927977, 0.0036360123558331877, 0.0036512792623155255, 0.0037067182448653614, 0.0037535351080754216, 0.003844949034719944, 0.003961937675672288, 0.004135735804660846, 0.004249025644213352, 0.0043617869508110795, 0.004675342850535648, 0.004890745590726795, 0.0049560521494059345, 0.005125110949503445, 0.005170037119497006, 0.005505016109886123, 0.0057304114108235335, 0.005863243056572259, 0.006143292472047634, 0.006500150436455191, 0.007042116279393486, 0.00708723447631559, 0.007274488801857242, 0.007446228034351047, 0.0074697443662663735, 0.007792582376299365, 0.009289315613529255, 0.009632463696301554, 0.009787160082831889, 0.01002688670677744, 0.010388324242232478, 0.011241353017629614, 0.011958343318473981, 0.012129122609044798, 0.012336704629670256, 0.0127608600004416, 0.012912793267172222, 0.016569976876070827, 0.01729461771269602, 0.01754994203254027, 0.01833882733856602, 0.01864740315829746, 0.020416152137549572, 0.021154553433361895, 0.021311864247039236, 0.0213339536343464, 0.022976370496998334, 0.023301909137491812, 0.023403119266353852, 0.0239150777379662, 0.025699039254126085, 0.03425647898069258, 0.0390282791038049, 0.049980769719034895, 0.05193170456150404, 0.061149380509258104, 0.06639764512156206, 0.06677217443823275, 0.0675221587578501, 0.17061354103013313, 0.27660291583952423, 0.372560110822309, 0.4084144387921135, 0.715987252452093, 0.8272788035865729, 5.114063263473643]), ([1.0, 2.0, 3.0, 4.0, 6.0, 7.0, 42.0, 61.0, 64.0, 88.0, 95.0, 97.0, 100.0, 118.0, 151.0, 192.0, 197.0, 235.0, 297.0, 343.0, 354.0, 422.0, 612.0, 670.0, 714.0, 849.0, 865.0, 903.0, 905.0, 920.0, 1233.0, 1317.0, 1496.0, 1553.0, 1576.0, 1579.0, 1671.0, 1887.0, 1933.0, 1939.0, 1940.0, 1941.0, 1954.0, 1955.0, 1964.0, 1969.0, 1976.0, 1993.0, 2006.0, 2009.0, 2032.0, 2048.0, 2057.0, 2064.0, 2065.0, 2086.0, 2113.0, 2114.0, 2122.0, 2125.0, 2126.0, 2131.0, 2132.0, 2139.0, 2145.0, 2146.0, 2152.0, 2160.0, 2166.0, 2168.0, 2172.0, 2173.0, 2175.0, 2178.0, 2190.0, 2353.0, 2358.0], [0.003252230863100549, 0.003295017343783266, 0.0034348669756393453, 0.0035657142190332236, 0.0036875409910775005, 0.004049369511814394, 0.004121691778723248, 0.00418202148206134, 0.00424933100208605, 0.0042717668221863275, 0.004329088826943367, 0.0043781593765360284, 0.00446123274956218, 0.004558181925736173, 0.004747868877270615, 0.0049027801172433425, 0.005116720146972677, 0.005281467039454788, 0.005554702393181969, 0.005624186253991111, 0.0057627805979478626, 0.00590020553667239, 0.0059989678672765084, 0.006081497936559859, 0.006246753387695574, 0.00631028640907341, 0.006581210773552212, 0.006680001293077583, 0.006890061626884961, 0.00703379455758683, 0.007285917573224619, 0.007656515609275001, 0.007759102138429399, 0.007821356075063781, 0.009373298494436527, 0.009862100419278999, 0.010472495070245379, 0.01073301470319262, 0.011028488369842044, 0.01150835419045055, 0.012068097032224525, 0.012212264556275883, 0.0126619683056544, 0.013012369159269666, 0.013481347819138801, 0.014391788871273231, 0.015202274505867653, 0.015504223386293104, 0.015860145328407196, 0.01612194844312024, 0.017665367761807212, 0.01797121882312777, 0.01884302345451686, 0.01921593495982597, 0.02056080300552594, 0.021274939542186976, 0.021332725900528777, 0.02261096989013394, 0.025047342915158557, 0.025261786304132894, 0.026892443268898142, 0.03226481995773235, 0.03541943046179431, 0.04108712553841392, 0.04264700670304743, 0.04751047661214471, 0.05069124264381732, 0.05148210422358013, 0.06316255030587604, 0.07221147113057423, 0.08260274312517749, 0.09033643017351052, 0.09367440957434801, 0.10486104497517407, 0.20437175177819455, 0.6895470739369288, 2.8846007200200185]), ([1.0, 2.0, 3.0, 6.0, 7.0, 42.0, 61.0, 64.0, 100.0, 118.0, 151.0, 192.0, 235.0, 297.0, 354.0, 422.0, 446.0, 535.0, 670.0, 714.0, 865.0, 905.0, 920.0, 1065.0, 1233.0, 1317.0, 1496.0, 1548.0, 1553.0, 1576.0, 1579.0, 1671.0, 1887.0, 1920.0, 1933.0, 1939.0, 1940.0, 1941.0, 1942.0, 1954.0, 1964.0, 1993.0, 1994.0, 2006.0, 2009.0, 2025.0, 2032.0, 2048.0, 2057.0, 2084.0, 2113.0, 2114.0, 2118.0, 2122.0, 2123.0, 2126.0, 2131.0, 2132.0, 2139.0, 2145.0, 2146.0, 2151.0, 2156.0, 2160.0, 2168.0, 2172.0, 2173.0, 2175.0, 2178.0, 2190.0, 2192.0, 2353.0], [0.0015146724285514802, 0.0015334591136526312, 0.0016555317356569043, 0.0017161039948821845, 0.0019369474747499176, 0.0020129116689085137, 0.0020454313554782656, 0.0020780562970930923, 0.0020902064565964024, 0.0021325022247668125, 0.002217302855714435, 0.002280951766189342, 0.002370944027091325, 0.002475823525895784, 0.0025056050089385194, 0.002558137916829718, 0.0026068898289009594, 0.0027223614166776086, 0.002812714462376995, 0.002889212042343267, 0.002916917149769811, 0.002950651915216405, 0.003004336513805091, 0.0031123709110066978, 0.0032158579639129854, 0.0033824784559943906, 0.003436485057407282, 0.0034615746997053286, 0.0035311039555566874, 0.004131360689332817, 0.0043127591010734215, 0.004562838044353807, 0.004675953483308425, 0.004779153721438803, 0.004809771655749493, 0.004993865869628253, 0.0056896122194224266, 0.005754336104440449, 0.00596153874359741, 0.006093294212628106, 0.006277560387701284, 0.006735546016038003, 0.006915959337071982, 0.00715358951875837, 0.007250588235016245, 0.008508685432732269, 0.008799842085350524, 0.008943716265396967, 0.009139087231789373, 0.009326723913512077, 0.009414763847681076, 0.00994645459977718, 0.010993888050047262, 0.011224177164283757, 0.011336902166690362, 0.011596380278242838, 0.013627459288047448, 0.014778448694124357, 0.017102943571046577, 0.01761979854921787, 0.019439080525314647, 0.02048250624687313, 0.02070614431194479, 0.026567032404091848, 0.03487101150306334, 0.039719182237723645, 0.04308127194877244, 0.04479734641635745, 0.04985528699856301, 0.1027224853343952, 0.34430800791189126, 0.4712079799715139])])\n"
     ]
    }
   ],
   "source": [
    "print(crosval_result[0].content)"
   ]
  },
  {
   "cell_type": "code",
   "execution_count": null,
   "id": "dff62c70-7202-4f8e-a79b-cd6acc77b02f",
   "metadata": {},
   "outputs": [],
   "source": []
  }
 ],
 "metadata": {
  "kernelspec": {
   "display_name": "Python 3 (ipykernel)",
   "language": "python",
   "name": "python3"
  },
  "language_info": {
   "codemirror_mode": {
    "name": "ipython",
    "version": 3
   },
   "file_extension": ".py",
   "mimetype": "text/x-python",
   "name": "python",
   "nbconvert_exporter": "python",
   "pygments_lexer": "ipython3",
   "version": "3.10.9"
  }
 },
 "nbformat": 4,
 "nbformat_minor": 5
}
