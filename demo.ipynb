{
 "cells": [
  {
   "cell_type": "code",
   "execution_count": 1,
   "id": "aa9d0262-892e-4b96-93f6-2c324e6fc897",
   "metadata": {
    "tags": []
   },
   "outputs": [
    {
     "name": "stderr",
     "output_type": "stream",
     "text": [
      "/home/dsmits/.cache/pypoetry/virtualenvs/verticox-mILc84M0-py3.10/lib/python3.10/site-packages/vantage6/common/encryption.py:25: CryptographyDeprecationWarning: Use PrivateKeyTypes instead\n",
      "  from cryptography.hazmat.primitives.asymmetric.types import PRIVATE_KEY_TYPES\n"
     ]
    }
   ],
   "source": [
    "from vantage6.client import Client\n",
    "from verticox.client import VerticoxClient\n",
    "import os"
   ]
  },
  {
   "cell_type": "code",
   "execution_count": 2,
   "id": "48e01bb3-6958-45ff-b9e9-6d875b80b631",
   "metadata": {
    "tags": []
   },
   "outputs": [],
   "source": [
    "user = os.environ[\"V6_USER\"]\n",
    "password = os.environ[\"V6_PASSWORD\"]"
   ]
  },
  {
   "cell_type": "code",
   "execution_count": 3,
   "id": "5b8132d9-ab2c-4efe-9cb1-dfbe7754d314",
   "metadata": {
    "tags": []
   },
   "outputs": [
    {
     "name": "stdout",
     "output_type": "stream",
     "text": [
      " Welcome to\n",
      "                  _                     __  \n",
      "                 | |                   / /  \n",
      "__   ____ _ _ __ | |_ __ _  __ _  ___ / /_  \n",
      "\\ \\ / / _` | '_ \\| __/ _` |/ _` |/ _ \\ '_ \\ \n",
      " \\ V / (_| | | | | || (_| | (_| |  __/ (_) |\n",
      "  \\_/ \\__,_|_| |_|\\__\\__,_|\\__, |\\___|\\___/ \n",
      "                            __/ |           \n",
      "                           |___/            \n",
      "\n",
      " --> Join us on Discord! https://discord.gg/rwRvwyK\n",
      " --> Docs: https://docs.vantage6.ai\n",
      " --> Blog: https://vantage6.ai\n",
      "------------------------------------------------------------\n",
      "Cite us!\n",
      "If you publish your findings obtained using vantage6, \n",
      "please cite the proper sources as mentioned in:\n",
      "https://vantage6.ai/vantage6/references\n",
      "------------------------------------------------------------\n"
     ]
    }
   ],
   "source": [
    "client = Client(\"https://v6server.carrier-mu.src.surf-hosted.nl\", 443)"
   ]
  },
  {
   "cell_type": "code",
   "execution_count": 4,
   "id": "ff2fba49-ea2c-41ac-ae28-6171c9431e11",
   "metadata": {},
   "outputs": [
    {
     "name": "stdout",
     "output_type": "stream",
     "text": [
      "Authenticating user djura...\n",
      "Starting new HTTPS connection (1): v6server.carrier-mu.src.surf-hosted.nl:443\n",
      "https://v6server.carrier-mu.src.surf-hosted.nl:443 \"POST /api/token/user HTTP/1.1\" 200 770\n",
      "Successfully authenticated\n",
      "Making request: GET | https://v6server.carrier-mu.src.surf-hosted.nl:443/api/user/9 | None\n",
      "Starting new HTTPS connection (1): v6server.carrier-mu.src.surf-hosted.nl:443\n",
      "https://v6server.carrier-mu.src.surf-hosted.nl:443 \"GET /api/user/9 HTTP/1.1\" 200 4386\n",
      "Making request: GET | https://v6server.carrier-mu.src.surf-hosted.nl:443/api/organization/2 | None\n",
      "Starting new HTTPS connection (1): v6server.carrier-mu.src.surf-hosted.nl:443\n",
      "https://v6server.carrier-mu.src.surf-hosted.nl:443 \"GET /api/organization/2 HTTP/1.1\" 200 1488\n",
      " --> Succesfully authenticated\n",
      " --> Name: Djura (id=9)\n",
      " --> Organization: djura (id=2)\n"
     ]
    }
   ],
   "source": [
    "client.authenticate(user, password)"
   ]
  },
  {
   "cell_type": "code",
   "execution_count": 5,
   "id": "5b479520-9363-4b88-99c4-0254c6afe2a8",
   "metadata": {
    "tags": []
   },
   "outputs": [
    {
     "name": "stdout",
     "output_type": "stream",
     "text": [
      "Loading private key\n",
      "Making request: GET | https://v6server.carrier-mu.src.surf-hosted.nl:443/api/organization/2 | None\n",
      "Starting new HTTPS connection (1): v6server.carrier-mu.src.surf-hosted.nl:443\n",
      "https://v6server.carrier-mu.src.surf-hosted.nl:443 \"GET /api/organization/2 HTTP/1.1\" 200 1488\n",
      "Public key matches the server key! Good to go!\n"
     ]
    }
   ],
   "source": [
    "client.setup_encryption(\"private_key.pem\")"
   ]
  },
  {
   "cell_type": "code",
   "execution_count": 7,
   "id": "8b2d1238-8b98-469f-af80-e6328b9e1018",
   "metadata": {
    "tags": []
   },
   "outputs": [
    {
     "name": "stdout",
     "output_type": "stream",
     "text": [
      "pagination for scope `organization` not available\n",
      "Making request: GET | https://v6server.carrier-mu.src.surf-hosted.nl:443/api/organization/2/collaboration | None\n",
      "Starting new HTTPS connection (1): v6server.carrier-mu.src.surf-hosted.nl:443\n",
      "https://v6server.carrier-mu.src.surf-hosted.nl:443 \"GET /api/organization/2/collaboration HTTP/1.1\" 200 55881\n",
      "Name: test-infra id: 1\n"
     ]
    }
   ],
   "source": [
    "collaborations = client.collaboration.list()\n",
    "\n",
    "for c in collaborations:\n",
    "    print(f\"Name: {c['name']} id: {c['id']}\")"
   ]
  },
  {
   "cell_type": "code",
   "execution_count": 8,
   "id": "274b89da-eb45-4f93-be26-701ae38ecf83",
   "metadata": {
    "tags": []
   },
   "outputs": [
    {
     "name": "stdout",
     "output_type": "stream",
     "text": [
      "pagination for scope `organization` not available\n",
      "Making request: GET | https://v6server.carrier-mu.src.surf-hosted.nl:443/api/organization/2/collaboration | None\n",
      "Starting new HTTPS connection (1): v6server.carrier-mu.src.surf-hosted.nl:443\n",
      "https://v6server.carrier-mu.src.surf-hosted.nl:443 \"GET /api/organization/2/collaboration HTTP/1.1\" 200 55881\n"
     ]
    }
   ],
   "source": [
    "verticox_client = VerticoxClient(client)"
   ]
  },
  {
   "cell_type": "code",
   "execution_count": 9,
   "id": "8dddd740-d5ef-4a34-b6ed-2530d3d1d330",
   "metadata": {
    "collapsed": true,
    "jupyter": {
     "outputs_hidden": true
    },
    "tags": []
   },
   "outputs": [
    {
     "name": "stdout",
     "output_type": "stream",
     "text": [
      "Making request: GET | https://v6server.carrier-mu.src.surf-hosted.nl:443/api/node | {'page': 1, 'per_page': 20, 'include': ['metadata'], 'name': None, 'organization_id': None, 'collaboration_id': None, 'ip': None, 'last_seen_from': None, 'last_seen_till': None, 'status': 'online'}\n",
      "Starting new HTTPS connection (1): v6server.carrier-mu.src.surf-hosted.nl:443\n",
      "https://v6server.carrier-mu.src.surf-hosted.nl:443 \"GET /api/node?page=1&per_page=20&include=metadata&status=online HTTP/1.1\" 200 1525\n",
      "\n",
      "                    task = self.v6client.task.create(collaboration=1,\n",
      "                                             organizations=[4, 5, 6],\n",
      "                                             name=,\n",
      "                                             image=harbor.carrier-mu.src.surf-hosted.nl/carrier/verticox,\n",
      "                                             description=,\n",
      "                                             input={'method': 'column_names', 'master': False, 'kwargs': {}},\n",
      "                                             data_format=json,\n",
      "                                             database=default\n",
      "                                             )\n",
      "            \n",
      "Making request: GET | https://v6server.carrier-mu.src.surf-hosted.nl:443/api/organization/4 | None\n",
      "Starting new HTTPS connection (1): v6server.carrier-mu.src.surf-hosted.nl:443\n",
      "https://v6server.carrier-mu.src.surf-hosted.nl:443 \"GET /api/organization/4 HTTP/1.1\" 200 27750\n",
      "Making request: GET | https://v6server.carrier-mu.src.surf-hosted.nl:443/api/organization/5 | None\n",
      "Starting new HTTPS connection (1): v6server.carrier-mu.src.surf-hosted.nl:443\n",
      "https://v6server.carrier-mu.src.surf-hosted.nl:443 \"GET /api/organization/5 HTTP/1.1\" 200 30812\n",
      "Making request: GET | https://v6server.carrier-mu.src.surf-hosted.nl:443/api/organization/6 | None\n",
      "Starting new HTTPS connection (1): v6server.carrier-mu.src.surf-hosted.nl:443\n",
      "https://v6server.carrier-mu.src.surf-hosted.nl:443 \"GET /api/organization/6 HTTP/1.1\" 200 29166\n",
      "Making request: POST | https://v6server.carrier-mu.src.surf-hosted.nl:443/api/task | None\n",
      "Starting new HTTPS connection (1): v6server.carrier-mu.src.surf-hosted.nl:443\n",
      "https://v6server.carrier-mu.src.surf-hosted.nl:443 \"POST /api/task HTTP/1.1\" 201 577\n"
     ]
    }
   ],
   "source": [
    "task = verticox_client.get_column_names()"
   ]
  },
  {
   "cell_type": "code",
   "execution_count": 12,
   "id": "bc30634f-38df-41f8-8946-b2202a86b022",
   "metadata": {
    "collapsed": true,
    "jupyter": {
     "outputs_hidden": true
    },
    "tags": []
   },
   "outputs": [
    {
     "name": "stdout",
     "output_type": "stream",
     "text": [
      "--> Attempting to decrypt results!\n",
      "Making request: GET | https://v6server.carrier-mu.src.surf-hosted.nl:443/api/result/1208 | {}\n",
      "Starting new HTTPS connection (1): v6server.carrier-mu.src.surf-hosted.nl:443\n",
      "https://v6server.carrier-mu.src.surf-hosted.nl:443 \"GET /api/result/1208 HTTP/1.1\" 200 2699\n",
      "Decrypting input\n",
      "Encryption/decryption failed.\n",
      "Decrypting result\n",
      "Decrypted shared key: b'P\\x07\\xd0A3wum3\\\\\\xcb\\xbe\\xcfTe.ne\\x93\\xc1B\\xdb$\\xf8\\x8f \\xae\\xba\\xe1\\xd5\\xa8\\x0f'\n",
      "No data format specified. Assuming input data is pickle format\n",
      "Received a result\n",
      "--> Attempting to decrypt results!\n",
      "Making request: GET | https://v6server.carrier-mu.src.surf-hosted.nl:443/api/result/1209 | {}\n",
      "Starting new HTTPS connection (1): v6server.carrier-mu.src.surf-hosted.nl:443\n",
      "https://v6server.carrier-mu.src.surf-hosted.nl:443 \"GET /api/result/1209 HTTP/1.1\" 200 2663\n",
      "Decrypting input\n",
      "Encryption/decryption failed.\n",
      "Decrypting result\n",
      "Decrypted shared key: b')\\xe8:`\\xcc%\\xfa\"\\r\\xf0W\\x15\\xd3\\x04\\xea\\x16Rt\\xdbKo|\\x82,\\xd8\\xb2\\xc5b\\xd1\\x97\\xb4>'\n",
      "No data format specified. Assuming input data is pickle format\n",
      "Received a result\n",
      "--> Attempting to decrypt results!\n",
      "Making request: GET | https://v6server.carrier-mu.src.surf-hosted.nl:443/api/result/1210 | {}\n",
      "Starting new HTTPS connection (1): v6server.carrier-mu.src.surf-hosted.nl:443\n",
      "https://v6server.carrier-mu.src.surf-hosted.nl:443 \"GET /api/result/1210 HTTP/1.1\" 200 2663\n",
      "Decrypting input\n",
      "Encryption/decryption failed.\n",
      "Decrypting result\n",
      "Decrypted shared key: b\"4\\xdd\\x0bm\\xac\\x16\\x94H\\xcc\\x13\\xef\\x8b5#[\\xff\\xa4oJ2\\x88\\xc9\\xce\\x18wq\\x06_9\\xcfN'\"\n",
      "No data format specified. Assuming input data is pickle format\n",
      "Received a result\n"
     ]
    },
    {
     "data": {
      "text/plain": [
       "[Result(organization=4, content=['event_happened', 'event_time'], log=\"/root/.cache/pypoetry/virtualenvs/verticox-9TtSrW0h-py3.10/lib/python3.10/site-packages/vantage6/common/encryption.py:25: CryptographyDeprecationWarning: Use PrivateKeyTypes instead\\n  from cryptography.hazmat.primitives.asymmetric.types import PRIVATE_KEY_TYPES\\ninfo > wrapper for verticox\\ninfo > Reading input file /mnt/data/task-000001208/input\\ninfo > Reading token file '/mnt/data/task-000001208/token'\\ninfo > Using '/mnt/data/default.parquet' as database\\ninfo > Dispatching ...\\ninfo > Module 'verticox' imported!\\ninfo > Running a regular container\\ninfo > Writing output to /mnt/data/task-000001208/output\\n\"),\n",
       " Result(organization=5, content=['age'], log=\"/root/.cache/pypoetry/virtualenvs/verticox-9TtSrW0h-py3.10/lib/python3.10/site-packages/vantage6/common/encryption.py:25: CryptographyDeprecationWarning: Use PrivateKeyTypes instead\\n  from cryptography.hazmat.primitives.asymmetric.types import PRIVATE_KEY_TYPES\\ninfo > wrapper for verticox\\ninfo > Reading input file /mnt/data/task-000001209/input\\ninfo > Reading token file '/mnt/data/task-000001209/token'\\ninfo > Using '/mnt/data/default.parquet' as database\\ninfo > Dispatching ...\\ninfo > Module 'verticox' imported!\\ninfo > Running a regular container\\ninfo > Writing output to /mnt/data/task-000001209/output\\n\"),\n",
       " Result(organization=6, content=['bmi'], log=\"/root/.cache/pypoetry/virtualenvs/verticox-9TtSrW0h-py3.10/lib/python3.10/site-packages/vantage6/common/encryption.py:25: CryptographyDeprecationWarning: Use PrivateKeyTypes instead\\n  from cryptography.hazmat.primitives.asymmetric.types import PRIVATE_KEY_TYPES\\ninfo > wrapper for verticox\\ninfo > Reading input file /mnt/data/task-000001210/input\\ninfo > Reading token file '/mnt/data/task-000001210/token'\\ninfo > Using '/mnt/data/default.parquet' as database\\ninfo > Dispatching ...\\ninfo > Module 'verticox' imported!\\ninfo > Running a regular container\\ninfo > Writing output to /mnt/data/task-000001210/output\\n\")]"
      ]
     },
     "execution_count": 12,
     "metadata": {},
     "output_type": "execute_result"
    }
   ],
   "source": [
    "results = task.get_result()\n",
    "results"
   ]
  },
  {
   "cell_type": "code",
   "execution_count": 13,
   "id": "a3591fab-04f1-4631-9ebd-1bf42981994c",
   "metadata": {
    "tags": []
   },
   "outputs": [
    {
     "name": "stdout",
     "output_type": "stream",
     "text": [
      "Organization: 4, Content: ['event_happened', 'event_time']\n",
      "Organization: 5, Content: ['age']\n",
      "Organization: 6, Content: ['bmi']\n"
     ]
    }
   ],
   "source": [
    "for r in results:\n",
    "    print(f\"Organization: {r.organization}, Content: {r.content}\")"
   ]
  },
  {
   "cell_type": "code",
   "execution_count": 14,
   "id": "17dcf0b0-ffa6-4281-8c5a-b32129199321",
   "metadata": {
    "tags": []
   },
   "outputs": [
    {
     "name": "stdout",
     "output_type": "stream",
     "text": [
      "\n",
      "                    task = self.v6client.task.create(collaboration=1,\n",
      "                                             organizations=[4],\n",
      "                                             name=,\n",
      "                                             image=harbor.carrier-mu.src.surf-hosted.nl/carrier/verticox,\n",
      "                                             description=,\n",
      "                                             input={'method': 'fit', 'master': True, 'kwargs': {'feature_columns': ['age', 'bmi'], 'event_times_column': 'event_time', 'event_happened_column': 'event_happened', 'datanode_ids': [5, 6], 'central_node_id': 4, 'precision': 1e-05}},\n",
      "                                             data_format=json,\n",
      "                                             database=default\n",
      "                                             )\n",
      "            \n",
      "Making request: GET | https://v6server.carrier-mu.src.surf-hosted.nl:443/api/organization/4 | None\n",
      "Starting new HTTPS connection (1): v6server.carrier-mu.src.surf-hosted.nl:443\n",
      "https://v6server.carrier-mu.src.surf-hosted.nl:443 \"GET /api/organization/4 HTTP/1.1\" 200 27821\n",
      "Making request: POST | https://v6server.carrier-mu.src.surf-hosted.nl:443/api/task | None\n",
      "Starting new HTTPS connection (1): v6server.carrier-mu.src.surf-hosted.nl:443\n",
      "https://v6server.carrier-mu.src.surf-hosted.nl:443 \"POST /api/task HTTP/1.1\" 201 435\n"
     ]
    }
   ],
   "source": [
    "task = verticox_client.fit(feature_columns=['age', 'bmi'],\n",
    "                    outcome_time_column='event_time',\n",
    "                    right_censor_column='event_happened',\n",
    "                    feature_nodes=[5,6],\n",
    "                    outcome_node=4\n",
    "                   )"
   ]
  },
  {
   "cell_type": "code",
   "execution_count": null,
   "id": "f08e6fa5-77b4-443e-81ef-5ab592c328ff",
   "metadata": {},
   "outputs": [],
   "source": []
  }
 ],
 "metadata": {
  "kernelspec": {
   "display_name": "Python 3 (ipykernel)",
   "language": "python",
   "name": "python3"
  },
  "language_info": {
   "codemirror_mode": {
    "name": "ipython",
    "version": 3
   },
   "file_extension": ".py",
   "mimetype": "text/x-python",
   "name": "python",
   "nbconvert_exporter": "python",
   "pygments_lexer": "ipython3",
   "version": "3.10.9"
  }
 },
 "nbformat": 4,
 "nbformat_minor": 5
}
