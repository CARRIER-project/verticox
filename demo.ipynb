{
 "cells": [
  {
   "cell_type": "code",
   "execution_count": 1,
   "id": "aa9d0262-892e-4b96-93f6-2c324e6fc897",
   "metadata": {
    "tags": []
   },
   "outputs": [
    {
     "name": "stderr",
     "output_type": "stream",
     "text": [
      "/home/dsmits/.cache/pypoetry/virtualenvs/verticox-mILc84M0-py3.10/lib/python3.10/site-packages/vantage6/common/encryption.py:25: CryptographyDeprecationWarning: Use PrivateKeyTypes instead\n",
      "  from cryptography.hazmat.primitives.asymmetric.types import PRIVATE_KEY_TYPES\n"
     ]
    }
   ],
   "source": [
    "from vantage6.client import Client\n",
    "from verticox.client import VerticoxClient\n",
    "import os"
   ]
  },
  {
   "cell_type": "code",
   "execution_count": 2,
   "id": "48e01bb3-6958-45ff-b9e9-6d875b80b631",
   "metadata": {
    "tags": []
   },
   "outputs": [],
   "source": [
    "user = os.environ[\"V6_USER\"]\n",
    "password = os.environ[\"V6_PASSWORD\"]"
   ]
  },
  {
   "cell_type": "code",
   "execution_count": 3,
   "id": "5b8132d9-ab2c-4efe-9cb1-dfbe7754d314",
   "metadata": {
    "tags": []
   },
   "outputs": [
    {
     "name": "stdout",
     "output_type": "stream",
     "text": [
      " Welcome to\n",
      "                  _                     __  \n",
      "                 | |                   / /  \n",
      "__   ____ _ _ __ | |_ __ _  __ _  ___ / /_  \n",
      "\\ \\ / / _` | '_ \\| __/ _` |/ _` |/ _ \\ '_ \\ \n",
      " \\ V / (_| | | | | || (_| | (_| |  __/ (_) |\n",
      "  \\_/ \\__,_|_| |_|\\__\\__,_|\\__, |\\___|\\___/ \n",
      "                            __/ |           \n",
      "                           |___/            \n",
      "\n",
      " --> Join us on Discord! https://discord.gg/rwRvwyK\n",
      " --> Docs: https://docs.vantage6.ai\n",
      " --> Blog: https://vantage6.ai\n",
      "------------------------------------------------------------\n",
      "Cite us!\n",
      "If you publish your findings obtained using vantage6, \n",
      "please cite the proper sources as mentioned in:\n",
      "https://vantage6.ai/vantage6/references\n",
      "------------------------------------------------------------\n"
     ]
    }
   ],
   "source": [
    "client = Client(\"https://v6server.carrier-mu.src.surf-hosted.nl\", 443)"
   ]
  },
  {
   "cell_type": "code",
   "execution_count": 4,
   "id": "ff2fba49-ea2c-41ac-ae28-6171c9431e11",
   "metadata": {},
   "outputs": [
    {
     "name": "stdout",
     "output_type": "stream",
     "text": [
      "Authenticating user djura...\n",
      "Starting new HTTPS connection (1): v6server.carrier-mu.src.surf-hosted.nl:443\n",
      "https://v6server.carrier-mu.src.surf-hosted.nl:443 \"POST /api/token/user HTTP/1.1\" 200 770\n",
      "Successfully authenticated\n",
      "Making request: GET | https://v6server.carrier-mu.src.surf-hosted.nl:443/api/user/9 | None\n",
      "Starting new HTTPS connection (1): v6server.carrier-mu.src.surf-hosted.nl:443\n",
      "https://v6server.carrier-mu.src.surf-hosted.nl:443 \"GET /api/user/9 HTTP/1.1\" 200 4386\n",
      "Making request: GET | https://v6server.carrier-mu.src.surf-hosted.nl:443/api/organization/2 | None\n",
      "Starting new HTTPS connection (1): v6server.carrier-mu.src.surf-hosted.nl:443\n",
      "https://v6server.carrier-mu.src.surf-hosted.nl:443 \"GET /api/organization/2 HTTP/1.1\" 200 1488\n",
      " --> Succesfully authenticated\n",
      " --> Name: Djura (id=9)\n",
      " --> Organization: djura (id=2)\n"
     ]
    }
   ],
   "source": [
    "client.authenticate(user, password)"
   ]
  },
  {
   "cell_type": "code",
   "execution_count": 5,
   "id": "5b479520-9363-4b88-99c4-0254c6afe2a8",
   "metadata": {
    "tags": []
   },
   "outputs": [
    {
     "name": "stdout",
     "output_type": "stream",
     "text": [
      "Loading private key\n",
      "Making request: GET | https://v6server.carrier-mu.src.surf-hosted.nl:443/api/organization/2 | None\n",
      "Starting new HTTPS connection (1): v6server.carrier-mu.src.surf-hosted.nl:443\n",
      "https://v6server.carrier-mu.src.surf-hosted.nl:443 \"GET /api/organization/2 HTTP/1.1\" 200 1488\n",
      "Public key matches the server key! Good to go!\n"
     ]
    }
   ],
   "source": [
    "client.setup_encryption(\"private_key.pem\")"
   ]
  },
  {
   "cell_type": "code",
   "execution_count": 7,
   "id": "8b2d1238-8b98-469f-af80-e6328b9e1018",
   "metadata": {
    "tags": []
   },
   "outputs": [
    {
     "name": "stdout",
     "output_type": "stream",
     "text": [
      "pagination for scope `organization` not available\n",
      "Making request: GET | https://v6server.carrier-mu.src.surf-hosted.nl:443/api/organization/2/collaboration | None\n",
      "Starting new HTTPS connection (1): v6server.carrier-mu.src.surf-hosted.nl:443\n",
      "https://v6server.carrier-mu.src.surf-hosted.nl:443 \"GET /api/organization/2/collaboration HTTP/1.1\" 200 55881\n",
      "Name: test-infra id: 1\n"
     ]
    }
   ],
   "source": [
    "collaborations = client.collaboration.list()\n",
    "\n",
    "for c in collaborations:\n",
    "    print(f\"Name: {c['name']} id: {c['id']}\")"
   ]
  },
  {
   "cell_type": "code",
   "execution_count": 8,
   "id": "274b89da-eb45-4f93-be26-701ae38ecf83",
   "metadata": {
    "tags": []
   },
   "outputs": [
    {
     "name": "stdout",
     "output_type": "stream",
     "text": [
      "pagination for scope `organization` not available\n",
      "Making request: GET | https://v6server.carrier-mu.src.surf-hosted.nl:443/api/organization/2/collaboration | None\n",
      "Starting new HTTPS connection (1): v6server.carrier-mu.src.surf-hosted.nl:443\n",
      "https://v6server.carrier-mu.src.surf-hosted.nl:443 \"GET /api/organization/2/collaboration HTTP/1.1\" 200 55881\n"
     ]
    }
   ],
   "source": [
    "verticox_client = VerticoxClient(client)"
   ]
  },
  {
   "cell_type": "code",
   "execution_count": 9,
   "id": "8dddd740-d5ef-4a34-b6ed-2530d3d1d330",
   "metadata": {
    "collapsed": true,
    "jupyter": {
     "outputs_hidden": true
    },
    "tags": []
   },
   "outputs": [
    {
     "name": "stdout",
     "output_type": "stream",
     "text": [
      "Making request: GET | https://v6server.carrier-mu.src.surf-hosted.nl:443/api/node | {'page': 1, 'per_page': 20, 'include': ['metadata'], 'name': None, 'organization_id': None, 'collaboration_id': None, 'ip': None, 'last_seen_from': None, 'last_seen_till': None, 'status': 'online'}\n",
      "Starting new HTTPS connection (1): v6server.carrier-mu.src.surf-hosted.nl:443\n",
      "https://v6server.carrier-mu.src.surf-hosted.nl:443 \"GET /api/node?page=1&per_page=20&include=metadata&status=online HTTP/1.1\" 200 1525\n",
      "\n",
      "                    task = self.v6client.task.create(collaboration=1,\n",
      "                                             organizations=[4, 5, 6],\n",
      "                                             name=,\n",
      "                                             image=harbor.carrier-mu.src.surf-hosted.nl/carrier/verticox,\n",
      "                                             description=,\n",
      "                                             input={'method': 'column_names', 'master': False, 'kwargs': {}},\n",
      "                                             data_format=json,\n",
      "                                             database=default\n",
      "                                             )\n",
      "            \n",
      "Making request: GET | https://v6server.carrier-mu.src.surf-hosted.nl:443/api/organization/4 | None\n",
      "Starting new HTTPS connection (1): v6server.carrier-mu.src.surf-hosted.nl:443\n",
      "https://v6server.carrier-mu.src.surf-hosted.nl:443 \"GET /api/organization/4 HTTP/1.1\" 200 27750\n",
      "Making request: GET | https://v6server.carrier-mu.src.surf-hosted.nl:443/api/organization/5 | None\n",
      "Starting new HTTPS connection (1): v6server.carrier-mu.src.surf-hosted.nl:443\n",
      "https://v6server.carrier-mu.src.surf-hosted.nl:443 \"GET /api/organization/5 HTTP/1.1\" 200 30812\n",
      "Making request: GET | https://v6server.carrier-mu.src.surf-hosted.nl:443/api/organization/6 | None\n",
      "Starting new HTTPS connection (1): v6server.carrier-mu.src.surf-hosted.nl:443\n",
      "https://v6server.carrier-mu.src.surf-hosted.nl:443 \"GET /api/organization/6 HTTP/1.1\" 200 29166\n",
      "Making request: POST | https://v6server.carrier-mu.src.surf-hosted.nl:443/api/task | None\n",
      "Starting new HTTPS connection (1): v6server.carrier-mu.src.surf-hosted.nl:443\n",
      "https://v6server.carrier-mu.src.surf-hosted.nl:443 \"POST /api/task HTTP/1.1\" 201 577\n"
     ]
    }
   ],
   "source": [
    "task = verticox_client.get_column_names()"
   ]
  },
  {
   "cell_type": "code",
   "execution_count": 12,
   "id": "bc30634f-38df-41f8-8946-b2202a86b022",
   "metadata": {
    "collapsed": true,
    "jupyter": {
     "outputs_hidden": true
    },
    "tags": []
   },
   "outputs": [
    {
     "name": "stdout",
     "output_type": "stream",
     "text": [
      "--> Attempting to decrypt results!\n",
      "Making request: GET | https://v6server.carrier-mu.src.surf-hosted.nl:443/api/result/1208 | {}\n",
      "Starting new HTTPS connection (1): v6server.carrier-mu.src.surf-hosted.nl:443\n",
      "https://v6server.carrier-mu.src.surf-hosted.nl:443 \"GET /api/result/1208 HTTP/1.1\" 200 2699\n",
      "Decrypting input\n",
      "Encryption/decryption failed.\n",
      "Decrypting result\n",
      "Decrypted shared key: b'P\\x07\\xd0A3wum3\\\\\\xcb\\xbe\\xcfTe.ne\\x93\\xc1B\\xdb$\\xf8\\x8f \\xae\\xba\\xe1\\xd5\\xa8\\x0f'\n",
      "No data format specified. Assuming input data is pickle format\n",
      "Received a result\n",
      "--> Attempting to decrypt results!\n",
      "Making request: GET | https://v6server.carrier-mu.src.surf-hosted.nl:443/api/result/1209 | {}\n",
      "Starting new HTTPS connection (1): v6server.carrier-mu.src.surf-hosted.nl:443\n",
      "https://v6server.carrier-mu.src.surf-hosted.nl:443 \"GET /api/result/1209 HTTP/1.1\" 200 2663\n",
      "Decrypting input\n",
      "Encryption/decryption failed.\n",
      "Decrypting result\n",
      "Decrypted shared key: b')\\xe8:`\\xcc%\\xfa\"\\r\\xf0W\\x15\\xd3\\x04\\xea\\x16Rt\\xdbKo|\\x82,\\xd8\\xb2\\xc5b\\xd1\\x97\\xb4>'\n",
      "No data format specified. Assuming input data is pickle format\n",
      "Received a result\n",
      "--> Attempting to decrypt results!\n",
      "Making request: GET | https://v6server.carrier-mu.src.surf-hosted.nl:443/api/result/1210 | {}\n",
      "Starting new HTTPS connection (1): v6server.carrier-mu.src.surf-hosted.nl:443\n",
      "https://v6server.carrier-mu.src.surf-hosted.nl:443 \"GET /api/result/1210 HTTP/1.1\" 200 2663\n",
      "Decrypting input\n",
      "Encryption/decryption failed.\n",
      "Decrypting result\n",
      "Decrypted shared key: b\"4\\xdd\\x0bm\\xac\\x16\\x94H\\xcc\\x13\\xef\\x8b5#[\\xff\\xa4oJ2\\x88\\xc9\\xce\\x18wq\\x06_9\\xcfN'\"\n",
      "No data format specified. Assuming input data is pickle format\n",
      "Received a result\n"
     ]
    },
    {
     "data": {
      "text/plain": [
       "[Result(organization=4, content=['event_happened', 'event_time'], log=\"/root/.cache/pypoetry/virtualenvs/verticox-9TtSrW0h-py3.10/lib/python3.10/site-packages/vantage6/common/encryption.py:25: CryptographyDeprecationWarning: Use PrivateKeyTypes instead\\n  from cryptography.hazmat.primitives.asymmetric.types import PRIVATE_KEY_TYPES\\ninfo > wrapper for verticox\\ninfo > Reading input file /mnt/data/task-000001208/input\\ninfo > Reading token file '/mnt/data/task-000001208/token'\\ninfo > Using '/mnt/data/default.parquet' as database\\ninfo > Dispatching ...\\ninfo > Module 'verticox' imported!\\ninfo > Running a regular container\\ninfo > Writing output to /mnt/data/task-000001208/output\\n\"),\n",
       " Result(organization=5, content=['age'], log=\"/root/.cache/pypoetry/virtualenvs/verticox-9TtSrW0h-py3.10/lib/python3.10/site-packages/vantage6/common/encryption.py:25: CryptographyDeprecationWarning: Use PrivateKeyTypes instead\\n  from cryptography.hazmat.primitives.asymmetric.types import PRIVATE_KEY_TYPES\\ninfo > wrapper for verticox\\ninfo > Reading input file /mnt/data/task-000001209/input\\ninfo > Reading token file '/mnt/data/task-000001209/token'\\ninfo > Using '/mnt/data/default.parquet' as database\\ninfo > Dispatching ...\\ninfo > Module 'verticox' imported!\\ninfo > Running a regular container\\ninfo > Writing output to /mnt/data/task-000001209/output\\n\"),\n",
       " Result(organization=6, content=['bmi'], log=\"/root/.cache/pypoetry/virtualenvs/verticox-9TtSrW0h-py3.10/lib/python3.10/site-packages/vantage6/common/encryption.py:25: CryptographyDeprecationWarning: Use PrivateKeyTypes instead\\n  from cryptography.hazmat.primitives.asymmetric.types import PRIVATE_KEY_TYPES\\ninfo > wrapper for verticox\\ninfo > Reading input file /mnt/data/task-000001210/input\\ninfo > Reading token file '/mnt/data/task-000001210/token'\\ninfo > Using '/mnt/data/default.parquet' as database\\ninfo > Dispatching ...\\ninfo > Module 'verticox' imported!\\ninfo > Running a regular container\\ninfo > Writing output to /mnt/data/task-000001210/output\\n\")]"
      ]
     },
     "execution_count": 12,
     "metadata": {},
     "output_type": "execute_result"
    }
   ],
   "source": [
    "results = task.get_result()\n",
    "results"
   ]
  },
  {
   "cell_type": "code",
   "execution_count": 13,
   "id": "a3591fab-04f1-4631-9ebd-1bf42981994c",
   "metadata": {
    "tags": []
   },
   "outputs": [
    {
     "name": "stdout",
     "output_type": "stream",
     "text": [
      "Organization: 4, Content: ['event_happened', 'event_time']\n",
      "Organization: 5, Content: ['age']\n",
      "Organization: 6, Content: ['bmi']\n"
     ]
    }
   ],
   "source": [
    "for r in results:\n",
    "    print(f\"Organization: {r.organization}, Content: {r.content}\")"
   ]
  },
  {
   "cell_type": "code",
   "execution_count": 18,
   "id": "17dcf0b0-ffa6-4281-8c5a-b32129199321",
   "metadata": {
    "tags": []
   },
   "outputs": [
    {
     "name": "stdout",
     "output_type": "stream",
     "text": [
      "\n",
      "                    task = self.v6client.task.create(collaboration=1,\n",
      "                                             organizations=[4],\n",
      "                                             name=,\n",
      "                                             image=harbor.carrier-mu.src.surf-hosted.nl/carrier/verticox,\n",
      "                                             description=,\n",
      "                                             input={'method': 'fit', 'master': True, 'kwargs': {'feature_columns': ['age', 'bmi'], 'event_times_column': 'event_time', 'event_happened_column': 'event_happened', 'datanode_ids': [5, 6], 'central_node_id': 4, 'precision': 1e-05}},\n",
      "                                             data_format=json,\n",
      "                                             database=default\n",
      "                                             )\n",
      "            \n",
      "Making request: GET | https://v6server.carrier-mu.src.surf-hosted.nl:443/api/organization/4 | None\n",
      "Starting new HTTPS connection (1): v6server.carrier-mu.src.surf-hosted.nl:443\n",
      "https://v6server.carrier-mu.src.surf-hosted.nl:443 \"GET /api/organization/4 HTTP/1.1\" 200 29667\n",
      "Making request: POST | https://v6server.carrier-mu.src.surf-hosted.nl:443/api/task | None\n",
      "Starting new HTTPS connection (1): v6server.carrier-mu.src.surf-hosted.nl:443\n",
      "https://v6server.carrier-mu.src.surf-hosted.nl:443 \"POST /api/task HTTP/1.1\" 201 435\n"
     ]
    }
   ],
   "source": [
    "task = verticox_client.fit(feature_columns=['age', 'bmi'],\n",
    "                    outcome_time_column='event_time',\n",
    "                    right_censor_column='event_happened',\n",
    "                    feature_nodes=[5,6],\n",
    "                    outcome_node=4\n",
    "                   )"
   ]
  },
  {
   "cell_type": "code",
   "execution_count": 19,
   "id": "f08e6fa5-77b4-443e-81ef-5ab592c328ff",
   "metadata": {
    "collapsed": true,
    "jupyter": {
     "outputs_hidden": true
    },
    "tags": []
   },
   "outputs": [
    {
     "name": "stdout",
     "output_type": "stream",
     "text": [
      "--> Attempting to decrypt results!\n",
      "Making request: GET | https://v6server.carrier-mu.src.surf-hosted.nl:443/api/result/1285 | {}\n",
      "Starting new HTTPS connection (1): v6server.carrier-mu.src.surf-hosted.nl:443\n",
      "https://v6server.carrier-mu.src.surf-hosted.nl:443 \"GET /api/result/1285 HTTP/1.1\" 200 1502\n",
      "Decrypting input\n",
      "Encryption/decryption failed.\n",
      "--> Attempting to decrypt results!\n",
      "Making request: GET | https://v6server.carrier-mu.src.surf-hosted.nl:443/api/result/1285 | {}\n",
      "Starting new HTTPS connection (1): v6server.carrier-mu.src.surf-hosted.nl:443\n",
      "https://v6server.carrier-mu.src.surf-hosted.nl:443 \"GET /api/result/1285 HTTP/1.1\" 200 1589\n",
      "Decrypting input\n",
      "Encryption/decryption failed.\n",
      "--> Attempting to decrypt results!\n",
      "Making request: GET | https://v6server.carrier-mu.src.surf-hosted.nl:443/api/result/1285 | {}\n",
      "Starting new HTTPS connection (1): v6server.carrier-mu.src.surf-hosted.nl:443\n",
      "https://v6server.carrier-mu.src.surf-hosted.nl:443 \"GET /api/result/1285 HTTP/1.1\" 200 1589\n",
      "Decrypting input\n",
      "Encryption/decryption failed.\n",
      "--> Attempting to decrypt results!\n",
      "Making request: GET | https://v6server.carrier-mu.src.surf-hosted.nl:443/api/result/1285 | {}\n",
      "Starting new HTTPS connection (1): v6server.carrier-mu.src.surf-hosted.nl:443\n",
      "https://v6server.carrier-mu.src.surf-hosted.nl:443 \"GET /api/result/1285 HTTP/1.1\" 200 1589\n",
      "Decrypting input\n",
      "Encryption/decryption failed.\n",
      "--> Attempting to decrypt results!\n",
      "Making request: GET | https://v6server.carrier-mu.src.surf-hosted.nl:443/api/result/1285 | {}\n",
      "Starting new HTTPS connection (1): v6server.carrier-mu.src.surf-hosted.nl:443\n",
      "https://v6server.carrier-mu.src.surf-hosted.nl:443 \"GET /api/result/1285 HTTP/1.1\" 200 1589\n",
      "Decrypting input\n",
      "Encryption/decryption failed.\n",
      "--> Attempting to decrypt results!\n",
      "Making request: GET | https://v6server.carrier-mu.src.surf-hosted.nl:443/api/result/1285 | {}\n",
      "Starting new HTTPS connection (1): v6server.carrier-mu.src.surf-hosted.nl:443\n",
      "https://v6server.carrier-mu.src.surf-hosted.nl:443 \"GET /api/result/1285 HTTP/1.1\" 200 1589\n",
      "Decrypting input\n",
      "Encryption/decryption failed.\n",
      "--> Attempting to decrypt results!\n",
      "Making request: GET | https://v6server.carrier-mu.src.surf-hosted.nl:443/api/result/1285 | {}\n",
      "Starting new HTTPS connection (1): v6server.carrier-mu.src.surf-hosted.nl:443\n",
      "https://v6server.carrier-mu.src.surf-hosted.nl:443 \"GET /api/result/1285 HTTP/1.1\" 200 1589\n",
      "Decrypting input\n",
      "Encryption/decryption failed.\n",
      "--> Attempting to decrypt results!\n",
      "Making request: GET | https://v6server.carrier-mu.src.surf-hosted.nl:443/api/result/1285 | {}\n",
      "Starting new HTTPS connection (1): v6server.carrier-mu.src.surf-hosted.nl:443\n",
      "https://v6server.carrier-mu.src.surf-hosted.nl:443 \"GET /api/result/1285 HTTP/1.1\" 200 1589\n",
      "Decrypting input\n",
      "Encryption/decryption failed.\n",
      "--> Attempting to decrypt results!\n",
      "Making request: GET | https://v6server.carrier-mu.src.surf-hosted.nl:443/api/result/1285 | {}\n",
      "Starting new HTTPS connection (1): v6server.carrier-mu.src.surf-hosted.nl:443\n",
      "https://v6server.carrier-mu.src.surf-hosted.nl:443 \"GET /api/result/1285 HTTP/1.1\" 200 1589\n",
      "Decrypting input\n",
      "Encryption/decryption failed.\n",
      "--> Attempting to decrypt results!\n",
      "Making request: GET | https://v6server.carrier-mu.src.surf-hosted.nl:443/api/result/1285 | {}\n",
      "Starting new HTTPS connection (1): v6server.carrier-mu.src.surf-hosted.nl:443\n",
      "https://v6server.carrier-mu.src.surf-hosted.nl:443 \"GET /api/result/1285 HTTP/1.1\" 200 1589\n",
      "Decrypting input\n",
      "Encryption/decryption failed.\n",
      "--> Attempting to decrypt results!\n",
      "Making request: GET | https://v6server.carrier-mu.src.surf-hosted.nl:443/api/result/1285 | {}\n",
      "Starting new HTTPS connection (1): v6server.carrier-mu.src.surf-hosted.nl:443\n",
      "https://v6server.carrier-mu.src.surf-hosted.nl:443 \"GET /api/result/1285 HTTP/1.1\" 200 1589\n",
      "Decrypting input\n",
      "Encryption/decryption failed.\n",
      "--> Attempting to decrypt results!\n",
      "Making request: GET | https://v6server.carrier-mu.src.surf-hosted.nl:443/api/result/1285 | {}\n",
      "Starting new HTTPS connection (1): v6server.carrier-mu.src.surf-hosted.nl:443\n",
      "https://v6server.carrier-mu.src.surf-hosted.nl:443 \"GET /api/result/1285 HTTP/1.1\" 200 1589\n",
      "Decrypting input\n",
      "Encryption/decryption failed.\n",
      "--> Attempting to decrypt results!\n",
      "Making request: GET | https://v6server.carrier-mu.src.surf-hosted.nl:443/api/result/1285 | {}\n",
      "Starting new HTTPS connection (1): v6server.carrier-mu.src.surf-hosted.nl:443\n",
      "https://v6server.carrier-mu.src.surf-hosted.nl:443 \"GET /api/result/1285 HTTP/1.1\" 200 1589\n",
      "Decrypting input\n",
      "Encryption/decryption failed.\n",
      "--> Attempting to decrypt results!\n",
      "Making request: GET | https://v6server.carrier-mu.src.surf-hosted.nl:443/api/result/1285 | {}\n",
      "Starting new HTTPS connection (1): v6server.carrier-mu.src.surf-hosted.nl:443\n",
      "https://v6server.carrier-mu.src.surf-hosted.nl:443 \"GET /api/result/1285 HTTP/1.1\" 200 1589\n",
      "Decrypting input\n",
      "Encryption/decryption failed.\n",
      "--> Attempting to decrypt results!\n",
      "Making request: GET | https://v6server.carrier-mu.src.surf-hosted.nl:443/api/result/1285 | {}\n",
      "Starting new HTTPS connection (1): v6server.carrier-mu.src.surf-hosted.nl:443\n",
      "https://v6server.carrier-mu.src.surf-hosted.nl:443 \"GET /api/result/1285 HTTP/1.1\" 200 1589\n",
      "Decrypting input\n",
      "Encryption/decryption failed.\n",
      "--> Attempting to decrypt results!\n",
      "Making request: GET | https://v6server.carrier-mu.src.surf-hosted.nl:443/api/result/1285 | {}\n",
      "Starting new HTTPS connection (1): v6server.carrier-mu.src.surf-hosted.nl:443\n",
      "https://v6server.carrier-mu.src.surf-hosted.nl:443 \"GET /api/result/1285 HTTP/1.1\" 200 1589\n",
      "Decrypting input\n",
      "Encryption/decryption failed.\n",
      "--> Attempting to decrypt results!\n",
      "Making request: GET | https://v6server.carrier-mu.src.surf-hosted.nl:443/api/result/1285 | {}\n",
      "Starting new HTTPS connection (1): v6server.carrier-mu.src.surf-hosted.nl:443\n",
      "https://v6server.carrier-mu.src.surf-hosted.nl:443 \"GET /api/result/1285 HTTP/1.1\" 200 1589\n",
      "Decrypting input\n",
      "Encryption/decryption failed.\n",
      "--> Attempting to decrypt results!\n",
      "Making request: GET | https://v6server.carrier-mu.src.surf-hosted.nl:443/api/result/1285 | {}\n",
      "Starting new HTTPS connection (1): v6server.carrier-mu.src.surf-hosted.nl:443\n",
      "https://v6server.carrier-mu.src.surf-hosted.nl:443 \"GET /api/result/1285 HTTP/1.1\" 200 1589\n",
      "Decrypting input\n",
      "Encryption/decryption failed.\n",
      "--> Attempting to decrypt results!\n",
      "Making request: GET | https://v6server.carrier-mu.src.surf-hosted.nl:443/api/result/1285 | {}\n",
      "Starting new HTTPS connection (1): v6server.carrier-mu.src.surf-hosted.nl:443\n",
      "https://v6server.carrier-mu.src.surf-hosted.nl:443 \"GET /api/result/1285 HTTP/1.1\" 200 1589\n",
      "Decrypting input\n",
      "Encryption/decryption failed.\n",
      "--> Attempting to decrypt results!\n",
      "Making request: GET | https://v6server.carrier-mu.src.surf-hosted.nl:443/api/result/1285 | {}\n",
      "Starting new HTTPS connection (1): v6server.carrier-mu.src.surf-hosted.nl:443\n",
      "https://v6server.carrier-mu.src.surf-hosted.nl:443 \"GET /api/result/1285 HTTP/1.1\" 200 1589\n",
      "Decrypting input\n",
      "Encryption/decryption failed.\n",
      "--> Attempting to decrypt results!\n",
      "Making request: GET | https://v6server.carrier-mu.src.surf-hosted.nl:443/api/result/1285 | {}\n",
      "Starting new HTTPS connection (1): v6server.carrier-mu.src.surf-hosted.nl:443\n",
      "https://v6server.carrier-mu.src.surf-hosted.nl:443 \"GET /api/result/1285 HTTP/1.1\" 200 1589\n",
      "Decrypting input\n",
      "Encryption/decryption failed.\n",
      "--> Attempting to decrypt results!\n",
      "Making request: GET | https://v6server.carrier-mu.src.surf-hosted.nl:443/api/result/1285 | {}\n",
      "Starting new HTTPS connection (1): v6server.carrier-mu.src.surf-hosted.nl:443\n",
      "https://v6server.carrier-mu.src.surf-hosted.nl:443 \"GET /api/result/1285 HTTP/1.1\" 200 1589\n",
      "Decrypting input\n",
      "Encryption/decryption failed.\n",
      "--> Attempting to decrypt results!\n",
      "Making request: GET | https://v6server.carrier-mu.src.surf-hosted.nl:443/api/result/1285 | {}\n",
      "Starting new HTTPS connection (1): v6server.carrier-mu.src.surf-hosted.nl:443\n",
      "https://v6server.carrier-mu.src.surf-hosted.nl:443 \"GET /api/result/1285 HTTP/1.1\" 200 1589\n",
      "Decrypting input\n",
      "Encryption/decryption failed.\n",
      "--> Attempting to decrypt results!\n",
      "Making request: GET | https://v6server.carrier-mu.src.surf-hosted.nl:443/api/result/1285 | {}\n",
      "Starting new HTTPS connection (1): v6server.carrier-mu.src.surf-hosted.nl:443\n",
      "https://v6server.carrier-mu.src.surf-hosted.nl:443 \"GET /api/result/1285 HTTP/1.1\" 200 1589\n",
      "Decrypting input\n",
      "Encryption/decryption failed.\n",
      "--> Attempting to decrypt results!\n",
      "Making request: GET | https://v6server.carrier-mu.src.surf-hosted.nl:443/api/result/1285 | {}\n",
      "Starting new HTTPS connection (1): v6server.carrier-mu.src.surf-hosted.nl:443\n",
      "https://v6server.carrier-mu.src.surf-hosted.nl:443 \"GET /api/result/1285 HTTP/1.1\" 200 1589\n",
      "Decrypting input\n",
      "Encryption/decryption failed.\n",
      "--> Attempting to decrypt results!\n",
      "Making request: GET | https://v6server.carrier-mu.src.surf-hosted.nl:443/api/result/1285 | {}\n",
      "Starting new HTTPS connection (1): v6server.carrier-mu.src.surf-hosted.nl:443\n",
      "https://v6server.carrier-mu.src.surf-hosted.nl:443 \"GET /api/result/1285 HTTP/1.1\" 200 1589\n",
      "Decrypting input\n",
      "Encryption/decryption failed.\n",
      "--> Attempting to decrypt results!\n",
      "Making request: GET | https://v6server.carrier-mu.src.surf-hosted.nl:443/api/result/1285 | {}\n",
      "Starting new HTTPS connection (1): v6server.carrier-mu.src.surf-hosted.nl:443\n",
      "https://v6server.carrier-mu.src.surf-hosted.nl:443 \"GET /api/result/1285 HTTP/1.1\" 200 1589\n",
      "Decrypting input\n",
      "Encryption/decryption failed.\n",
      "--> Attempting to decrypt results!\n",
      "Making request: GET | https://v6server.carrier-mu.src.surf-hosted.nl:443/api/result/1285 | {}\n",
      "Starting new HTTPS connection (1): v6server.carrier-mu.src.surf-hosted.nl:443\n",
      "https://v6server.carrier-mu.src.surf-hosted.nl:443 \"GET /api/result/1285 HTTP/1.1\" 200 1589\n",
      "Decrypting input\n",
      "Encryption/decryption failed.\n",
      "--> Attempting to decrypt results!\n",
      "Making request: GET | https://v6server.carrier-mu.src.surf-hosted.nl:443/api/result/1285 | {}\n",
      "Starting new HTTPS connection (1): v6server.carrier-mu.src.surf-hosted.nl:443\n",
      "https://v6server.carrier-mu.src.surf-hosted.nl:443 \"GET /api/result/1285 HTTP/1.1\" 200 1589\n",
      "Decrypting input\n",
      "Encryption/decryption failed.\n",
      "--> Attempting to decrypt results!\n",
      "Making request: GET | https://v6server.carrier-mu.src.surf-hosted.nl:443/api/result/1285 | {}\n",
      "Starting new HTTPS connection (1): v6server.carrier-mu.src.surf-hosted.nl:443\n",
      "https://v6server.carrier-mu.src.surf-hosted.nl:443 \"GET /api/result/1285 HTTP/1.1\" 200 1589\n",
      "Decrypting input\n",
      "Encryption/decryption failed.\n",
      "--> Attempting to decrypt results!\n",
      "Making request: GET | https://v6server.carrier-mu.src.surf-hosted.nl:443/api/result/1285 | {}\n",
      "Starting new HTTPS connection (1): v6server.carrier-mu.src.surf-hosted.nl:443\n",
      "https://v6server.carrier-mu.src.surf-hosted.nl:443 \"GET /api/result/1285 HTTP/1.1\" 200 1589\n",
      "Decrypting input\n",
      "Encryption/decryption failed.\n",
      "--> Attempting to decrypt results!\n",
      "Making request: GET | https://v6server.carrier-mu.src.surf-hosted.nl:443/api/result/1285 | {}\n",
      "Starting new HTTPS connection (1): v6server.carrier-mu.src.surf-hosted.nl:443\n",
      "https://v6server.carrier-mu.src.surf-hosted.nl:443 \"GET /api/result/1285 HTTP/1.1\" 200 1589\n",
      "Decrypting input\n",
      "Encryption/decryption failed.\n",
      "--> Attempting to decrypt results!\n",
      "Making request: GET | https://v6server.carrier-mu.src.surf-hosted.nl:443/api/result/1285 | {}\n",
      "Starting new HTTPS connection (1): v6server.carrier-mu.src.surf-hosted.nl:443\n",
      "https://v6server.carrier-mu.src.surf-hosted.nl:443 \"GET /api/result/1285 HTTP/1.1\" 200 1589\n",
      "Decrypting input\n",
      "Encryption/decryption failed.\n",
      "--> Attempting to decrypt results!\n",
      "Making request: GET | https://v6server.carrier-mu.src.surf-hosted.nl:443/api/result/1285 | {}\n",
      "Starting new HTTPS connection (1): v6server.carrier-mu.src.surf-hosted.nl:443\n",
      "https://v6server.carrier-mu.src.surf-hosted.nl:443 \"GET /api/result/1285 HTTP/1.1\" 200 1589\n",
      "Decrypting input\n",
      "Encryption/decryption failed.\n",
      "--> Attempting to decrypt results!\n",
      "Making request: GET | https://v6server.carrier-mu.src.surf-hosted.nl:443/api/result/1285 | {}\n",
      "Starting new HTTPS connection (1): v6server.carrier-mu.src.surf-hosted.nl:443\n",
      "https://v6server.carrier-mu.src.surf-hosted.nl:443 \"GET /api/result/1285 HTTP/1.1\" 200 1589\n",
      "Decrypting input\n",
      "Encryption/decryption failed.\n",
      "--> Attempting to decrypt results!\n",
      "Making request: GET | https://v6server.carrier-mu.src.surf-hosted.nl:443/api/result/1285 | {}\n",
      "Starting new HTTPS connection (1): v6server.carrier-mu.src.surf-hosted.nl:443\n",
      "https://v6server.carrier-mu.src.surf-hosted.nl:443 \"GET /api/result/1285 HTTP/1.1\" 200 1589\n",
      "Decrypting input\n",
      "Encryption/decryption failed.\n",
      "--> Attempting to decrypt results!\n",
      "Making request: GET | https://v6server.carrier-mu.src.surf-hosted.nl:443/api/result/1285 | {}\n",
      "Starting new HTTPS connection (1): v6server.carrier-mu.src.surf-hosted.nl:443\n",
      "https://v6server.carrier-mu.src.surf-hosted.nl:443 \"GET /api/result/1285 HTTP/1.1\" 200 1589\n",
      "Decrypting input\n",
      "Encryption/decryption failed.\n",
      "--> Attempting to decrypt results!\n",
      "Making request: GET | https://v6server.carrier-mu.src.surf-hosted.nl:443/api/result/1285 | {}\n",
      "Starting new HTTPS connection (1): v6server.carrier-mu.src.surf-hosted.nl:443\n",
      "https://v6server.carrier-mu.src.surf-hosted.nl:443 \"GET /api/result/1285 HTTP/1.1\" 200 1589\n",
      "Decrypting input\n",
      "Encryption/decryption failed.\n",
      "--> Attempting to decrypt results!\n",
      "Making request: GET | https://v6server.carrier-mu.src.surf-hosted.nl:443/api/result/1285 | {}\n",
      "Starting new HTTPS connection (1): v6server.carrier-mu.src.surf-hosted.nl:443\n",
      "https://v6server.carrier-mu.src.surf-hosted.nl:443 \"GET /api/result/1285 HTTP/1.1\" 200 1589\n",
      "Decrypting input\n",
      "Encryption/decryption failed.\n",
      "--> Attempting to decrypt results!\n",
      "Making request: GET | https://v6server.carrier-mu.src.surf-hosted.nl:443/api/result/1285 | {}\n",
      "Starting new HTTPS connection (1): v6server.carrier-mu.src.surf-hosted.nl:443\n",
      "https://v6server.carrier-mu.src.surf-hosted.nl:443 \"GET /api/result/1285 HTTP/1.1\" 200 1589\n",
      "Decrypting input\n",
      "Encryption/decryption failed.\n",
      "--> Attempting to decrypt results!\n",
      "Making request: GET | https://v6server.carrier-mu.src.surf-hosted.nl:443/api/result/1285 | {}\n",
      "Starting new HTTPS connection (1): v6server.carrier-mu.src.surf-hosted.nl:443\n",
      "https://v6server.carrier-mu.src.surf-hosted.nl:443 \"GET /api/result/1285 HTTP/1.1\" 200 1589\n",
      "Decrypting input\n",
      "Encryption/decryption failed.\n",
      "--> Attempting to decrypt results!\n",
      "Making request: GET | https://v6server.carrier-mu.src.surf-hosted.nl:443/api/result/1285 | {}\n",
      "Starting new HTTPS connection (1): v6server.carrier-mu.src.surf-hosted.nl:443\n",
      "https://v6server.carrier-mu.src.surf-hosted.nl:443 \"GET /api/result/1285 HTTP/1.1\" 200 1589\n",
      "Decrypting input\n",
      "Encryption/decryption failed.\n",
      "--> Attempting to decrypt results!\n",
      "Making request: GET | https://v6server.carrier-mu.src.surf-hosted.nl:443/api/result/1285 | {}\n",
      "Starting new HTTPS connection (1): v6server.carrier-mu.src.surf-hosted.nl:443\n",
      "https://v6server.carrier-mu.src.surf-hosted.nl:443 \"GET /api/result/1285 HTTP/1.1\" 200 1589\n",
      "Decrypting input\n",
      "Encryption/decryption failed.\n",
      "--> Attempting to decrypt results!\n",
      "Making request: GET | https://v6server.carrier-mu.src.surf-hosted.nl:443/api/result/1285 | {}\n",
      "Starting new HTTPS connection (1): v6server.carrier-mu.src.surf-hosted.nl:443\n",
      "https://v6server.carrier-mu.src.surf-hosted.nl:443 \"GET /api/result/1285 HTTP/1.1\" 200 1589\n",
      "Decrypting input\n",
      "Encryption/decryption failed.\n",
      "--> Attempting to decrypt results!\n",
      "Making request: GET | https://v6server.carrier-mu.src.surf-hosted.nl:443/api/result/1285 | {}\n",
      "Starting new HTTPS connection (1): v6server.carrier-mu.src.surf-hosted.nl:443\n",
      "https://v6server.carrier-mu.src.surf-hosted.nl:443 \"GET /api/result/1285 HTTP/1.1\" 200 1589\n",
      "Decrypting input\n",
      "Encryption/decryption failed.\n",
      "--> Attempting to decrypt results!\n",
      "Making request: GET | https://v6server.carrier-mu.src.surf-hosted.nl:443/api/result/1285 | {}\n",
      "Starting new HTTPS connection (1): v6server.carrier-mu.src.surf-hosted.nl:443\n",
      "https://v6server.carrier-mu.src.surf-hosted.nl:443 \"GET /api/result/1285 HTTP/1.1\" 200 1589\n",
      "Decrypting input\n",
      "Encryption/decryption failed.\n",
      "--> Attempting to decrypt results!\n",
      "Making request: GET | https://v6server.carrier-mu.src.surf-hosted.nl:443/api/result/1285 | {}\n",
      "Starting new HTTPS connection (1): v6server.carrier-mu.src.surf-hosted.nl:443\n",
      "https://v6server.carrier-mu.src.surf-hosted.nl:443 \"GET /api/result/1285 HTTP/1.1\" 200 1589\n",
      "Decrypting input\n",
      "Encryption/decryption failed.\n",
      "--> Attempting to decrypt results!\n",
      "Making request: GET | https://v6server.carrier-mu.src.surf-hosted.nl:443/api/result/1285 | {}\n",
      "Starting new HTTPS connection (1): v6server.carrier-mu.src.surf-hosted.nl:443\n",
      "https://v6server.carrier-mu.src.surf-hosted.nl:443 \"GET /api/result/1285 HTTP/1.1\" 200 2964\n",
      "Decrypting input\n",
      "Encryption/decryption failed.\n",
      "Decrypting result\n",
      "Decrypted shared key: b'\\xf9\\x08mh\\xa5\\x80|\\xb5\\xb4bk\\x8c\\xd2\\xbdt\\x811\\x11\\xf7\\xefF\\x002y\\xe6\\x1b\\xb4\\x80I\\xd7\\xf3\\xc6'\n",
      "Received a result\n"
     ]
    },
    {
     "data": {
      "text/plain": [
       "[Result(organization=4, content=b'', log=\"/root/.cache/pypoetry/virtualenvs/verticox-9TtSrW0h-py3.10/lib/python3.10/site-packages/vantage6/common/encryption.py:25: CryptographyDeprecationWarning: Use PrivateKeyTypes instead\\n  from cryptography.hazmat.primitives.asymmetric.types import PRIVATE_KEY_TYPES\\ninfo > wrapper for verticox\\ninfo > Reading input file /mnt/data/task-000001285/input\\ninfo > Reading token file '/mnt/data/task-000001285/token'\\ninfo > Using '/mnt/data/default.parquet' as database\\ninfo > Dispatching ...\\ninfo > Module 'verticox' imported!\\ninfo > Running a master-container\\ninfo > Working with collaboration_id <1>\\ninfo > Start running verticox on features: ['age', 'bmi']\\ninfo > My database: default\\n[info ] - Starting java containers\\n\")]"
      ]
     },
     "execution_count": 19,
     "metadata": {},
     "output_type": "execute_result"
    }
   ],
   "source": [
    "results = task.get_result()\n",
    "results"
   ]
  },
  {
   "cell_type": "code",
   "execution_count": 20,
   "id": "7a79a960-12d6-42b2-80bf-ee4bd981b846",
   "metadata": {
    "tags": []
   },
   "outputs": [
    {
     "name": "stdout",
     "output_type": "stream",
     "text": [
      "Result(organization=4, content=b'', log=\"/root/.cache/pypoetry/virtualenvs/verticox-9TtSrW0h-py3.10/lib/python3.10/site-packages/vantage6/common/encryption.py:25: CryptographyDeprecationWarning: Use PrivateKeyTypes instead\\n  from cryptography.hazmat.primitives.asymmetric.types import PRIVATE_KEY_TYPES\\ninfo > wrapper for verticox\\ninfo > Reading input file /mnt/data/task-000001285/input\\ninfo > Reading token file '/mnt/data/task-000001285/token'\\ninfo > Using '/mnt/data/default.parquet' as database\\ninfo > Dispatching ...\\ninfo > Module 'verticox' imported!\\ninfo > Running a master-container\\ninfo > Working with collaboration_id <1>\\ninfo > Start running verticox on features: ['age', 'bmi']\\ninfo > My database: default\\n[info ] - Starting java containers\\n\")\n"
     ]
    }
   ],
   "source": [
    "for r in results:\n",
    "    print(r)"
   ]
  },
  {
   "cell_type": "code",
   "execution_count": 32,
   "id": "862e8f74-750b-42db-b28e-565bd3fd523f",
   "metadata": {
    "tags": []
   },
   "outputs": [],
   "source": [
    "def get_logs():\n",
    "    tasks = client.task.list()\n",
    "    tasks = tasks['data']\n",
    "    \n",
    "    for t in tasks:\n",
    "        results = t['results']\n",
    "        for r_stub in results:\n",
    "            result = client.result.get(r_stub['id'])\n",
    "            \n",
    "            yield result['log']\n",
    "            \n",
    "\n",
    "logs = get_logs()"
   ]
  },
  {
   "cell_type": "code",
   "execution_count": 37,
   "id": "10dfe023-a42e-45f0-8405-2b2493b70641",
   "metadata": {
    "tags": []
   },
   "outputs": [
    {
     "name": "stdout",
     "output_type": "stream",
     "text": [
      "--> Attempting to decrypt results!\n",
      "Making request: GET | https://v6server.carrier-mu.src.surf-hosted.nl:443/api/result/1304 | {}\n",
      "Starting new HTTPS connection (1): v6server.carrier-mu.src.surf-hosted.nl:443\n",
      "https://v6server.carrier-mu.src.surf-hosted.nl:443 \"GET /api/result/1304 HTTP/1.1\" 200 18848\n",
      "Decrypting input\n",
      "Encryption/decryption failed.\n",
      "Decrypting result\n",
      "Could not decrypt/decode input or result.\n",
      "Encryption/decryption failed.\n",
      "--> Failed to deserialize\n",
      "'str' object has no attribute 'decode'\n",
      "/root/.cache/pypoetry/virtualenvs/verticox-9TtSrW0h-py3.10/lib/python3.10/site-packages/vantage6/common/encryption.py:25: CryptographyDeprecationWarning: Use PrivateKeyTypes instead\n",
      "  from cryptography.hazmat.primitives.asymmetric.types import PRIVATE_KEY_TYPES\n",
      "info > wrapper for verticox\n",
      "info > Reading input file /mnt/data/task-000001304/input\n",
      "info > No data format specified. Assuming input data is pickle format\n",
      "info > Reading token file '/mnt/data/task-000001304/token'\n",
      "info > Using '/mnt/data/parquet.parquet' as database\n",
      "info > Dispatching ...\n",
      "info > Module 'verticox' imported!\n",
      "info > Running a regular container\n",
      "info > Starting java server\n",
      "info > Running command: ['java', '-jar', '/app/verticox.jar', '--server.port=9999']\n",
      "SLF4J: Class path contains multiple SLF4J providers.\n",
      "SLF4J: Found provider [ch.qos.logback.classic.spi.LogbackServiceProvider@5d22bbb7]\n",
      "SLF4J: Found provider [org.slf4j.reload4j.Reload4jServiceProvider@41a4555e]\n",
      "SLF4J: See https://www.slf4j.org/codes.html#multiple_bindings for an explanation.\n",
      "SLF4J: Actual provider is of type [ch.qos.logback.classic.spi.LogbackServiceProvider@5d22bbb7]\n",
      "\n",
      "  .   ____          _            __ _ _\n",
      " /\\\\ / ___'_ __ _ _(_)_ __  __ _ \\ \\ \\ \\\n",
      "( ( )\\___ | '_ | '_| | '_ \\/ _` | \\ \\ \\ \\\n",
      " \\\\/  ___)| |_)| | | | | || (_| |  ) ) ) )\n",
      "  '  |____| .__|_| |_|_| |_\\__, | / / / /\n",
      " =========|_|==============|___/=/_/_/_/\n",
      " :: Spring Boot ::                (v3.0.2)\n",
      "\n",
      "2023-11-13T16:03:25.214Z  INFO 14 --- [           main] c.f.verticox.WebserviceDtApplication     : Starting WebserviceDtApplication v1.0-SNAPSHOT using Java 17.0.7 with PID 14 (/app/verticox.jar started by root in /app)\n",
      "2023-11-13T16:03:25.223Z  INFO 14 --- [           main] c.f.verticox.WebserviceDtApplication     : No active profile set, falling back to 1 default profile: \"default\"\n",
      "2023-11-13T16:03:27.245Z  INFO 14 --- [           main] o.s.b.w.embedded.tomcat.TomcatWebServer  : Tomcat initialized with port(s): 9999 (http)\n",
      "2023-11-13T16:03:27.272Z  INFO 14 --- [           main] o.apache.catalina.core.StandardService   : Starting service [Tomcat]\n",
      "2023-11-13T16:03:27.277Z  INFO 14 --- [           main] o.apache.catalina.core.StandardEngine    : Starting Servlet engine: [Apache Tomcat/10.1.5]\n",
      "2023-11-13T16:03:27.501Z  INFO 14 --- [           main] o.a.c.c.C.[Tomcat].[localhost].[/]       : Initializing Spring embedded WebApplicationContext\n",
      "2023-11-13T16:03:27.506Z  INFO 14 --- [           main] w.s.c.ServletWebServerApplicationContext : Root WebApplicationContext: initialization completed in 2169 ms\n",
      "2023-11-13T16:03:29.071Z  INFO 14 --- [           main] o.s.b.w.embedded.tomcat.TomcatWebServer  : Tomcat started on port(s): 9999 (http) with context path ''\n",
      "2023-11-13T16:03:29.096Z  INFO 14 --- [           main] c.f.verticox.WebserviceDtApplication     : Started WebserviceDtApplication in 4.784 seconds (process running for 5.938)\n",
      "2023-11-13T16:03:36.959Z  INFO 14 --- [nio-9999-exec-1] o.a.c.c.C.[Tomcat].[localhost].[/]       : Initializing Spring DispatcherServlet 'dispatcherServlet'\n",
      "2023-11-13T16:03:36.959Z  INFO 14 --- [nio-9999-exec-1] o.s.web.servlet.DispatcherServlet        : Initializing Servlet 'dispatcherServlet'\n",
      "2023-11-13T16:03:36.961Z  INFO 14 --- [nio-9999-exec-1] o.s.web.servlet.DispatcherServlet        : Completed initialization in 1 ms\n",
      "com.florian.nscalarproduct.error.InvalidDataFormatException: Invalid dataformat\n",
      "\tat com.florian.nscalarproduct.data.Parser.parseData(Parser.java:39)\n",
      "\tat com.florian.verticox.webservice.VerticoxServer.readData(VerticoxServer.java:284)\n",
      "\tat com.florian.verticox.webservice.VerticoxServer.initData(VerticoxServer.java:110)\n",
      "\tat java.base/jdk.internal.reflect.NativeMethodAccessorImpl.invoke0(Native Method)\n",
      "\tat java.base/jdk.internal.reflect.NativeMethodAccessorImpl.invoke(NativeMethodAccessorImpl.java:77)\n",
      "\tat java.base/jdk.internal.reflect.DelegatingMethodAccessorImpl.invoke(DelegatingMethodAccessorImpl.java:43)\n",
      "\tat java.base/java.lang.reflect.Method.invoke(Method.java:568)\n",
      "\tat org.springframework.web.method.support.InvocableHandlerMethod.doInvoke(InvocableHandlerMethod.java:207)\n",
      "\tat org.springframework.web.method.support.InvocableHandlerMethod.invokeForRequest(InvocableHandlerMethod.java:152)\n",
      "\tat org.springframework.web.servlet.mvc.method.annotation.ServletInvocableHandlerMethod.invokeAndHandle(ServletInvocableHandlerMethod.java:117)\n",
      "\tat org.springframework.web.servlet.mvc.method.annotation.RequestMappingHandlerAdapter.invokeHandlerMethod(RequestMappingHandlerAdapter.java:884)\n",
      "\tat org.springframework.web.servlet.mvc.method.annotation.RequestMappingHandlerAdapter.handleInternal(RequestMappingHandlerAdapter.java:797)\n",
      "\tat org.springframework.web.servlet.mvc.method.AbstractHandlerMethodAdapter.handle(AbstractHandlerMethodAdapter.java:87)\n",
      "\tat org.springframework.web.servlet.DispatcherServlet.doDispatch(DispatcherServlet.java:1080)\n",
      "\tat org.springframework.web.servlet.DispatcherServlet.doService(DispatcherServlet.java:973)\n",
      "\tat org.springframework.web.servlet.FrameworkServlet.processRequest(FrameworkServlet.java:1011)\n",
      "\tat org.springframework.web.servlet.FrameworkServlet.doPost(FrameworkServlet.java:914)\n",
      "\tat jakarta.servlet.http.HttpServlet.service(HttpServlet.java:520)\n",
      "\tat org.springframework.web.servlet.FrameworkServlet.service(FrameworkServlet.java:885)\n",
      "\tat jakarta.servlet.http.HttpServlet.service(HttpServlet.java:587)\n",
      "\tat org.apache.catalina.core.ApplicationFilterChain.internalDoFilter(ApplicationFilterChain.java:223)\n",
      "\tat org.apache.catalina.core.ApplicationFilterChain.doFilter(ApplicationFilterChain.java:158)\n",
      "\tat org.apache.tomcat.websocket.server.WsFilter.doFilter(WsFilter.java:53)\n",
      "\tat org.apache.catalina.core.ApplicationFilterChain.internalDoFilter(ApplicationFilterChain.java:185)\n",
      "\tat org.apache.catalina.core.ApplicationFilterChain.doFilter(ApplicationFilterChain.java:158)\n",
      "\tat org.springframework.web.filter.RequestContextFilter.doFilterInternal(RequestContextFilter.java:100)\n",
      "\tat org.springframework.web.filter.OncePerRequestFilter.doFilter(OncePerRequestFilter.java:116)\n",
      "\tat org.apache.catalina.core.ApplicationFilterChain.internalDoFilter(ApplicationFilterChain.java:185)\n",
      "\tat org.apache.catalina.core.ApplicationFilterChain.doFilter(ApplicationFilterChain.java:158)\n",
      "\tat org.springframework.web.filter.FormContentFilter.doFilterInternal(FormContentFilter.java:93)\n",
      "\tat org.springframework.web.filter.OncePerRequestFilter.doFilter(OncePerRequestFilter.java:116)\n",
      "\tat org.apache.catalina.core.ApplicationFilterChain.internalDoFilter(ApplicationFilterChain.java:185)\n",
      "\tat org.apache.catalina.core.ApplicationFilterChain.doFilter(ApplicationFilterChain.java:158)\n",
      "\tat org.springframework.web.filter.CharacterEncodingFilter.doFilterInternal(CharacterEncodingFilter.java:201)\n",
      "\tat org.springframework.web.filter.OncePerRequestFilter.doFilter(OncePerRequestFilter.java:116)\n",
      "\tat org.apache.catalina.core.ApplicationFilterChain.internalDoFilter(ApplicationFilterChain.java:185)\n",
      "\tat org.apache.catalina.core.ApplicationFilterChain.doFilter(ApplicationFilterChain.java:158)\n",
      "\tat org.apache.catalina.core.StandardWrapperValve.invoke(StandardWrapperValve.java:177)\n",
      "\tat org.apache.catalina.core.StandardContextValve.invoke(StandardContextValve.java:97)\n",
      "\tat org.apache.catalina.authenticator.AuthenticatorBase.invoke(AuthenticatorBase.java:542)\n",
      "\tat org.apache.catalina.core.StandardHostValve.invoke(StandardHostValve.java:119)\n",
      "\tat org.apache.catalina.valves.ErrorReportValve.invoke(ErrorReportValve.java:92)\n",
      "\tat org.apache.catalina.core.StandardEngineValve.invoke(StandardEngineValve.java:78)\n",
      "\tat org.apache.catalina.connector.CoyoteAdapter.service(CoyoteAdapter.java:357)\n",
      "\tat org.apache.coyote.http11.Http11Processor.service(Http11Processor.java:400)\n",
      "\tat org.apache.coyote.AbstractProcessorLight.process(AbstractProcessorLight.java:65)\n",
      "\tat org.apache.coyote.AbstractProtocol$ConnectionHandler.process(AbstractProtocol.java:859)\n",
      "\tat org.apache.tomcat.util.net.NioEndpoint$SocketProcessor.doRun(NioEndpoint.java:1734)\n",
      "\tat org.apache.tomcat.util.net.SocketProcessorBase.run(SocketProcessorBase.java:52)\n",
      "\tat org.apache.tomcat.util.threads.ThreadPoolExecutor.runWorker(ThreadPoolExecutor.java:1191)\n",
      "\tat org.apache.tomcat.util.threads.ThreadPoolExecutor$Worker.run(ThreadPoolExecutor.java:659)\n",
      "\tat org.apache.tomcat.util.threads.TaskThread$WrappingRunnable.run(TaskThread.java:61)\n",
      "\tat java.base/java.lang.Thread.run(Thread.java:833)\n",
      "2023-11-13T16:04:01.810Z ERROR 14 --- [nio-9999-exec-9] o.a.c.c.C.[.[.[/].[dispatcherServlet]    : Servlet.service() for servlet [dispatcherServlet] in context with path [] threw exception [Request processing failed: java.lang.NullPointerException: Cannot invoke \"com.florian.nscalarproduct.data.Data.getNumberOfIndividuals()\" because \"this.data\" is null] with root cause\n",
      "\n",
      "java.lang.NullPointerException: Cannot invoke \"com.florian.nscalarproduct.data.Data.getNumberOfIndividuals()\" because \"this.data\" is null\n",
      "\tat com.florian.verticox.webservice.VerticoxServer.readData(VerticoxServer.java:290) ~[classes!/:1.0-SNAPSHOT]\n",
      "\tat com.florian.verticox.webservice.VerticoxServer.initData(VerticoxServer.java:110) ~[classes!/:1.0-SNAPSHOT]\n",
      "\tat java.base/jdk.internal.reflect.NativeMethodAccessorImpl.invoke0(Native Method) ~[na:na]\n",
      "\tat java.base/jdk.internal.reflect.NativeMethodAccessorImpl.invoke(NativeMethodAccessorImpl.java:77) ~[na:na]\n",
      "\tat java.base/jdk.internal.reflect.DelegatingMethodAccessorImpl.invoke(DelegatingMethodAccessorImpl.java:43) ~[na:na]\n",
      "\tat java.base/java.lang.reflect.Method.invoke(Method.java:568) ~[na:na]\n",
      "\tat org.springframework.web.method.support.InvocableHandlerMethod.doInvoke(InvocableHandlerMethod.java:207) ~[spring-web-6.0.4.jar!/:6.0.4]\n",
      "\tat org.springframework.web.method.support.InvocableHandlerMethod.invokeForRequest(InvocableHandlerMethod.java:152) ~[spring-web-6.0.4.jar!/:6.0.4]\n",
      "\tat org.springframework.web.servlet.mvc.method.annotation.ServletInvocableHandlerMethod.invokeAndHandle(ServletInvocableHandlerMethod.java:117) ~[spring-webmvc-6.0.4.jar!/:6.0.4]\n",
      "\tat org.springframework.web.servlet.mvc.method.annotation.RequestMappingHandlerAdapter.invokeHandlerMethod(RequestMappingHandlerAdapter.java:884) ~[spring-webmvc-6.0.4.jar!/:6.0.4]\n",
      "\tat org.springframework.web.servlet.mvc.method.annotation.RequestMappingHandlerAdapter.handleInternal(RequestMappingHandlerAdapter.java:797) ~[spring-webmvc-6.0.4.jar!/:6.0.4]\n",
      "\tat org.springframework.web.servlet.mvc.method.AbstractHandlerMethodAdapter.handle(AbstractHandlerMethodAdapter.java:87) ~[spring-webmvc-6.0.4.jar!/:6.0.4]\n",
      "\tat org.springframework.web.servlet.DispatcherServlet.doDispatch(DispatcherServlet.java:1080) ~[spring-webmvc-6.0.4.jar!/:6.0.4]\n",
      "\tat org.springframework.web.servlet.DispatcherServlet.doService(DispatcherServlet.java:973) ~[spring-webmvc-6.0.4.jar!/:6.0.4]\n",
      "\tat org.springframework.web.servlet.FrameworkServlet.processRequest(FrameworkServlet.java:1011) ~[spring-webmvc-6.0.4.jar!/:6.0.4]\n",
      "\tat org.springframework.web.servlet.FrameworkServlet.doPost(FrameworkServlet.java:914) ~[spring-webmvc-6.0.4.jar!/:6.0.4]\n",
      "\tat jakarta.servlet.http.HttpServlet.service(HttpServlet.java:520) ~[jetty-jakarta-servlet-api-5.0.2.jar!/:na]\n",
      "\tat org.springframework.web.servlet.FrameworkServlet.service(FrameworkServlet.java:885) ~[spring-webmvc-6.0.4.jar!/:6.0.4]\n",
      "\tat jakarta.servlet.http.HttpServlet.service(HttpServlet.java:587) ~[jetty-jakarta-servlet-api-5.0.2.jar!/:na]\n",
      "\tat org.apache.catalina.core.ApplicationFilterChain.internalDoFilter(ApplicationFilterChain.java:223) ~[tomcat-embed-core-10.1.5.jar!/:na]\n",
      "\tat org.apache.catalina.core.ApplicationFilterChain.doFilter(ApplicationFilterChain.java:158) ~[tomcat-embed-core-10.1.5.jar!/:na]\n",
      "\tat org.apache.tomcat.websocket.server.WsFilter.doFilter(WsFilter.java:53) ~[tomcat-embed-websocket-10.1.5.jar!/:na]\n",
      "\tat org.apache.catalina.core.ApplicationFilterChain.internalDoFilter(ApplicationFilterChain.java:185) ~[tomcat-embed-core-10.1.5.jar!/:na]\n",
      "\tat org.apache.catalina.core.ApplicationFilterChain.doFilter(ApplicationFilterChain.java:158) ~[tomcat-embed-core-10.1.5.jar!/:na]\n",
      "\tat org.springframework.web.filter.RequestContextFilter.doFilterInternal(RequestContextFilter.java:100) ~[spring-web-6.0.4.jar!/:6.0.4]\n",
      "\tat org.springframework.web.filter.OncePerRequestFilter.doFilter(OncePerRequestFilter.java:116) ~[spring-web-6.0.4.jar!/:6.0.4]\n",
      "\tat org.apache.catalina.core.ApplicationFilterChain.internalDoFilter(ApplicationFilterChain.java:185) ~[tomcat-embed-core-10.1.5.jar!/:na]\n",
      "\tat org.apache.catalina.core.ApplicationFilterChain.doFilter(ApplicationFilterChain.java:158) ~[tomcat-embed-core-10.1.5.jar!/:na]\n",
      "\tat org.springframework.web.filter.FormContentFilter.doFilterInternal(FormContentFilter.java:93) ~[spring-web-6.0.4.jar!/:6.0.4]\n",
      "\tat org.springframework.web.filter.OncePerRequestFilter.doFilter(OncePerRequestFilter.java:116) ~[spring-web-6.0.4.jar!/:6.0.4]\n",
      "\tat org.apache.catalina.core.ApplicationFilterChain.internalDoFilter(ApplicationFilterChain.java:185) ~[tomcat-embed-core-10.1.5.jar!/:na]\n",
      "\tat org.apache.catalina.core.ApplicationFilterChain.doFilter(ApplicationFilterChain.java:158) ~[tomcat-embed-core-10.1.5.jar!/:na]\n",
      "\tat org.springframework.web.filter.CharacterEncodingFilter.doFilterInternal(CharacterEncodingFilter.java:201) ~[spring-web-6.0.4.jar!/:6.0.4]\n",
      "\tat org.springframework.web.filter.OncePerRequestFilter.doFilter(OncePerRequestFilter.java:116) ~[spring-web-6.0.4.jar!/:6.0.4]\n",
      "\tat org.apache.catalina.core.ApplicationFilterChain.internalDoFilter(ApplicationFilterChain.java:185) ~[tomcat-embed-core-10.1.5.jar!/:na]\n",
      "\tat org.apache.catalina.core.ApplicationFilterChain.doFilter(ApplicationFilterChain.java:158) ~[tomcat-embed-core-10.1.5.jar!/:na]\n",
      "\tat org.apache.catalina.core.StandardWrapperValve.invoke(StandardWrapperValve.java:177) ~[tomcat-embed-core-10.1.5.jar!/:na]\n",
      "\tat org.apache.catalina.core.StandardContextValve.invoke(StandardContextValve.java:97) ~[tomcat-embed-core-10.1.5.jar!/:na]\n",
      "\tat org.apache.catalina.authenticator.AuthenticatorBase.invoke(AuthenticatorBase.java:542) ~[tomcat-embed-core-10.1.5.jar!/:na]\n",
      "\tat org.apache.catalina.core.StandardHostValve.invoke(StandardHostValve.java:119) ~[tomcat-embed-core-10.1.5.jar!/:na]\n",
      "\tat org.apache.catalina.valves.ErrorReportValve.invoke(ErrorReportValve.java:92) ~[tomcat-embed-core-10.1.5.jar!/:na]\n",
      "\tat org.apache.catalina.core.StandardEngineValve.invoke(StandardEngineValve.java:78) ~[tomcat-embed-core-10.1.5.jar!/:na]\n",
      "\tat org.apache.catalina.connector.CoyoteAdapter.service(CoyoteAdapter.java:357) ~[tomcat-embed-core-10.1.5.jar!/:na]\n",
      "\tat org.apache.coyote.http11.Http11Processor.service(Http11Processor.java:400) ~[tomcat-embed-core-10.1.5.jar!/:na]\n",
      "\tat org.apache.coyote.AbstractProcessorLight.process(AbstractProcessorLight.java:65) ~[tomcat-embed-core-10.1.5.jar!/:na]\n",
      "\tat org.apache.coyote.AbstractProtocol$ConnectionHandler.process(AbstractProtocol.java:859) ~[tomcat-embed-core-10.1.5.jar!/:na]\n",
      "\tat org.apache.tomcat.util.net.NioEndpoint$SocketProcessor.doRun(NioEndpoint.java:1734) ~[tomcat-embed-core-10.1.5.jar!/:na]\n",
      "\tat org.apache.tomcat.util.net.SocketProcessorBase.run(SocketProcessorBase.java:52) ~[tomcat-embed-core-10.1.5.jar!/:na]\n",
      "\tat org.apache.tomcat.util.threads.ThreadPoolExecutor.runWorker(ThreadPoolExecutor.java:1191) ~[tomcat-embed-core-10.1.5.jar!/:na]\n",
      "\tat org.apache.tomcat.util.threads.ThreadPoolExecutor$Worker.run(ThreadPoolExecutor.java:659) ~[tomcat-embed-core-10.1.5.jar!/:na]\n",
      "\tat org.apache.tomcat.util.threads.TaskThread$WrappingRunnable.run(TaskThread.java:61) ~[tomcat-embed-core-10.1.5.jar!/:na]\n",
      "\tat java.base/java.lang.Thread.run(Thread.java:833) ~[na:na]\n",
      "\n",
      "2023-11-13T16:04:01.962Z  INFO 14 --- [io-9999-exec-10] o.apache.catalina.core.StandardService   : Stopping service [Tomcat]\n",
      "2023-11-13T16:04:01.963Z  INFO 14 --- [io-9999-exec-10] o.apache.catalina.core.StandardWrapper   : Waiting for [1] instance(s) to be deallocated for Servlet [dispatcherServlet]\n",
      "2023-11-13T16:04:02.964Z  INFO 14 --- [io-9999-exec-10] o.apache.catalina.core.StandardWrapper   : Waiting for [1] instance(s) to be deallocated for Servlet [dispatcherServlet]\n",
      "2023-11-13T16:04:03.966Z  INFO 14 --- [io-9999-exec-10] o.apache.catalina.core.StandardWrapper   : Waiting for [1] instance(s) to be deallocated for Servlet [dispatcherServlet]\n",
      "2023-11-13T16:04:04.067Z  INFO 14 --- [io-9999-exec-10] o.a.c.c.C.[Tomcat].[localhost].[/]       : Destroying Spring FrameworkServlet 'dispatcherServlet'\n",
      "2023-11-13T16:04:04.080Z  WARN 14 --- [io-9999-exec-10] org.apache.tomcat.util.net.NioEndpoint   : The executor associated with thread pool [http-nio-9999] has not fully shutdown. Some application threads may still be running.\n",
      "info > Writing output to /mnt/data/task-000001304/output\n",
      "\n"
     ]
    }
   ],
   "source": [
    "log = next(logs)\n",
    "print(log)"
   ]
  },
  {
   "cell_type": "code",
   "execution_count": null,
   "id": "3d94a0a5-b7f1-48cb-a38b-60bac8a4c123",
   "metadata": {},
   "outputs": [],
   "source": []
  }
 ],
 "metadata": {
  "kernelspec": {
   "display_name": "Python 3 (ipykernel)",
   "language": "python",
   "name": "python3"
  },
  "language_info": {
   "codemirror_mode": {
    "name": "ipython",
    "version": 3
   },
   "file_extension": ".py",
   "mimetype": "text/x-python",
   "name": "python",
   "nbconvert_exporter": "python",
   "pygments_lexer": "ipython3",
   "version": "3.10.9"
  }
 },
 "nbformat": 4,
 "nbformat_minor": 5
}
