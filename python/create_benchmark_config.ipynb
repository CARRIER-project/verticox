{
 "cells": [
  {
   "cell_type": "markdown",
   "id": "427138d6-a52b-4444-9bf4-fb73fbee75fc",
   "metadata": {},
   "source": [
    "# Benchmark configuration\n",
    "This notebook creates the list of parameters with which verticox+ is benchmarked.\n",
    "\n",
    "1. Number of parties vs number of iterations\n",
    "2. Number of records\n",
    "3. Number of features\n",
    "\n",
    "Number 1 and 2 are benchmarked to compare the results to the original verticox paper. Number 3 is included because the both the original algorithm and the n-party protocol affect the scalability of the algorithm with respect to the number of features."
   ]
  },
  {
   "cell_type": "markdown",
   "id": "cfb02215-aed3-4337-a781-a716e2a3f98b",
   "metadata": {
    "tags": []
   },
   "source": [
    "## Parameters\n",
    "\n",
    "We are going to vary the following parameters:\n",
    "- number of parties\n",
    "- number of iterations\n",
    "- number of records\n",
    "- number of features"
   ]
  },
  {
   "cell_type": "code",
   "execution_count": 1,
   "id": "aa992c9f-5835-4575-bb55-8e91dfa6cc06",
   "metadata": {
    "tags": []
   },
   "outputs": [],
   "source": [
    "from collections import namedtuple\n",
    "\n",
    "#defaults\n",
    "DEFAULT_N_PARTIES = 3\n",
    "DEFAULT_N_ITERATIONS = 1000\n",
    "DEFAULT_N_RECORDS = 100\n",
    "DEFAULT_N_FEATURES = 6\n",
    "\n",
    "\n",
    "\n",
    "Parameters = namedtuple(\"parameters\", [\"parties\", \"iterations\", \"records\", \"features\", \"category\"],\n",
    "                       defaults=[DEFAULT_N_PARTIES, DEFAULT_N_ITERATIONS, DEFAULT_N_RECORDS,\n",
    "                        DEFAULT_N_FEATURES, None])"
   ]
  },
  {
   "cell_type": "markdown",
   "id": "29ebeb5c-92f8-41d9-84bc-e93fb82f0e91",
   "metadata": {},
   "source": [
    "## 1. Number of parties vs number of iterations"
   ]
  },
  {
   "cell_type": "code",
   "execution_count": 2,
   "id": "f604c43d-b88e-4c91-be02-3f807d05d2ca",
   "metadata": {
    "tags": []
   },
   "outputs": [
    {
     "data": {
      "text/plain": [
       "[parameters(parties=2, iterations=100, records=100, features=6, category='parties_vs_iterations'),\n",
       " parameters(parties=2, iterations=500, records=100, features=6, category='parties_vs_iterations'),\n",
       " parameters(parties=2, iterations=1000, records=100, features=6, category='parties_vs_iterations'),\n",
       " parameters(parties=2, iterations=15000, records=100, features=6, category='parties_vs_iterations'),\n",
       " parameters(parties=2, iterations=2000, records=100, features=6, category='parties_vs_iterations'),\n",
       " parameters(parties=3, iterations=100, records=100, features=6, category='parties_vs_iterations'),\n",
       " parameters(parties=3, iterations=500, records=100, features=6, category='parties_vs_iterations'),\n",
       " parameters(parties=3, iterations=1000, records=100, features=6, category='parties_vs_iterations'),\n",
       " parameters(parties=3, iterations=15000, records=100, features=6, category='parties_vs_iterations'),\n",
       " parameters(parties=3, iterations=2000, records=100, features=6, category='parties_vs_iterations'),\n",
       " parameters(parties=4, iterations=100, records=100, features=6, category='parties_vs_iterations'),\n",
       " parameters(parties=4, iterations=500, records=100, features=6, category='parties_vs_iterations'),\n",
       " parameters(parties=4, iterations=1000, records=100, features=6, category='parties_vs_iterations'),\n",
       " parameters(parties=4, iterations=15000, records=100, features=6, category='parties_vs_iterations'),\n",
       " parameters(parties=4, iterations=2000, records=100, features=6, category='parties_vs_iterations'),\n",
       " parameters(parties=5, iterations=100, records=100, features=6, category='parties_vs_iterations'),\n",
       " parameters(parties=5, iterations=500, records=100, features=6, category='parties_vs_iterations'),\n",
       " parameters(parties=5, iterations=1000, records=100, features=6, category='parties_vs_iterations'),\n",
       " parameters(parties=5, iterations=15000, records=100, features=6, category='parties_vs_iterations'),\n",
       " parameters(parties=5, iterations=2000, records=100, features=6, category='parties_vs_iterations')]"
      ]
     },
     "execution_count": 2,
     "metadata": {},
     "output_type": "execute_result"
    }
   ],
   "source": [
    "num_parties = [2,3,4,5]\n",
    "num_iterations = [100, 500, 1000, 15000, 2000]\n",
    "\n",
    "variations1 = []\n",
    "\n",
    "\n",
    "for p in num_parties:\n",
    "    for i in num_iterations:\n",
    "        variations1.append(Parameters(parties=p, iterations=i, category=\"parties_vs_iterations\"))\n",
    "        \n",
    "variations1"
   ]
  },
  {
   "cell_type": "markdown",
   "id": "e8ad2231-c6d2-4c60-8b63-888835c4c840",
   "metadata": {
    "tags": []
   },
   "source": [
    "## 2. Number of records"
   ]
  },
  {
   "cell_type": "code",
   "execution_count": 3,
   "id": "527429f5-d9a3-4868-b9e0-afe9e6940d04",
   "metadata": {
    "tags": []
   },
   "outputs": [
    {
     "data": {
      "text/plain": [
       "[parameters(parties=3, iterations=1000, records=50, features=6, category='records'),\n",
       " parameters(parties=3, iterations=1000, records=100, features=6, category='records'),\n",
       " parameters(parties=3, iterations=1000, records=500, features=6, category='records'),\n",
       " parameters(parties=3, iterations=1000, records=1000, features=6, category='records'),\n",
       " parameters(parties=3, iterations=1000, records=2000, features=6, category='records'),\n",
       " parameters(parties=3, iterations=1000, records=3000, features=6, category='records'),\n",
       " parameters(parties=3, iterations=1000, records=4000, features=6, category='records'),\n",
       " parameters(parties=3, iterations=1000, records=5000, features=6, category='records')]"
      ]
     },
     "execution_count": 3,
     "metadata": {},
     "output_type": "execute_result"
    }
   ],
   "source": [
    "n_records = [50, 100, 500, 1000, 2000, 3000, 4000, 5000]\n",
    "\n",
    "variations2 = []\n",
    "\n",
    "for r in n_records:\n",
    "    variations2.append(Parameters(records=r, category=\"records\"))\n",
    "    \n",
    "variations2"
   ]
  },
  {
   "cell_type": "markdown",
   "id": "eb52ec03-5b34-41fd-b40e-110b65e0ba81",
   "metadata": {
    "tags": []
   },
   "source": [
    "## 3. Number of features"
   ]
  },
  {
   "cell_type": "code",
   "execution_count": 4,
   "id": "8134b5a9-637e-42ea-8f70-dea98bb8526c",
   "metadata": {
    "tags": []
   },
   "outputs": [
    {
     "data": {
      "text/plain": [
       "[parameters(parties=3, iterations=1000, records=100, features=4, category='features'),\n",
       " parameters(parties=3, iterations=1000, records=100, features=8, category='features'),\n",
       " parameters(parties=3, iterations=1000, records=100, features=12, category='features'),\n",
       " parameters(parties=3, iterations=1000, records=100, features=16, category='features'),\n",
       " parameters(parties=3, iterations=1000, records=100, features=20, category='features')]"
      ]
     },
     "execution_count": 4,
     "metadata": {},
     "output_type": "execute_result"
    }
   ],
   "source": [
    "n_features=[4, 8, 12, 16, 20]\n",
    "variations3 = []\n",
    "\n",
    "for f in n_features:\n",
    "    variations3.append(Parameters(features=f, category=\"features\"))\n",
    "    \n",
    "variations3"
   ]
  },
  {
   "cell_type": "code",
   "execution_count": 5,
   "id": "c41bda10-dbae-472b-aa5a-324739818ac2",
   "metadata": {
    "tags": []
   },
   "outputs": [
    {
     "data": {
      "text/plain": [
       "[parameters(parties=2, iterations=100, records=100, features=6, category='parties_vs_iterations'),\n",
       " parameters(parties=2, iterations=500, records=100, features=6, category='parties_vs_iterations'),\n",
       " parameters(parties=2, iterations=1000, records=100, features=6, category='parties_vs_iterations'),\n",
       " parameters(parties=2, iterations=15000, records=100, features=6, category='parties_vs_iterations'),\n",
       " parameters(parties=2, iterations=2000, records=100, features=6, category='parties_vs_iterations'),\n",
       " parameters(parties=3, iterations=100, records=100, features=6, category='parties_vs_iterations'),\n",
       " parameters(parties=3, iterations=500, records=100, features=6, category='parties_vs_iterations'),\n",
       " parameters(parties=3, iterations=1000, records=100, features=6, category='parties_vs_iterations'),\n",
       " parameters(parties=3, iterations=15000, records=100, features=6, category='parties_vs_iterations'),\n",
       " parameters(parties=3, iterations=2000, records=100, features=6, category='parties_vs_iterations'),\n",
       " parameters(parties=4, iterations=100, records=100, features=6, category='parties_vs_iterations'),\n",
       " parameters(parties=4, iterations=500, records=100, features=6, category='parties_vs_iterations'),\n",
       " parameters(parties=4, iterations=1000, records=100, features=6, category='parties_vs_iterations'),\n",
       " parameters(parties=4, iterations=15000, records=100, features=6, category='parties_vs_iterations'),\n",
       " parameters(parties=4, iterations=2000, records=100, features=6, category='parties_vs_iterations'),\n",
       " parameters(parties=5, iterations=100, records=100, features=6, category='parties_vs_iterations'),\n",
       " parameters(parties=5, iterations=500, records=100, features=6, category='parties_vs_iterations'),\n",
       " parameters(parties=5, iterations=1000, records=100, features=6, category='parties_vs_iterations'),\n",
       " parameters(parties=5, iterations=15000, records=100, features=6, category='parties_vs_iterations'),\n",
       " parameters(parties=5, iterations=2000, records=100, features=6, category='parties_vs_iterations'),\n",
       " parameters(parties=3, iterations=1000, records=50, features=6, category='records'),\n",
       " parameters(parties=3, iterations=1000, records=100, features=6, category='records'),\n",
       " parameters(parties=3, iterations=1000, records=500, features=6, category='records'),\n",
       " parameters(parties=3, iterations=1000, records=1000, features=6, category='records'),\n",
       " parameters(parties=3, iterations=1000, records=2000, features=6, category='records'),\n",
       " parameters(parties=3, iterations=1000, records=3000, features=6, category='records'),\n",
       " parameters(parties=3, iterations=1000, records=4000, features=6, category='records'),\n",
       " parameters(parties=3, iterations=1000, records=5000, features=6, category='records'),\n",
       " parameters(parties=3, iterations=1000, records=100, features=4, category='features'),\n",
       " parameters(parties=3, iterations=1000, records=100, features=8, category='features'),\n",
       " parameters(parties=3, iterations=1000, records=100, features=12, category='features'),\n",
       " parameters(parties=3, iterations=1000, records=100, features=16, category='features'),\n",
       " parameters(parties=3, iterations=1000, records=100, features=20, category='features')]"
      ]
     },
     "execution_count": 5,
     "metadata": {},
     "output_type": "execute_result"
    }
   ],
   "source": [
    "variations = variations1 + variations2 + variations3\n",
    "\n",
    "variations"
   ]
  },
  {
   "cell_type": "code",
   "execution_count": 6,
   "id": "c19de45b-e498-4e9c-b6a9-bec1a7f5c2ed",
   "metadata": {
    "tags": []
   },
   "outputs": [],
   "source": [
    "from csv import DictWriter"
   ]
  },
  {
   "cell_type": "code",
   "execution_count": 7,
   "id": "39e7dc66-c084-48a8-8ea1-ae771a8cd03f",
   "metadata": {
    "tags": []
   },
   "outputs": [],
   "source": [
    "path = \"benchmark/benchmark_parameters.csv\""
   ]
  },
  {
   "cell_type": "code",
   "execution_count": 8,
   "id": "417ac9b3-14f8-4bee-8860-497784610382",
   "metadata": {
    "tags": []
   },
   "outputs": [],
   "source": [
    "variations_dict = (v._asdict() for v in variations)\n",
    "\n",
    "with open(path, \"w\") as f:\n",
    "    writer = DictWriter(f, Parameters._fields)\n",
    "    \n",
    "    writer.writeheader()\n",
    "    \n",
    "    writer.writerows(variations_dict)"
   ]
  }
 ],
 "metadata": {
  "kernelspec": {
   "display_name": "Python 3 (ipykernel)",
   "language": "python",
   "name": "python3"
  },
  "language_info": {
   "codemirror_mode": {
    "name": "ipython",
    "version": 3
   },
   "file_extension": ".py",
   "mimetype": "text/x-python",
   "name": "python",
   "nbconvert_exporter": "python",
   "pygments_lexer": "ipython3",
   "version": "3.10.9"
  }
 },
 "nbformat": 4,
 "nbformat_minor": 5
}
