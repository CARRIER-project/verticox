{
 "cells": [
  {
   "cell_type": "code",
   "execution_count": 1,
   "id": "4ada7389-2053-4fdc-a5f2-a7094d2a81b2",
   "metadata": {},
   "outputs": [],
   "source": [
    "import numba\n",
    "import numpy as np\n",
    "from numpy.typing import ArrayLike\n",
    "from collections import namedtuple\n",
    "from typing import Dict, List, Any\n",
    "from verticox.likelihood import Parameters"
   ]
  },
  {
   "cell_type": "markdown",
   "id": "f3c18867-db81-4f8c-8c6e-41b7b9dab6fa",
   "metadata": {},
   "source": [
    "# Original code"
   ]
  },
  {
   "cell_type": "code",
   "execution_count": 2,
   "id": "f188d12f-14c3-4017-a48a-751df48fd3b1",
   "metadata": {},
   "outputs": [],
   "source": [
    "def _get_dt(t, Dt):\n",
    "    # If there is no entry for time t it means that it was from a right-censored sample\n",
    "    # I'm making it an empty list so I can call len on it but it's semantically sound\n",
    "    d = Dt.get(t, [])\n",
    "    return len(d)\n",
    "\n",
    "def bottom(z, params, t):\n",
    "    denominator = 0.\n",
    "    for j in params.Rt[t]:\n",
    "        denominator += np.exp(params.K * z[j])\n",
    "    return denominator\n",
    "\n",
    "def derivative_2_diagonal(z: ArrayLike, params: Parameters, u):\n",
    "    u_event_time = params.event_times[u]\n",
    "\n",
    "    relevant_event_times = [t for t in params.Rt.keys() if t <= u_event_time]\n",
    "\n",
    "    summed = 0\n",
    "\n",
    "    for t in relevant_event_times:\n",
    "        denominator = bottom(z, params, t)\n",
    "\n",
    "        first_part = np.square(params.K) * np.exp(params.K * z[u]) / denominator\n",
    "\n",
    "        second_part = np.square(params.K) * np.square(np.exp(params.K * z[u])) / \\\n",
    "                      np.square(denominator)\n",
    "\n",
    "        summed += _get_dt(t, params.Dt) * (first_part - second_part)\n",
    "\n",
    "    return summed + params.K * params.rho\n",
    "\n",
    "\n",
    "def derivative_2_off_diagonal(z: ArrayLike, params: Parameters, u, v):\n",
    "    min_event_time = min(params.event_times[u], params.event_times[v])\n",
    "    relevant_event_times = [t for t in params.Rt.keys() if t <= min_event_time]\n",
    "\n",
    "    summed = 0\n",
    "\n",
    "    for t in relevant_event_times:\n",
    "        summed += params.deaths_per_t[t] * np.square(params.K) * np.exp(params.K * z[u]) * \\\n",
    "                  np.exp(params.K * z[\n",
    "                      v]) / \\\n",
    "                  np.square(np.exp(params.K * z[params.Rt[t]]).sum())\n",
    "\n",
    "    return -1 * summed\n",
    "\n",
    "def hessian_parametrized(z: ArrayLike, params: Parameters):\n",
    "    # The hessian is a N x N matrix where N is the number of elements in z\n",
    "    N = z.shape[0]\n",
    "    mat = np.zeros((N, N))\n",
    "\n",
    "    for u in range(N):\n",
    "        for v in range(N):\n",
    "\n",
    "            if u == v:\n",
    "                # Formula for diagonals\n",
    "                mat[u, v] = derivative_2_diagonal(z, params, u)\n",
    "            else:\n",
    "                # Formula for off-diagonals\n",
    "                mat[u, v] = derivative_2_off_diagonal(z, params, u, v)\n",
    "\n",
    "    return mat"
   ]
  },
  {
   "cell_type": "code",
   "execution_count": 3,
   "id": "ebad1ead-1eef-4dfa-9da8-ff083fc59505",
   "metadata": {},
   "outputs": [],
   "source": [
    "from numpy import array\n",
    "params =  Parameters(gamma=array([0., 0., 0., 0., 0.]), sigma=array([0.85583803, 0.79890457, 0.91337144, 0.68948236, 0.78043699]), rho=0.5, Rt={1.0: array([0, 1, 2, 3, 4]), 297.0: array([0, 2, 3, 4]), 2172.0: array([2, 3, 4]), 2178.0: array([2, 4]), 2190.0: array([4])}, K=2, event_times=array([2.970e+02, 1.000e+00, 2.178e+03, 2.172e+03, 2.190e+03]), Dt={297.0: [0], 1.0: [1]}, deaths_per_t={297.0: 1, 1.0: 1, 2178.0: 0, 2172.0: 0, 2190.0: 0})\n",
    "\n",
    "z = np.zeros((5,))"
   ]
  },
  {
   "cell_type": "code",
   "execution_count": 4,
   "id": "6b9b0982-0a1f-4719-9533-1211abebd641",
   "metadata": {},
   "outputs": [
    {
     "data": {
      "text/plain": [
       "Parameters(gamma=array([0., 0., 0., 0., 0.]), sigma=array([0.85583803, 0.79890457, 0.91337144, 0.68948236, 0.78043699]), rho=0.5, Rt={1.0: array([0, 1, 2, 3, 4]), 297.0: array([0, 2, 3, 4]), 2172.0: array([2, 3, 4]), 2178.0: array([2, 4]), 2190.0: array([4])}, K=2, event_times=array([2.970e+02, 1.000e+00, 2.178e+03, 2.172e+03, 2.190e+03]), Dt={297.0: [0], 1.0: [1]}, deaths_per_t={297.0: 1, 1.0: 1, 2178.0: 0, 2172.0: 0, 2190.0: 0})"
      ]
     },
     "execution_count": 4,
     "metadata": {},
     "output_type": "execute_result"
    }
   ],
   "source": [
    "params"
   ]
  },
  {
   "cell_type": "code",
   "execution_count": 5,
   "id": "eafe94dd-21af-465a-a8aa-324ef1909118",
   "metadata": {},
   "outputs": [
    {
     "name": "stdout",
     "output_type": "stream",
     "text": [
      "603 µs ± 1.62 µs per loop (mean ± std. dev. of 7 runs, 1,000 loops each)\n"
     ]
    }
   ],
   "source": [
    "%timeit hessian_parametrized(z, params)"
   ]
  },
  {
   "cell_type": "markdown",
   "id": "5a36bbd1-62b4-4590-92a1-91f277e4619b",
   "metadata": {},
   "source": [
    "# Remove get_dt"
   ]
  },
  {
   "cell_type": "code",
   "execution_count": 6,
   "id": "70847a97-3c0a-4c68-bf6c-b65271a4801e",
   "metadata": {},
   "outputs": [],
   "source": [
    "def bottom(z, params, t):\n",
    "    denominator = 0.\n",
    "    for j in params.Rt[t]:\n",
    "        denominator += np.exp(params.K * z[j])\n",
    "    return denominator\n",
    "\n",
    "def derivative_2_diagonal(z: ArrayLike, params: Parameters, u):\n",
    "    u_event_time = params.event_times[u]\n",
    "\n",
    "    relevant_event_times = [t for t in params.Rt.keys() if t <= u_event_time]\n",
    "\n",
    "    summed = 0\n",
    "\n",
    "    for t in relevant_event_times:\n",
    "        denominator = bottom(z, params, t)\n",
    "\n",
    "        first_part = np.square(params.K) * np.exp(params.K * z[u]) / denominator\n",
    "\n",
    "        second_part = np.square(params.K) * np.square(np.exp(params.K * z[u])) / \\\n",
    "                      np.square(denominator)\n",
    "\n",
    "        summed += params.deaths_per_t[t] * (first_part - second_part)\n",
    "\n",
    "    return summed + params.K * params.rho\n",
    "\n",
    "\n",
    "def derivative_2_off_diagonal(z: ArrayLike, params: Parameters, u, v):\n",
    "    min_event_time = min(params.event_times[u], params.event_times[v])\n",
    "    relevant_event_times = [t for t in params.Rt.keys() if t <= min_event_time]\n",
    "\n",
    "    summed = 0\n",
    "\n",
    "    for t in relevant_event_times:\n",
    "        summed += params.deaths_per_t[t] * np.square(params.K) * np.exp(params.K * z[u]) * \\\n",
    "                  np.exp(params.K * z[\n",
    "                      v]) / \\\n",
    "                  np.square(np.exp(params.K * z[params.Rt[t]]).sum())\n",
    "\n",
    "    return -1 * summed\n",
    "\n",
    "def hessian_parametrized(z: ArrayLike, params: Parameters):\n",
    "    # The hessian is a N x N matrix where N is the number of elements in z\n",
    "    N = z.shape[0]\n",
    "    mat = np.zeros((N, N))\n",
    "\n",
    "    for u in range(N):\n",
    "        for v in range(N):\n",
    "\n",
    "            if u == v:\n",
    "                # Formula for diagonals\n",
    "                mat[u, v] = derivative_2_diagonal(z, params, u)\n",
    "            else:\n",
    "                # Formula for off-diagonals\n",
    "                mat[u, v] = derivative_2_off_diagonal(z, params, u, v)\n",
    "\n",
    "    return mat"
   ]
  },
  {
   "cell_type": "code",
   "execution_count": 7,
   "id": "21636258-5749-47bc-88e6-16287ae29384",
   "metadata": {},
   "outputs": [
    {
     "name": "stdout",
     "output_type": "stream",
     "text": [
      "603 µs ± 1.47 µs per loop (mean ± std. dev. of 7 runs, 1,000 loops each)\n"
     ]
    }
   ],
   "source": [
    "%timeit hessian_parametrized(z, params)"
   ]
  },
  {
   "cell_type": "markdown",
   "id": "1759db62-d7dc-4fe1-aa83-48e9242cd2f2",
   "metadata": {},
   "source": [
    "No difference but didn't really expect one"
   ]
  },
  {
   "cell_type": "markdown",
   "id": "6b4a87dc-fb11-406b-b2a3-beac5597a9c3",
   "metadata": {},
   "source": [
    "# Numbify the inner loop"
   ]
  },
  {
   "cell_type": "code",
   "execution_count": 36,
   "id": "2261f39d-555a-4314-89db-4682bc67a272",
   "metadata": {},
   "outputs": [],
   "source": [
    "from numba import types\n",
    "spec=[\n",
    "      ('gamma', types.float64[:]),\n",
    "      ('sigma', types.float64[:]),\n",
    "      ('Rt', types.DictType(types.float64, types.int64[:])),\n",
    "    ('event_times', types.float64[:]),\n",
    "    ('Dt', types.DictType(types.float64, types.int64[:])),\n",
    "    ('deaths_per_t', types.DictType(types.float64, types.int64))        \n",
    "]\n",
    "\n",
    "@numba.experimental.jitclass(spec)\n",
    "class Parameters_numba:\n",
    "    gamma: np.ndarray\n",
    "    sigma: np.ndarray\n",
    "    rho: float\n",
    "    Rt: Dict[float, np.ndarray]\n",
    "    K: int\n",
    "    event_times:np.ndarray\n",
    "    Dt: Dict[float,np.ndarray]\n",
    "    deaths_per_t: Dict[float, int]\n",
    "    \n",
    "    def __init__(self, gamma, sigma, rho, Rt ,K, event_times, Dt, deaths_per_t):\n",
    "        self.gamma = gamma\n",
    "        self.sigma = sigma\n",
    "        self.rho = rho\n",
    "        self.Rt = Rt\n",
    "        self.K = K\n",
    "        self.event_times = event_times\n",
    "        self.Dt = Dt\n",
    "        self.deaths_per_t = deaths_per_t\n",
    "    \n",
    "\n",
    "\n",
    "@numba.njit()\n",
    "def bottom(z, params, t):\n",
    "    denominator = 0.\n",
    "    for j in params.Rt[t]:\n",
    "        denominator += np.exp(params.K * z[j])\n",
    "    return denominator\n",
    "\n",
    "@numba.njit()\n",
    "def derivative_2_diagonal(z: ArrayLike, params: Parameters, u):\n",
    "    u_event_time = params.event_times[u]\n",
    "\n",
    "    relevant_event_times = [t for t in params.Rt.keys() if t <= u_event_time]\n",
    "\n",
    "    summed = 0\n",
    "\n",
    "    for t in relevant_event_times:\n",
    "        denominator = bottom(z, params, t)\n",
    "\n",
    "        first_part = np.square(params.K) * np.exp(params.K * z[u]) / denominator\n",
    "\n",
    "        second_part = np.square(params.K) * np.square(np.exp(params.K * z[u])) / \\\n",
    "                      np.square(denominator)\n",
    "\n",
    "        summed += params.deaths_per_t[t] * (first_part - second_part)\n",
    "\n",
    "    return summed + params.K * params.rho\n",
    "\n",
    "@numba.njit()\n",
    "def derivative_2_off_diagonal(z: ArrayLike, params, u, v):\n",
    "    min_event_time = min(params.event_times[u], params.event_times[v])\n",
    "    relevant_event_times = [t for t in params.Rt.keys() if t <= min_event_time]\n",
    "\n",
    "    summed = 0\n",
    "\n",
    "    for t in relevant_event_times:\n",
    "        summed += params.deaths_per_t[t] * np.square(params.K) * np.exp(params.K * z[u]) * \\\n",
    "                  np.exp(params.K * z[v]) / \\\n",
    "                  np.square(np.exp(params.K * z[params.Rt[t]]).sum())\n",
    "\n",
    "    return -1 * summed\n",
    "\n",
    "@numba.njit()\n",
    "def hessian_parametrized(z: ArrayLike, params: Parameters):\n",
    "    # The hessian is a N x N matrix where N is the number of elements in z\n",
    "    N = z.shape[0]\n",
    "    mat = np.zeros((N, N))\n",
    "\n",
    "    for u in range(N):\n",
    "        for v in range(N):\n",
    "\n",
    "            if u == v:\n",
    "                # Formula for diagonals\n",
    "                mat[u, v] = derivative_2_diagonal(z, params, u)\n",
    "            else:\n",
    "                # Formula for off-diagonals\n",
    "                mat[u, v] = derivative_2_off_diagonal(z, params, u, v)\n",
    "\n",
    "    return mat"
   ]
  },
  {
   "cell_type": "code",
   "execution_count": 37,
   "id": "65f14341-42e1-409c-8ceb-3a0fe2f028dc",
   "metadata": {},
   "outputs": [],
   "source": [
    "from numba import typed, types\n",
    "\n",
    "typed_Rt = typed.Dict.empty(types.float64, types.int64[:])\n",
    "\n",
    "for key, value in params.Rt.items():\n",
    "    typed_Rt[key] = value\n",
    "\n",
    "typed_deaths_per_t = typed.Dict.empty(types.float64, types.int64)\n",
    "\n",
    "for key, value in params.deaths_per_t.items():\n",
    "    typed_deaths_per_t[key] = value\n",
    "    \n",
    "typed_Dt = typed.Dict.empty(types.float64, types.int64[:])\n",
    "\n",
    "for key, value in params.Dt.items():\n",
    "    typed_Dt[key] = np.array(value)\n",
    "    \n",
    "typed_params = Parameters_numba(gamma=params.gamma, sigma=params.sigma, rho=params.rho,\n",
    "                          Rt=typed_Rt, K=params.K, event_times=params.event_times, \n",
    "                          Dt=typed_Dt, deaths_per_t=typed_deaths_per_t)"
   ]
  },
  {
   "cell_type": "code",
   "execution_count": 38,
   "id": "83db7802-4ad9-4e58-b126-b53916da2e2d",
   "metadata": {},
   "outputs": [
    {
     "name": "stdout",
     "output_type": "stream",
     "text": [
      "25.1 µs ± 10.1 µs per loop (mean ± std. dev. of 7 runs, 1 loop each)\n"
     ]
    }
   ],
   "source": [
    "%timeit hessian_parametrized(z, typed_params)"
   ]
  },
  {
   "cell_type": "code",
   "execution_count": 29,
   "id": "9ae981ee-650c-4f3a-add4-a3ef5be4d90c",
   "metadata": {},
   "outputs": [
    {
     "data": {
      "text/plain": [
       "array([2.970e+02, 1.000e+00, 2.178e+03, 2.172e+03, 2.190e+03])"
      ]
     },
     "execution_count": 29,
     "metadata": {},
     "output_type": "execute_result"
    }
   ],
   "source": [
    "typed_params.event_times"
   ]
  },
  {
   "cell_type": "code",
   "execution_count": null,
   "id": "398967fa-17b0-4cfd-a4a6-8a003b381702",
   "metadata": {},
   "outputs": [],
   "source": []
  }
 ],
 "metadata": {
  "kernelspec": {
   "display_name": "Python 3 (ipykernel)",
   "language": "python",
   "name": "python3"
  },
  "language_info": {
   "codemirror_mode": {
    "name": "ipython",
    "version": 3
   },
   "file_extension": ".py",
   "mimetype": "text/x-python",
   "name": "python",
   "nbconvert_exporter": "python",
   "pygments_lexer": "ipython3",
   "version": "3.9.13"
  }
 },
 "nbformat": 4,
 "nbformat_minor": 5
}
