{
 "cells": [
  {
   "cell_type": "code",
   "execution_count": 1,
   "id": "93b02810-391e-463d-800d-aecae13009dd",
   "metadata": {},
   "outputs": [
    {
     "name": "stdout",
     "output_type": "stream",
     "text": [
      "/home/dsmits/projects/CARRIER/verticox/python\n"
     ]
    }
   ],
   "source": [
    "%cd ..\n"
   ]
  },
  {
   "cell_type": "code",
   "execution_count": 2,
   "id": "9d85485b-6b96-4e7f-aff0-716b42cae18b",
   "metadata": {},
   "outputs": [],
   "source": [
    "from verticox.client import VerticoxClient\n",
    "from vantage6.client import Client\n",
    "import os"
   ]
  },
  {
   "cell_type": "code",
   "execution_count": 3,
   "id": "37549af5-ca9a-4e53-b6b4-24b8a32330e6",
   "metadata": {},
   "outputs": [],
   "source": [
    "host =os.environ['V6_HOST']\n",
    "port = os.environ['V6_PORT']\n",
    "\n",
    "username = os.environ['V6_USER']\n",
    "password = os.environ['V6_PASSWORD']\n",
    "private_key = os.environ['V6_KEY']"
   ]
  },
  {
   "cell_type": "code",
   "execution_count": 4,
   "id": "7bcb9f73-e1b7-415c-b492-e0e30c516115",
   "metadata": {},
   "outputs": [],
   "source": [
    "client = Client('https://'+host, None)"
   ]
  },
  {
   "cell_type": "code",
   "execution_count": 5,
   "id": "6ac27dc4-152c-4ad0-be8f-bc20f7542600",
   "metadata": {},
   "outputs": [],
   "source": [
    "client.authenticate(username, password)\n",
    "client.setup_encryption(private_key)"
   ]
  },
  {
   "cell_type": "code",
   "execution_count": 6,
   "id": "76019cb0-33b3-4dea-ada5-faf3fcfb35ea",
   "metadata": {},
   "outputs": [
    {
     "data": {
      "text/plain": [
       "'harbor.carrier-mu.src.surf-hosted.nl/carrier/verticox:v1.0.0rc'"
      ]
     },
     "execution_count": 6,
     "metadata": {},
     "output_type": "execute_result"
    }
   ],
   "source": [
    "image = 'harbor.carrier-mu.src.surf-hosted.nl/carrier/verticox:v1.0.0rc'\n",
    "verticox_client = VerticoxClient(client, image=image)\n",
    "verticox_client._image"
   ]
  },
  {
   "cell_type": "code",
   "execution_count": 7,
   "id": "d8c9c2e9-a500-4e50-a162-c4c38e6c524d",
   "metadata": {},
   "outputs": [
    {
     "name": "stdout",
     "output_type": "stream",
     "text": [
      "\n",
      "                    task = self.v6client.task.create(collaboration=1,\n",
      "                                             organizations=[2, 3, 5],\n",
      "                                             name=,\n",
      "                                             image=harbor.carrier-mu.src.surf-hosted.nl/carrier/verticox:v1.0.0rc,\n",
      "                                             description=,\n",
      "                                             input={'method': 'column_names', 'master': False, 'kwargs': {}},\n",
      "                                             data_format=json,\n",
      "                                             database=default\n",
      "                                             )\n",
      "            \n"
     ]
    }
   ],
   "source": [
    "result = verticox_client.get_column_names()"
   ]
  },
  {
   "cell_type": "code",
   "execution_count": 8,
   "id": "284dd629-b849-4b8b-b06e-d4f7142dcba4",
   "metadata": {},
   "outputs": [
    {
     "data": {
      "text/plain": [
       "[Result(organization_id=5, content=['gender', 'hr', 'los', 'miord', 'mitype', 'sho', 'sysbp', 'event_time', 'event_happened']),\n",
       " Result(organization_id=2, content=['event_time', 'event_happened']),\n",
       " Result(organization_id=3, content=['afb', 'age', 'av3', 'bmi', 'chf', 'cvd', 'diasbp', 'event_time', 'event_happened'])]"
      ]
     },
     "execution_count": 8,
     "metadata": {},
     "output_type": "execute_result"
    }
   ],
   "source": [
    "result.get_result()"
   ]
  },
  {
   "cell_type": "code",
   "execution_count": null,
   "id": "3846df4b-22a2-476c-a45b-7e7b5c55c299",
   "metadata": {},
   "outputs": [],
   "source": [
    "feature_columns = ['afb', 'age', 'gender']\n",
    "\n",
    "task = verticox_client.compute(feature_columns, 'event_time', 'event_happened', [3,5], 2)"
   ]
  },
  {
   "cell_type": "code",
   "execution_count": null,
   "id": "ad3eee4d-3318-48e1-a722-0452cfd67c9a",
   "metadata": {},
   "outputs": [],
   "source": [
    "task.get_result()"
   ]
  },
  {
   "cell_type": "code",
   "execution_count": null,
   "id": "dc9e3e78-6259-4e47-884b-5e4ff3b47bad",
   "metadata": {},
   "outputs": [],
   "source": []
  }
 ],
 "metadata": {
  "kernelspec": {
   "display_name": "Python 3 (ipykernel)",
   "language": "python",
   "name": "python3"
  },
  "language_info": {
   "codemirror_mode": {
    "name": "ipython",
    "version": 3
   },
   "file_extension": ".py",
   "mimetype": "text/x-python",
   "name": "python",
   "nbconvert_exporter": "python",
   "pygments_lexer": "ipython3",
   "version": "3.9.12"
  }
 },
 "nbformat": 4,
 "nbformat_minor": 5
}
