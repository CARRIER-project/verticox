{
 "cells": [
  {
   "cell_type": "code",
   "execution_count": null,
   "id": "040761f3-14eb-40c7-92fd-d95f7ca60635",
   "metadata": {},
   "outputs": [],
   "source": [
    "%cd .."
   ]
  },
  {
   "cell_type": "code",
   "execution_count": null,
   "id": "9d85485b-6b96-4e7f-aff0-716b42cae18b",
   "metadata": {},
   "outputs": [],
   "source": [
    "from verticox.client import VerticoxClient\n",
    "from vantage6.client import Client\n",
    "import os"
   ]
  },
  {
   "cell_type": "code",
   "execution_count": null,
   "id": "37549af5-ca9a-4e53-b6b4-24b8a32330e6",
   "metadata": {},
   "outputs": [],
   "source": [
    "host =os.environ['V6_HOST']\n",
    "port = os.environ['V6_PORT']\n",
    "\n",
    "username = os.environ['V6_USER']\n",
    "password = os.environ['V6_PASSWORD']\n",
    "private_key = os.environ['V6_KEY']"
   ]
  },
  {
   "cell_type": "code",
   "execution_count": null,
   "id": "7bcb9f73-e1b7-415c-b492-e0e30c516115",
   "metadata": {},
   "outputs": [],
   "source": [
    "client = Client('https://'+host, None, verbose=True)"
   ]
  },
  {
   "cell_type": "code",
   "execution_count": null,
   "id": "6ac27dc4-152c-4ad0-be8f-bc20f7542600",
   "metadata": {},
   "outputs": [],
   "source": [
    "client.authenticate(username, password)\n",
    "client.setup_encryption(private_key)"
   ]
  },
  {
   "cell_type": "code",
   "execution_count": null,
   "id": "76019cb0-33b3-4dea-ada5-faf3fcfb35ea",
   "metadata": {},
   "outputs": [],
   "source": [
    "verticoxClient = VerticoxClient(client)"
   ]
  },
  {
   "cell_type": "code",
   "execution_count": null,
   "id": "d8c9c2e9-a500-4e50-a162-c4c38e6c524d",
   "metadata": {},
   "outputs": [],
   "source": [
    "result = verticoxClient.get_column_names()"
   ]
  },
  {
   "cell_type": "code",
   "execution_count": null,
   "id": "284dd629-b849-4b8b-b06e-d4f7142dcba4",
   "metadata": {},
   "outputs": [],
   "source": [
    "client."
   ]
  },
  {
   "cell_type": "code",
   "execution_count": null,
   "id": "3846df4b-22a2-476c-a45b-7e7b5c55c299",
   "metadata": {},
   "outputs": [],
   "source": []
  }
 ],
 "metadata": {
  "kernelspec": {
   "display_name": "Python 3 (ipykernel)",
   "language": "python",
   "name": "python3"
  },
  "language_info": {
   "codemirror_mode": {
    "name": "ipython",
    "version": 3
   },
   "file_extension": ".py",
   "mimetype": "text/x-python",
   "name": "python",
   "nbconvert_exporter": "python",
   "pygments_lexer": "ipython3",
   "version": "3.9.12"
  }
 },
 "nbformat": 4,
 "nbformat_minor": 5
}
