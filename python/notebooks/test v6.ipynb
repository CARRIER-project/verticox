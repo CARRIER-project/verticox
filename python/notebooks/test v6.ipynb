{
 "cells": [
  {
   "cell_type": "code",
   "execution_count": null,
   "id": "c2acad1d-871c-4d7d-872b-03df5e3f8e15",
   "metadata": {
    "pycharm": {
     "name": "#%%\n"
    }
   },
   "outputs": [],
   "source": [
    "import vantage6.client as v6client\n",
    "from time import sleep\n",
    "import os"
   ]
  },
  {
   "cell_type": "code",
   "execution_count": null,
   "id": "22a6fecf-009d-4dcf-a93d-6fba3ef84d62",
   "metadata": {
    "pycharm": {
     "name": "#%%\n"
    }
   },
   "outputs": [],
   "source": [
    "v6_host = 'https://' + os.environ['V6_HOST']\n",
    "v6_user = os.environ['V6_USER']\n",
    "v6_password = os.environ['V6_PASSWORD']\n",
    "v6_key = os.environ['V6_KEY']"
   ]
  },
  {
   "cell_type": "code",
   "execution_count": null,
   "id": "6fd32234-7f79-4a6c-b92a-740535ec8e4a",
   "metadata": {
    "pycharm": {
     "name": "#%%\n"
    }
   },
   "outputs": [],
   "source": [
    "client = v6client.Client(v6_host, None)\n",
    "\n",
    "client.authenticate(v6_user, v6_password)\n",
    "client.setup_encryption(v6_key)"
   ]
  },
  {
   "cell_type": "code",
   "execution_count": null,
   "id": "c36b4a56-829c-4abe-a877-9edc8d7fc998",
   "metadata": {
    "pycharm": {
     "name": "#%%\n"
    }
   },
   "outputs": [],
   "source": [
    "nodes = client.node.list(is_online=True)\n",
    "nodes"
   ]
  },
  {
   "cell_type": "code",
   "execution_count": null,
   "id": "cd535103-dc2c-4f29-9329-1383c0786efb",
   "metadata": {
    "pycharm": {
     "name": "#%%\n"
    }
   },
   "outputs": [],
   "source": [
    "orgs = [n['id'] for n in nodes['data']]\n",
    "orgs"
   ]
  },
  {
   "cell_type": "code",
   "execution_count": null,
   "id": "8b74d2de-daec-4895-a9a1-154d787f4e49",
   "metadata": {
    "pycharm": {
     "name": "#%%\n"
    }
   },
   "outputs": [],
   "source": [
    "verticox_image = 'harbor.carrier-mu.src.surf-hosted.nl/carrier/verticox'\n",
    "\n",
    "\n",
    "\n",
    "input_params = {'method': 'verticox', 'master': True, 'kwargs':\n",
    "                {\n",
    "                    'feature_columns': ['afb', 'age',\n",
    "#                                         'av3', 'bmi', 'chf', 'cvd', \n",
    "                    #                     'diasbp', 'gender', 'hr','los', 'miord',\n",
    "                    #                     'mitype', 'sho', \n",
    "                                        'sysbp'],\n",
    "                    'event_times_column': 'event_time',\n",
    "                    'event_happened_column': 'event_happened',\n",
    "                     'datanode_ids': orgs[1:],\n",
    "                    'precision':0.01\n",
    "                }\n",
    "               }\n",
    "\n",
    "\n",
    "task = client.task.create(collaboration=1, organizations=[orgs[0]], name='verticox', \n",
    "                          image=verticox_image, description='verticox test',\n",
    "                   input=input_params)\n",
    "                   "
   ]
  },
  {
   "cell_type": "code",
   "execution_count": null,
   "id": "db6d56d8-567f-4bb5-b967-8e82ad10c0a9",
   "metadata": {
    "pycharm": {
     "name": "#%%\n"
    },
    "tags": []
   },
   "outputs": [],
   "source": [
    "result_id = task['results'][0]['id']\n",
    "\n",
    "r = client.result.get(result_id)\n",
    "\n",
    "while not r['finished_at']:\n",
    "    sleep(3)\n",
    "    r = client.result.get(result_id)\n",
    "    \n",
    "print(f'Result:\\n{r[\"result\"]}')\n",
    "print(f'Log:\\n{r[\"log\"]}')\n",
    "      "
   ]
  },
  {
   "cell_type": "code",
   "execution_count": null,
   "id": "6062c615-953a-4c4c-ab67-87c26f8b8b65",
   "metadata": {
    "pycharm": {
     "name": "#%%\n"
    }
   },
   "outputs": [],
   "source": [
    "r = client.result.get(result_id)\n",
    "r['finished_at']"
   ]
  },
  {
   "cell_type": "code",
   "execution_count": null,
   "id": "3a4c4034-4e85-47e8-934a-6562d6a78e6b",
   "metadata": {
    "pycharm": {
     "name": "#%%\n"
    }
   },
   "outputs": [],
   "source": [
    "client.task.list()['data'][0]"
   ]
  },
  {
   "cell_type": "code",
   "execution_count": null,
   "id": "31b6bafd-be54-4b62-8a28-1cb2ef2a355a",
   "metadata": {
    "pycharm": {
     "name": "#%%\n"
    }
   },
   "outputs": [],
   "source": [
    "for t in client.task.list()['data']:\n",
    "    id = t['id']\n",
    "    client.task.delete(id)"
   ]
  },
  {
   "cell_type": "code",
   "execution_count": null,
   "id": "7e02b85e-22d9-4667-89a2-4526e0245142",
   "metadata": {
    "pycharm": {
     "name": "#%%\n"
    }
   },
   "outputs": [],
   "source": []
  }
 ],
 "metadata": {
  "kernelspec": {
   "display_name": "Python 3 (ipykernel)",
   "language": "python",
   "name": "python3"
  },
  "language_info": {
   "codemirror_mode": {
    "name": "ipython",
    "version": 3
   },
   "file_extension": ".py",
   "mimetype": "text/x-python",
   "name": "python",
   "nbconvert_exporter": "python",
   "pygments_lexer": "ipython3",
   "version": "3.9.12"
  }
 },
 "nbformat": 4,
 "nbformat_minor": 5
}
