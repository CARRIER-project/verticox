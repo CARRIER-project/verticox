{
 "cells": [
  {
   "cell_type": "code",
   "execution_count": 1,
   "id": "c2acad1d-871c-4d7d-872b-03df5e3f8e15",
   "metadata": {},
   "outputs": [],
   "source": [
    "import vantage6.client as v6client\n",
    "from time import sleep\n",
    "import os"
   ]
  },
  {
   "cell_type": "code",
   "execution_count": 2,
   "id": "22a6fecf-009d-4dcf-a93d-6fba3ef84d62",
   "metadata": {},
   "outputs": [],
   "source": [
    "v6_host = 'https://' + os.environ['V6_HOST']\n",
    "v6_user = os.environ['V6_USER']\n",
    "v6_password = os.environ['V6_PASSWORD']\n",
    "v6_key = os.environ['V6_KEY']"
   ]
  },
  {
   "cell_type": "code",
   "execution_count": 3,
   "id": "6fd32234-7f79-4a6c-b92a-740535ec8e4a",
   "metadata": {},
   "outputs": [],
   "source": [
    "client = v6client.Client(v6_host, None)\n",
    "\n",
    "client.authenticate(v6_user, v6_password)\n",
    "client.setup_encryption(v6_key)"
   ]
  },
  {
   "cell_type": "code",
   "execution_count": 4,
   "id": "c36b4a56-829c-4abe-a877-9edc8d7fc998",
   "metadata": {},
   "outputs": [
    {
     "data": {
      "text/plain": [
       "{'data': [{'ip': '10.155.40.146',\n",
       "   'type': 'node',\n",
       "   'status': 'online',\n",
       "   'name': 'legacy-lamb - windy-emporium Node',\n",
       "   'last_seen': '2022-08-02T09:14:47.022491+00:00',\n",
       "   'organization': {'id': 2,\n",
       "    'link': '/api/organization/2',\n",
       "    'methods': ['GET', 'PATCH']},\n",
       "   'id': 2,\n",
       "   'collaboration': {'id': 1,\n",
       "    'link': '/api/collaboration/1',\n",
       "    'methods': ['PATCH', 'DELETE', 'GET']}},\n",
       "  {'ip': '10.155.40.147',\n",
       "   'type': 'node',\n",
       "   'status': 'online',\n",
       "   'name': 'regular-pass - windy-emporium Node',\n",
       "   'last_seen': '2022-08-02T09:50:39.699454+00:00',\n",
       "   'organization': {'id': 3,\n",
       "    'link': '/api/organization/3',\n",
       "    'methods': ['GET', 'PATCH']},\n",
       "   'id': 3,\n",
       "   'collaboration': {'id': 1,\n",
       "    'link': '/api/collaboration/1',\n",
       "    'methods': ['PATCH', 'DELETE', 'GET']}},\n",
       "  {'ip': '10.155.40.145',\n",
       "   'type': 'node',\n",
       "   'status': 'online',\n",
       "   'name': 'noisy-ancestor - windy-emporium Node',\n",
       "   'last_seen': '2022-08-02T09:50:38.711716+00:00',\n",
       "   'organization': {'id': 5,\n",
       "    'link': '/api/organization/5',\n",
       "    'methods': ['GET', 'PATCH']},\n",
       "   'id': 5,\n",
       "   'collaboration': {'id': 1,\n",
       "    'link': '/api/collaboration/1',\n",
       "    'methods': ['PATCH', 'DELETE', 'GET']}}],\n",
       " 'links': {'first': '/api/node?page=1&per_page=20&include=metadata&status=online',\n",
       "  'self': '/api/node?page=1&per_page=20&include=metadata&status=online',\n",
       "  'last': '/api/node?page=1&per_page=20&include=metadata&status=online'}}"
      ]
     },
     "execution_count": 4,
     "metadata": {},
     "output_type": "execute_result"
    }
   ],
   "source": [
    "nodes = client.node.list(is_online=True)\n",
    "nodes"
   ]
  },
  {
   "cell_type": "code",
   "execution_count": 6,
   "id": "cd535103-dc2c-4f29-9329-1383c0786efb",
   "metadata": {},
   "outputs": [
    {
     "data": {
      "text/plain": [
       "[2, 3, 5]"
      ]
     },
     "execution_count": 6,
     "metadata": {},
     "output_type": "execute_result"
    }
   ],
   "source": [
    "orgs = [n['id'] for n in nodes['data']]\n",
    "orgs"
   ]
  },
  {
   "cell_type": "code",
   "execution_count": 11,
   "id": "8b74d2de-daec-4895-a9a1-154d787f4e49",
   "metadata": {},
   "outputs": [],
   "source": [
    "verticox_image = 'harbor.carrier-mu.src.surf-hosted.nl/carrier/verticox'\n",
    "\n",
    "\n",
    "\n",
    "input_params = {'method': 'verticox', 'master': True, 'kwargs':\n",
    "                {\n",
    "                    'feature_columns': ['afb', \n",
    "#                                        'age', 'av3', 'bmi', 'chf', 'cvd', \n",
    "                    #                     'diasbp', 'gender', 'hr','los', 'miord',\n",
    "                    #                     'mitype', 'sho', \n",
    "                                        'sysbp'],\n",
    "                    'event_times_column': 'event_time',\n",
    "                    'event_happened_column': 'event_happened',\n",
    "                     'datanode_ids': orgs[1:],\n",
    "                    'precision':0.1\n",
    "                }\n",
    "               }\n",
    "\n",
    "\n",
    "task = client.task.create(collaboration=1, organizations=[orgs[0]], name='verticox', \n",
    "                          image=verticox_image, description='verticox test',\n",
    "                   input=input_params)\n",
    "                   "
   ]
  },
  {
   "cell_type": "code",
   "execution_count": 13,
   "id": "db6d56d8-567f-4bb5-b967-8e82ad10c0a9",
   "metadata": {
    "tags": []
   },
   "outputs": [
    {
     "name": "stdout",
     "output_type": "stream",
     "text": [
      "Result:\n",
      "b''\n",
      "Log:\n",
      "info > wrapper for verticox\n",
      "info > Reading input file /mnt/data/task-000000101/input\n",
      "info > No data format specified. Assuming input data is pickle format\n",
      "info > Reading token file '/mnt/data/task-000000101/token'\n",
      "info > Using '/mnt/data/default.csv' as database\n",
      "info > Dispatching ...\n",
      "info > Module 'verticox' imported!\n",
      "info > Running a master-container\n",
      "info > Working with collaboration_id <1>\n",
      "info > Dispatching node-tasks\n",
      "info > Connecting to datanode at 10.155.40.147:49158\n",
      "info > Connecting to datanode at 10.155.40.145:49158\n",
      "[info]  - Starting iteration num 0\n",
      "[info]  - z_diff: 10.417891704212444\n",
      "[info]  - sigma_diff: 20.421355810565068\n",
      "[info]  - Starting iteration num 1\n",
      "warn > Error encountered while calling verticox: <_InactiveRpcError of RPC that terminated with:\n",
      "\tstatus = StatusCode.UNAVAILABLE\n",
      "\tdetails = \"failed to connect to all addresses\"\n",
      "\tdebug_error_string = \"{\"created\":\"@1659448994.887446248\",\"description\":\"Failed to pick subchannel\",\"file\":\"src/core/ext/filters/client_channel/client_channel.cc\",\"file_line\":3260,\"referenced_errors\":[{\"created\":\"@1659448994.887445677\",\"description\":\"failed to connect to all addresses\",\"file\":\"src/core/lib/transport/error_utils.cc\",\"file_line\":167,\"grpc_status\":14}]}\"\n",
      ">\n",
      "\n"
     ]
    }
   ],
   "source": [
    "result_id = task['results'][0]['id']\n",
    "\n",
    "r = client.result.get(result_id)\n",
    "\n",
    "while not r['finished_at']:\n",
    "    sleep(3)\n",
    "    r = client.result.get(result_id)\n",
    "    \n",
    "print(f'Result:\\n{r[\"result\"]}')\n",
    "print(f'Log:\\n{r[\"log\"]}')\n",
    "      "
   ]
  },
  {
   "cell_type": "code",
   "execution_count": 50,
   "id": "6062c615-953a-4c4c-ab67-87c26f8b8b65",
   "metadata": {},
   "outputs": [
    {
     "data": {
      "text/plain": [
       "'2022-07-28T12:12:42.502165+00:00'"
      ]
     },
     "execution_count": 50,
     "metadata": {},
     "output_type": "execute_result"
    }
   ],
   "source": [
    "r = client.result.get(result_id)\n",
    "r['finished_at']"
   ]
  },
  {
   "cell_type": "code",
   "execution_count": 42,
   "id": "3a4c4034-4e85-47e8-934a-6562d6a78e6b",
   "metadata": {},
   "outputs": [
    {
     "data": {
      "text/plain": [
       "{'complete': True,\n",
       " 'results': [{'id': 25,\n",
       "   'link': '/api/result/25',\n",
       "   'methods': ['GET', 'PATCH']}],\n",
       " 'children': None,\n",
       " 'database': 'default',\n",
       " 'initiator': 6,\n",
       " 'parent': None,\n",
       " 'name': 'verticox',\n",
       " 'description': 'verticox test',\n",
       " 'image': 'harbor.carrier-mu.src.surf-hosted.nl/carrier/verticox:0.1.0',\n",
       " 'run_id': 13,\n",
       " 'id': 25,\n",
       " 'collaboration': {'id': 1,\n",
       "  'link': '/api/collaboration/1',\n",
       "  'methods': ['PATCH', 'DELETE', 'GET']}}"
      ]
     },
     "execution_count": 42,
     "metadata": {},
     "output_type": "execute_result"
    }
   ],
   "source": [
    "client.task.list()['data'][0]"
   ]
  },
  {
   "cell_type": "code",
   "execution_count": 8,
   "id": "31b6bafd-be54-4b62-8a28-1cb2ef2a355a",
   "metadata": {},
   "outputs": [],
   "source": [
    "for t in client.task.list()['data']:\n",
    "    id = t['id']\n",
    "    client.task.delete(id)"
   ]
  },
  {
   "cell_type": "code",
   "execution_count": null,
   "id": "7e02b85e-22d9-4667-89a2-4526e0245142",
   "metadata": {},
   "outputs": [],
   "source": []
  }
 ],
 "metadata": {
  "kernelspec": {
   "display_name": "Python 3 (ipykernel)",
   "language": "python",
   "name": "python3"
  },
  "language_info": {
   "codemirror_mode": {
    "name": "ipython",
    "version": 3
   },
   "file_extension": ".py",
   "mimetype": "text/x-python",
   "name": "python",
   "nbconvert_exporter": "python",
   "pygments_lexer": "ipython3",
   "version": "3.9.13"
  }
 },
 "nbformat": 4,
 "nbformat_minor": 5
}
