{
 "cells": [
  {
   "cell_type": "code",
   "execution_count": 1,
   "id": "df31a2a1-9cf5-45cb-8ef6-5b1375e97dea",
   "metadata": {
    "tags": []
   },
   "outputs": [
    {
     "name": "stdout",
     "output_type": "stream",
     "text": [
      "features_0.parquet  features_1.parquet  outcome.parquet\n"
     ]
    }
   ],
   "source": [
    "%ls benchmark/data"
   ]
  },
  {
   "cell_type": "code",
   "execution_count": 2,
   "id": "b753c356-416c-4e34-af69-ed363f0a1361",
   "metadata": {
    "tags": []
   },
   "outputs": [],
   "source": [
    "from pathlib import Path\n",
    "import pandas as pd"
   ]
  },
  {
   "cell_type": "code",
   "execution_count": 3,
   "id": "6bbd76f4-d4d8-4288-b161-5d7b50ee7a1a",
   "metadata": {
    "tags": []
   },
   "outputs": [],
   "source": [
    "data_dir = Path(\"benchmark/data\")"
   ]
  },
  {
   "cell_type": "code",
   "execution_count": 5,
   "id": "ece81c75-73d4-4425-acfc-bc8ed9d87c08",
   "metadata": {
    "tags": []
   },
   "outputs": [
    {
     "name": "stdout",
     "output_type": "stream",
     "text": [
      "|    |   age |     bmi |\n",
      "|---:|------:|--------:|\n",
      "|  0 |    70 | 26.6319 |\n",
      "|  1 |    70 | 23.2424 |\n",
      "|  2 |    55 | 27.1161 |\n",
      "|  3 |    88 | 27.4355 |\n",
      "|  4 |    75 | 28.6972 |\n",
      "|  5 |    54 | 18.5616 |\n",
      "|  6 |    70 | 23.6752 |\n",
      "|  7 |    51 | 24.3745 |\n",
      "|  8 |    73 | 22.6555 |\n",
      "|  9 |    49 | 35.2757 |\n",
      "| 10 |    83 | 25.5405 |\n",
      "| 11 |    49 | 24.024  |\n",
      "| 12 |    70 | 22.1429 |\n",
      "| 13 |    70 | 24.4125 |\n",
      "| 14 |    57 | 39.4905 |\n",
      "| 15 |    54 | 25.5445 |\n",
      "| 16 |    48 | 33.4511 |\n",
      "| 17 |    48 | 35.0836 |\n",
      "| 18 |    67 | 26.3127 |\n",
      "| 19 |    61 | 24.6618 |\n",
      "|    |     bmi |   diasbp |   hr |\n",
      "|---:|--------:|---------:|-----:|\n",
      "|  0 | 26.6319 |       76 |   65 |\n",
      "|  1 | 23.2424 |       54 |   76 |\n",
      "|  2 | 27.1161 |       95 |   91 |\n",
      "|  3 | 27.4355 |      100 |   63 |\n",
      "|  4 | 28.6972 |      123 |  154 |\n",
      "|  5 | 18.5616 |       65 |   95 |\n",
      "|  6 | 23.6752 |       53 |   95 |\n",
      "|  7 | 24.3745 |      134 |  133 |\n",
      "|  8 | 22.6555 |       79 |   42 |\n",
      "|  9 | 35.2757 |       77 |  119 |\n",
      "| 10 | 25.5405 |       78 |   89 |\n",
      "| 11 | 24.024  |       60 |   84 |\n",
      "| 12 | 22.1429 |       88 |   83 |\n",
      "| 13 | 24.4125 |       85 |   63 |\n",
      "| 14 | 39.4905 |      116 |   73 |\n",
      "| 15 | 25.5445 |      106 |  104 |\n",
      "| 16 | 33.4511 |      110 |   95 |\n",
      "| 17 | 35.0836 |       80 |   85 |\n",
      "| 18 | 26.3127 |       84 |   93 |\n",
      "| 19 | 24.6618 |       92 |   63 |\n",
      "|    | event_happened   |   event_time |\n",
      "|---:|:-----------------|-------------:|\n",
      "|  0 | True             |          297 |\n",
      "|  1 | True             |            1 |\n",
      "|  2 | True             |         1496 |\n",
      "|  3 | True             |          920 |\n",
      "|  4 | True             |         1671 |\n",
      "|  5 | True             |          865 |\n",
      "|  6 | True             |          905 |\n",
      "|  7 | True             |         2353 |\n",
      "|  8 | True             |           61 |\n",
      "|  9 | True             |         2358 |\n",
      "| 10 | False            |         2178 |\n",
      "| 11 | False            |         2172 |\n",
      "| 12 | False            |         2190 |\n",
      "| 13 | False            |         2131 |\n",
      "| 14 | False            |         2122 |\n",
      "| 15 | False            |         2175 |\n",
      "| 16 | False            |         2173 |\n",
      "| 17 | False            |         2192 |\n",
      "| 18 | False            |         2166 |\n",
      "| 19 | False            |         2168 |\n"
     ]
    }
   ],
   "source": [
    "dfs = []\n",
    "\n",
    "for f in data_dir.iterdir():\n",
    "    df = pd.read_parquet(f)\n",
    "    \n",
    "    print(df.to_markdown())\n",
    "    dfs.append(df)\n",
    "    "
   ]
  },
  {
   "cell_type": "code",
   "execution_count": null,
   "id": "f4d25596-4ddc-4517-8163-4e0831726a17",
   "metadata": {},
   "outputs": [],
   "source": []
  }
 ],
 "metadata": {
  "kernelspec": {
   "display_name": "Python 3 (ipykernel)",
   "language": "python",
   "name": "python3"
  },
  "language_info": {
   "codemirror_mode": {
    "name": "ipython",
    "version": 3
   },
   "file_extension": ".py",
   "mimetype": "text/x-python",
   "name": "python",
   "nbconvert_exporter": "python",
   "pygments_lexer": "ipython3",
   "version": "3.10.9"
  }
 },
 "nbformat": 4,
 "nbformat_minor": 5
}
